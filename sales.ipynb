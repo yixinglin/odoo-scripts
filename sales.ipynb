{
 "cells": [
  {
   "cell_type": "code",
   "execution_count": 1,
   "metadata": {},
   "outputs": [
    {
     "name": "stdout",
     "output_type": "stream",
     "text": [
      "Requirement already satisfied: plotly in .\\venv\\lib\\site-packages (5.24.1)\n",
      "Requirement already satisfied: tenacity>=6.2.0 in .\\venv\\lib\\site-packages (from plotly) (9.0.0)\n",
      "Requirement already satisfied: packaging in .\\venv\\lib\\site-packages (from plotly) (24.2)\n",
      "Requirement already satisfied: pandas in .\\venv\\lib\\site-packages (2.2.3)\n",
      "Requirement already satisfied: numpy>=1.23.2 in .\\venv\\lib\\site-packages (from pandas) (2.2.1)\n",
      "Requirement already satisfied: python-dateutil>=2.8.2 in .\\venv\\lib\\site-packages (from pandas) (2.9.0.post0)\n",
      "Requirement already satisfied: pytz>=2020.1 in .\\venv\\lib\\site-packages (from pandas) (2024.2)\n",
      "Requirement already satisfied: tzdata>=2022.7 in .\\venv\\lib\\site-packages (from pandas) (2024.2)\n",
      "Requirement already satisfied: six>=1.5 in .\\venv\\lib\\site-packages (from python-dateutil>=2.8.2->pandas) (1.17.0)\n",
      "Requirement already satisfied: matplotlib in .\\venv\\lib\\site-packages (3.10.0)\n",
      "Requirement already satisfied: contourpy>=1.0.1 in .\\venv\\lib\\site-packages (from matplotlib) (1.3.1)\n",
      "Requirement already satisfied: cycler>=0.10 in .\\venv\\lib\\site-packages (from matplotlib) (0.12.1)\n",
      "Requirement already satisfied: fonttools>=4.22.0 in .\\venv\\lib\\site-packages (from matplotlib) (4.55.3)\n",
      "Requirement already satisfied: kiwisolver>=1.3.1 in .\\venv\\lib\\site-packages (from matplotlib) (1.4.8)\n",
      "Requirement already satisfied: numpy>=1.23 in .\\venv\\lib\\site-packages (from matplotlib) (2.2.1)\n",
      "Requirement already satisfied: packaging>=20.0 in .\\venv\\lib\\site-packages (from matplotlib) (24.2)\n",
      "Requirement already satisfied: pillow>=8 in .\\venv\\lib\\site-packages (from matplotlib) (11.1.0)\n",
      "Requirement already satisfied: pyparsing>=2.3.1 in .\\venv\\lib\\site-packages (from matplotlib) (3.2.1)\n",
      "Requirement already satisfied: python-dateutil>=2.7 in .\\venv\\lib\\site-packages (from matplotlib) (2.9.0.post0)\n",
      "Requirement already satisfied: six>=1.5 in .\\venv\\lib\\site-packages (from python-dateutil>=2.7->matplotlib) (1.17.0)\n",
      "Requirement already satisfied: openpyxl in .\\venv\\lib\\site-packages (3.1.5)\n",
      "Requirement already satisfied: et-xmlfile in .\\venv\\lib\\site-packages (from openpyxl) (2.0.0)\n",
      "Requirement already satisfied: nbformat in .\\venv\\lib\\site-packages (5.10.4)\n",
      "Requirement already satisfied: fastjsonschema>=2.15 in .\\venv\\lib\\site-packages (from nbformat) (2.21.1)\n",
      "Requirement already satisfied: jsonschema>=2.6 in .\\venv\\lib\\site-packages (from nbformat) (4.23.0)\n",
      "Requirement already satisfied: jupyter-core!=5.0.*,>=4.12 in .\\venv\\lib\\site-packages (from nbformat) (5.7.2)\n",
      "Requirement already satisfied: traitlets>=5.1 in .\\venv\\lib\\site-packages (from nbformat) (5.14.3)\n",
      "Requirement already satisfied: attrs>=22.2.0 in .\\venv\\lib\\site-packages (from jsonschema>=2.6->nbformat) (24.3.0)\n",
      "Requirement already satisfied: jsonschema-specifications>=2023.03.6 in .\\venv\\lib\\site-packages (from jsonschema>=2.6->nbformat) (2024.10.1)\n",
      "Requirement already satisfied: referencing>=0.28.4 in .\\venv\\lib\\site-packages (from jsonschema>=2.6->nbformat) (0.36.1)\n",
      "Requirement already satisfied: rpds-py>=0.7.1 in .\\venv\\lib\\site-packages (from jsonschema>=2.6->nbformat) (0.22.3)\n",
      "Requirement already satisfied: platformdirs>=2.5 in .\\venv\\lib\\site-packages (from jupyter-core!=5.0.*,>=4.12->nbformat) (4.3.6)\n",
      "Requirement already satisfied: pywin32>=300 in .\\venv\\lib\\site-packages (from jupyter-core!=5.0.*,>=4.12->nbformat) (308)\n",
      "Requirement already satisfied: typing-extensions>=4.4.0 in .\\venv\\lib\\site-packages (from referencing>=0.28.4->jsonschema>=2.6->nbformat) (4.12.2)\n"
     ]
    }
   ],
   "source": [
    "! pip install plotly\n",
    "! pip install pandas\n",
    "! pip install matplotlib\n",
    "! pip install openpyxl\n",
    "! pip install nbformat \n"
   ]
  },
  {
   "cell_type": "code",
   "execution_count": 2,
   "metadata": {},
   "outputs": [
    {
     "name": "stdout",
     "output_type": "stream",
     "text": [
      "Odoo API Login\n"
     ]
    }
   ],
   "source": [
    "from rest.base import OdooAPIKey, ProductClient, OdooClient, OdooAPIBase\n",
    "import os\n",
    "# 设置环境变量\n",
    "os.environ['ODOO_ACCESS_KEY'] = 'odoo-api-prod.json'\n",
    "os.environ['ODOO_ACCESS_KEY_INDEX'] = \"0\"\n",
    "\n",
    "api_key = OdooAPIKey.prod()\n",
    "base = OdooAPIBase(api_key)\n",
    "cli = base.client\n"
   ]
  },
  {
   "cell_type": "markdown",
   "metadata": {},
   "source": [
    "### **1.1 总销售额（Revenue/Sales Volume）**\n",
    "- **含义**：\n",
    "  - 统计每个月的销售总额，即所有销售订单的总金额。\n",
    "  - 公式：`总销售额 = 每个产品的售价 × 销售数量（扣除退款或退货金额）`。\n",
    "- **用途**：\n",
    "  - 衡量整体销售表现。\n",
    "  - 分析季节性趋势或特定促销活动对销售的影响。"
   ]
  },
  {
   "cell_type": "code",
   "execution_count": 3,
   "metadata": {},
   "outputs": [
    {
     "name": "stdout",
     "output_type": "stream",
     "text": [
      "{'id': 629, 'campaign_id': False, 'source_id': False, 'medium_id': False, 'activity_ids': [], 'activity_state': False, 'activity_user_id': False, 'activity_type_id': False, 'activity_type_icon': False, 'activity_date_deadline': False, 'my_activity_date_deadline': False, 'activity_summary': False, 'activity_exception_decoration': False, 'activity_exception_icon': False, 'activity_calendar_event_id': False, 'message_is_follower': True, 'message_follower_ids': [5084], 'message_partner_ids': [3], 'message_ids': [13347], 'has_message': True, 'message_needaction': False, 'message_needaction_counter': 0, 'message_has_error': False, 'message_has_error_counter': 0, 'message_attachment_count': 0, 'rating_ids': [], 'website_message_ids': [], 'message_has_sms_error': False, 'access_url': '/my/orders/629', 'access_token': False, 'access_warning': '', 'name': 'AB250562801', 'company_id': [1, 'HansaGT Medical GmbH'], 'partner_id': [47656, 'Marien - Apotheke'], 'state': 'draft', 'locked': False, 'client_order_ref': 'telefonisch bestellt', 'create_date': '2025-01-20 14:13:18', 'commitment_date': '2025-01-22 14:00:00', 'date_order': '2025-01-20 14:10:28', 'origin': False, 'reference': False, 'require_signature': True, 'require_payment': False, 'prepayment_percent': 1.0, 'signature': False, 'signed_by': False, 'signed_on': False, 'validity_date': '2025-02-19', 'journal_id': False, 'note': False, 'partner_invoice_id': [47656, 'Marien - Apotheke'], 'partner_shipping_id': [47656, 'Marien - Apotheke'], 'fiscal_position_id': [1, 'Domestic business partner'], 'payment_term_id': [10, '10 days net'], 'pricelist_id': [1, 'Default EUR pricelist (EUR)'], 'currency_id': [126, 'EUR'], 'currency_rate': 1.0, 'user_id': [2, 'Clara C. Chen'], 'team_id': [1, 'Sales'], 'order_line': [1672], 'amount_untaxed': 50.4, 'amount_tax': 9.58, 'amount_total': 59.98, 'amount_to_invoice': 59.98, 'amount_invoiced': 0.0, 'invoice_count': 0, 'invoice_ids': [], 'invoice_status': 'no', 'transaction_ids': [], 'authorized_transaction_ids': [], 'amount_paid': 0.0, 'analytic_account_id': False, 'tag_ids': [], 'amount_undiscounted': 50.4, 'country_code': 'DE', 'expected_date': '2025-01-21 08:42:29', 'is_expired': False, 'partner_credit_warning': '', 'tax_calculation_rounding_method': 'round_per_line', 'tax_country_id': [57, 'Germany'], 'tax_totals': {'amount_untaxed': 50.4, 'amount_total': 59.980000000000004, 'formatted_amount_total': '59.98\\xa0€', 'formatted_amount_untaxed': '50.40\\xa0€', 'groups_by_subtotal': {'Untaxed Amount': [{'group_key': 7, 'tax_group_id': 7, 'tax_group_name': 'VAT 19%', 'tax_group_amount': 9.58, 'tax_group_base_amount': 50.4, 'formatted_tax_group_amount': '9.58\\xa0€', 'formatted_tax_group_base_amount': '50.40\\xa0€', 'hide_base_amount': False}]}, 'subtotals': [{'name': 'Untaxed Amount', 'amount': 50.4, 'formatted_amount': '50.40\\xa0€'}], 'subtotals_order': ['Untaxed Amount'], 'display_tax_base': False}, 'terms_type': 'plain', 'type_name': 'Quotation', 'show_update_fpos': False, 'has_active_pricelist': True, 'show_update_pricelist': False, 'display_name': 'AB250562801', 'create_uid': [2, 'Clara C. Chen'], 'write_uid': [2, 'Clara C. Chen'], 'write_date': '2025-01-20 14:13:18', 'carrier_id': False, 'delivery_message': False, 'delivery_rating_success': False, 'delivery_set': False, 'recompute_delivery_price': False, 'is_all_service': False, 'shipping_weight': 0.2, 'l10n_din5008_template_data': [['Quotation No.', 'AB250562801'], ['Quotation Date', '01/20/2025'], ['Expiration', '02/19/2025'], ['Customer Reference', 'telefonisch bestellt'], ['Salesperson', 'Clara C. Chen']], 'l10n_din5008_document_title': 'Quotation', 'pending_email_template_id': False, 'opportunity_id': False, 'sale_order_template_id': False, 'sale_order_option_ids': [], 'purchase_order_count': 0, 'is_rental_order': False, 'has_rented_products': False, 'rental_start_date': False, 'rental_return_date': False, 'duration_days': 0, 'remaining_hours': 0, 'show_update_duration': False, 'rental_status': False, 'next_action_date': False, 'has_pickable_lines': False, 'has_returnable_lines': False, 'is_late': False, 'incoterm': False, 'incoterm_location': False, 'picking_policy': 'direct', 'warehouse_id': [1, 'HansaGT Medical GmbH (Lager)'], 'picking_ids': [], 'delivery_count': 0, 'delivery_status': False, 'procurement_group_id': False, 'effective_date': False, 'json_popover': '{\"popoverTemplate\": \"sale_stock.DelayAlertWidget\", \"late_elements\": []}', 'show_json_popover': False, 'amazon_order_ref': False, 'amazon_channel': False, 'tasks_ids': [], 'tasks_count': 0, 'visible_project': False, 'project_id': False, 'project_ids': [], 'project_count': 0, 'milestone_count': 0, 'is_product_milestone': False, 'show_create_project_button': False, 'show_project_button': False, 'show_task_button': False, 'timesheet_count': 0.0, 'timesheet_encode_uom_id': [4, 'Hours'], 'timesheet_total_duration': 0, 'show_hours_recorded_button': False, 'x_studio_internal_notes': '<p>&nbsp;<br></p>', 'x_studio_related_field_94k_1igpm8pkg': '<p>&nbsp;<br></p>', 'x_buyer': False}\n"
     ]
    }
   ],
   "source": [
    "# Get Order Details\n",
    "domain = [('user_id', 'not in', [8, 6])]\n",
    "order_ids = cli.search('sale.order', [domain])\n",
    "orders_ = cli.read('sale.order', [order_ids])\n",
    "print(orders_[0])\n"
   ]
  },
  {
   "cell_type": "code",
   "execution_count": 4,
   "metadata": {},
   "outputs": [
    {
     "data": {
      "text/plain": [
       "{'id': 492,\n",
       " 'campaign_id': False,\n",
       " 'source_id': False,\n",
       " 'medium_id': False,\n",
       " 'activity_ids': [],\n",
       " 'activity_state': False,\n",
       " 'activity_user_id': False,\n",
       " 'activity_type_id': False,\n",
       " 'activity_type_icon': False,\n",
       " 'activity_date_deadline': False,\n",
       " 'my_activity_date_deadline': False,\n",
       " 'activity_summary': False,\n",
       " 'activity_exception_decoration': False,\n",
       " 'activity_exception_icon': False,\n",
       " 'activity_calendar_event_id': False,\n",
       " 'message_is_follower': True,\n",
       " 'message_follower_ids': [3516, 3517, 3521, 3522],\n",
       " 'message_partner_ids': [3, 267, 10140, 7],\n",
       " 'message_ids': [10388, 9341, 9338, 9337, 9336, 9333, 9330],\n",
       " 'has_message': True,\n",
       " 'message_needaction': False,\n",
       " 'message_needaction_counter': 0,\n",
       " 'message_has_error': False,\n",
       " 'message_has_error_counter': 0,\n",
       " 'message_attachment_count': 2,\n",
       " 'rating_ids': [],\n",
       " 'website_message_ids': [9338],\n",
       " 'message_has_sms_error': False,\n",
       " 'access_url': '/my/orders/492',\n",
       " 'access_token': '5fa6ef9b-48fd-458b-8cec-92ffe2513bbd',\n",
       " 'access_warning': '',\n",
       " 'name': 'AB240549111',\n",
       " 'company_id': [1, 'HansaGT Medical GmbH'],\n",
       " 'partner_id': [267, 'Diakoniestiftung Alt-Hamburg - Christophorus Haus'],\n",
       " 'state': 'sale',\n",
       " 'locked': False,\n",
       " 'client_order_ref': False,\n",
       " 'create_date': '2024-11-25 08:37:22',\n",
       " 'commitment_date': '2024-11-27 08:00:00',\n",
       " 'date_order': '2024-11-25 08:37:58',\n",
       " 'origin': False,\n",
       " 'reference': False,\n",
       " 'require_signature': True,\n",
       " 'require_payment': False,\n",
       " 'prepayment_percent': 1.0,\n",
       " 'signature': False,\n",
       " 'signed_by': False,\n",
       " 'signed_on': False,\n",
       " 'validity_date': '2024-12-25',\n",
       " 'journal_id': False,\n",
       " 'note': False,\n",
       " 'partner_invoice_id': [267,\n",
       "  'Diakoniestiftung Alt-Hamburg - Christophorus Haus'],\n",
       " 'partner_shipping_id': [267,\n",
       "  'Diakoniestiftung Alt-Hamburg - Christophorus Haus'],\n",
       " 'fiscal_position_id': [1, 'Domestic business partner'],\n",
       " 'payment_term_id': [10, '10 days net'],\n",
       " 'pricelist_id': [20, 'Diakoniestiftung Alt-Hamburg (EUR)'],\n",
       " 'currency_id': [126, 'EUR'],\n",
       " 'currency_rate': 1.0,\n",
       " 'user_id': [7, 'Alexander Haliw'],\n",
       " 'team_id': [1, 'Sales'],\n",
       " 'order_line': [1205, 1206, 1209],\n",
       " 'amount_untaxed': 248.19,\n",
       " 'amount_tax': 47.16,\n",
       " 'amount_total': 295.35,\n",
       " 'amount_to_invoice': 0.0,\n",
       " 'amount_invoiced': 295.35,\n",
       " 'invoice_count': 1,\n",
       " 'invoice_ids': [1117],\n",
       " 'invoice_status': 'invoiced',\n",
       " 'transaction_ids': [],\n",
       " 'authorized_transaction_ids': [],\n",
       " 'amount_paid': 0.0,\n",
       " 'analytic_account_id': False,\n",
       " 'tag_ids': [],\n",
       " 'amount_undiscounted': 248.19,\n",
       " 'country_code': 'DE',\n",
       " 'expected_date': '2024-11-25 08:37:58',\n",
       " 'is_expired': False,\n",
       " 'partner_credit_warning': '',\n",
       " 'tax_calculation_rounding_method': 'round_per_line',\n",
       " 'tax_country_id': [57, 'Germany'],\n",
       " 'tax_totals': {'amount_untaxed': 248.19,\n",
       "  'amount_total': 295.35,\n",
       "  'formatted_amount_total': '295.35\\xa0€',\n",
       "  'formatted_amount_untaxed': '248.19\\xa0€',\n",
       "  'groups_by_subtotal': {'Untaxed Amount': [{'group_key': 7,\n",
       "     'tax_group_id': 7,\n",
       "     'tax_group_name': 'VAT 19%',\n",
       "     'tax_group_amount': 47.160000000000004,\n",
       "     'tax_group_base_amount': 248.19,\n",
       "     'formatted_tax_group_amount': '47.16\\xa0€',\n",
       "     'formatted_tax_group_base_amount': '248.19\\xa0€',\n",
       "     'hide_base_amount': False}]},\n",
       "  'subtotals': [{'name': 'Untaxed Amount',\n",
       "    'amount': 248.19,\n",
       "    'formatted_amount': '248.19\\xa0€'}],\n",
       "  'subtotals_order': ['Untaxed Amount'],\n",
       "  'display_tax_base': False},\n",
       " 'terms_type': 'plain',\n",
       " 'type_name': 'Sales Order',\n",
       " 'show_update_fpos': False,\n",
       " 'has_active_pricelist': True,\n",
       " 'show_update_pricelist': False,\n",
       " 'display_name': 'AB240549111',\n",
       " 'create_uid': [2, 'Clara C. Chen'],\n",
       " 'write_uid': [2, 'Clara C. Chen'],\n",
       " 'write_date': '2024-12-02 12:58:37',\n",
       " 'carrier_id': [1, 'Standard delivery'],\n",
       " 'delivery_message': False,\n",
       " 'delivery_rating_success': False,\n",
       " 'delivery_set': True,\n",
       " 'recompute_delivery_price': False,\n",
       " 'is_all_service': False,\n",
       " 'shipping_weight': 9.600000000000001,\n",
       " 'l10n_din5008_template_data': [['Order No.', 'AB240549111'],\n",
       "  ['Order Date', '11/25/2024'],\n",
       "  ['Salesperson', 'Alexander Haliw']],\n",
       " 'l10n_din5008_document_title': 'Sales Order',\n",
       " 'pending_email_template_id': False,\n",
       " 'opportunity_id': False,\n",
       " 'sale_order_template_id': False,\n",
       " 'sale_order_option_ids': [],\n",
       " 'purchase_order_count': 0,\n",
       " 'is_rental_order': False,\n",
       " 'has_rented_products': False,\n",
       " 'rental_start_date': False,\n",
       " 'rental_return_date': False,\n",
       " 'duration_days': 0,\n",
       " 'remaining_hours': 0,\n",
       " 'show_update_duration': False,\n",
       " 'rental_status': False,\n",
       " 'next_action_date': False,\n",
       " 'has_pickable_lines': False,\n",
       " 'has_returnable_lines': False,\n",
       " 'is_late': False,\n",
       " 'incoterm': False,\n",
       " 'incoterm_location': False,\n",
       " 'picking_policy': 'direct',\n",
       " 'warehouse_id': [1, 'HansaGT Medical GmbH (Lager)'],\n",
       " 'picking_ids': [336],\n",
       " 'delivery_count': 1,\n",
       " 'delivery_status': 'full',\n",
       " 'procurement_group_id': [269, 'AB240549111'],\n",
       " 'effective_date': '2024-11-25 08:43:15',\n",
       " 'json_popover': '{\"popoverTemplate\": \"sale_stock.DelayAlertWidget\", \"late_elements\": []}',\n",
       " 'show_json_popover': False,\n",
       " 'amazon_order_ref': False,\n",
       " 'amazon_channel': False,\n",
       " 'tasks_ids': [],\n",
       " 'tasks_count': 0,\n",
       " 'visible_project': False,\n",
       " 'project_id': False,\n",
       " 'project_ids': [],\n",
       " 'project_count': 0,\n",
       " 'milestone_count': 0,\n",
       " 'is_product_milestone': False,\n",
       " 'show_create_project_button': False,\n",
       " 'show_project_button': False,\n",
       " 'show_task_button': False,\n",
       " 'timesheet_count': 0.0,\n",
       " 'timesheet_encode_uom_id': [4, 'Hours'],\n",
       " 'timesheet_total_duration': 0,\n",
       " 'show_hours_recorded_button': False,\n",
       " 'x_studio_internal_notes': False,\n",
       " 'x_studio_related_field_94k_1igpm8pkg': False,\n",
       " 'x_buyer': False}"
      ]
     },
     "execution_count": 4,
     "metadata": {},
     "output_type": "execute_result"
    }
   ],
   "source": [
    "orders_[100]"
   ]
  },
  {
   "cell_type": "code",
   "execution_count": 5,
   "metadata": {},
   "outputs": [
    {
     "name": "stdout",
     "output_type": "stream",
     "text": [
      "Length: 916\n",
      "[298, 299, 300, 301, 302, 303, 304, 305, 332, 333]\n"
     ]
    }
   ],
   "source": [
    "# 获取所有orderline的id\n",
    "order_line_ids = set()\n",
    "for od in orders_:\n",
    "    order_line_ids.update(od['order_line'])\n",
    "\n",
    "order_line_ids = list(order_line_ids)\n",
    "\n",
    "print(f\"Length: {len(order_line_ids)}\")\n",
    "print(order_line_ids[:10])"
   ]
  },
  {
   "cell_type": "code",
   "execution_count": 6,
   "metadata": {},
   "outputs": [
    {
     "data": {
      "text/plain": [
       "{'id': 585,\n",
       " 'analytic_distribution': False,\n",
       " 'analytic_distribution_search': False,\n",
       " 'analytic_precision': 2,\n",
       " 'order_id': [279, 'AB240527707'],\n",
       " 'sequence': 13,\n",
       " 'company_id': [1, 'HansaGT Medical GmbH'],\n",
       " 'currency_id': [126, 'EUR'],\n",
       " 'order_partner_id': [288,\n",
       "  'Diakoniestiftung Alt-Hamburg - St. Gertrud Gemeindepflege Alten- und Pflegeheim'],\n",
       " 'salesman_id': [7, 'Alexander Haliw'],\n",
       " 'state': 'sale',\n",
       " 'tax_country_id': [57, 'Germany'],\n",
       " 'display_type': False,\n",
       " 'is_downpayment': False,\n",
       " 'is_expense': False,\n",
       " 'product_id': [1302,\n",
       "  '[MPC- 118245] MP Med® Andickungspulver PLUS Neutral 850 g'],\n",
       " 'product_template_id': [4150,\n",
       "  '[MPC- 118245] MP Med® Andickungspulver PLUS Neutral 850 g'],\n",
       " 'product_uom_category_id': [1, 'Unit'],\n",
       " 'product_custom_attribute_value_ids': [],\n",
       " 'product_no_variant_attribute_value_ids': [],\n",
       " 'name': '[MPM- A21210014] MP Med® Andickungspulver PLUS Neutral 850 g',\n",
       " 'product_uom_qty': 12.0,\n",
       " 'product_uom': [35, 'Bucket'],\n",
       " 'tax_id': [16],\n",
       " 'pricelist_item_id': [346,\n",
       "  'Product: [MPC- 118245] MP Med® Andickungspulver PLUS Neutral 850 g'],\n",
       " 'price_unit': 12.49,\n",
       " 'discount': 0.0,\n",
       " 'price_subtotal': 149.88,\n",
       " 'price_tax': 28.48,\n",
       " 'price_total': 178.36,\n",
       " 'price_reduce_taxexcl': 12.49,\n",
       " 'price_reduce_taxinc': 14.86,\n",
       " 'product_packaging_id': False,\n",
       " 'product_packaging_qty': 0.0,\n",
       " 'customer_lead': 0.0,\n",
       " 'qty_delivered_method': 'stock_move',\n",
       " 'qty_delivered': 12.0,\n",
       " 'qty_invoiced': 12.0,\n",
       " 'qty_to_invoice': 0.0,\n",
       " 'analytic_line_ids': [],\n",
       " 'invoice_lines': [856],\n",
       " 'invoice_status': 'invoiced',\n",
       " 'untaxed_amount_invoiced': 149.88,\n",
       " 'untaxed_amount_to_invoice': 0.0,\n",
       " 'product_type': 'product',\n",
       " 'product_updatable': False,\n",
       " 'product_uom_readonly': True,\n",
       " 'tax_calculation_rounding_method': 'round_per_line',\n",
       " 'display_name': 'AB240527707 - [MPM- A21210014] MP Med® Andickungspulver PLUS Neutral 850 g (02208301)',\n",
       " 'create_uid': [6, 'Xenia Meyer'],\n",
       " 'create_date': '2024-07-31 09:53:35',\n",
       " 'write_uid': [1, 'HansaGT Medical Team'],\n",
       " 'write_date': '2024-09-09 13:38:53',\n",
       " 'is_delivery': False,\n",
       " 'product_qty': 12.0,\n",
       " 'recompute_delivery_price': False,\n",
       " 'sale_order_option_ids': [],\n",
       " 'is_configurable_product': False,\n",
       " 'product_template_attribute_value_ids': [],\n",
       " 'purchase_line_ids': [],\n",
       " 'purchase_line_count': 0,\n",
       " 'is_rental': False,\n",
       " 'qty_returned': 0.0,\n",
       " 'start_date': False,\n",
       " 'return_date': False,\n",
       " 'reservation_begin': False,\n",
       " 'is_product_rentable': False,\n",
       " 'route_id': False,\n",
       " 'move_ids': [514],\n",
       " 'virtual_available_at_date': 0.0,\n",
       " 'scheduled_date': False,\n",
       " 'forecast_expected_date': False,\n",
       " 'free_qty_today': 0.0,\n",
       " 'qty_available_today': 0.0,\n",
       " 'warehouse_id': [1, 'HansaGT Medical GmbH (Lager)'],\n",
       " 'qty_to_deliver': 0.0,\n",
       " 'is_mto': False,\n",
       " 'display_qty_widget': False,\n",
       " 'is_service': False,\n",
       " 'tracking': 'none',\n",
       " 'reserved_lot_ids': [],\n",
       " 'pickedup_lot_ids': [],\n",
       " 'returned_lot_ids': [],\n",
       " 'unavailable_lot_ids': [],\n",
       " 'available_reserved_lots': True,\n",
       " 'amazon_item_ref': False,\n",
       " 'amazon_offer_id': False,\n",
       " 'project_id': False,\n",
       " 'task_id': False,\n",
       " 'reached_milestones_ids': [],\n",
       " 'remaining_hours_available': False,\n",
       " 'remaining_hours': 0.0,\n",
       " 'has_displayed_warning_upsell': False,\n",
       " 'timesheet_ids': []}"
      ]
     },
     "execution_count": 6,
     "metadata": {},
     "output_type": "execute_result"
    }
   ],
   "source": [
    "orderlines_ = cli.read('sale.order.line', [order_line_ids])\n",
    "orderlines_[50]"
   ]
  },
  {
   "cell_type": "code",
   "execution_count": 7,
   "metadata": {},
   "outputs": [
    {
     "name": "stdout",
     "output_type": "stream",
     "text": [
      "Number of orders: 296\n"
     ]
    }
   ],
   "source": [
    "from typing import List, Union\n",
    "from pydantic import BaseModel\n",
    "import pandas as pd\n",
    "\n",
    "sale_orders = []\n",
    "\n",
    "for od in orders_:\n",
    "    so = dict(\n",
    "        id = od['id'],\n",
    "        name = od['name'],\n",
    "        company = od['company_id'][1],\n",
    "        partner = od['partner_id'][1],\n",
    "        state = od['state'],\n",
    "        date_order = od['date_order'],\n",
    "        invoice_status = od['invoice_status'],\n",
    "        shipping_weight = od['shipping_weight'],\n",
    "        orderline_ids = od['order_line']\n",
    "    )\n",
    "    sale_orders.append(so)\n",
    "\n",
    "print(f\"Number of orders: {len(sale_orders)}\")\n",
    "\n",
    "df_sale_order = pd.DataFrame.from_dict(sale_orders)\n",
    "df_sale_order.to_excel(\"data/sales_order.xlsx\", index=False)"
   ]
  },
  {
   "cell_type": "code",
   "execution_count": 8,
   "metadata": {},
   "outputs": [],
   "source": [
    "orderlines = []\n",
    "\n",
    "for odl in orderlines_:    \n",
    "    if odl['display_type'] == 'line_note':\n",
    "        continue\n",
    "    try:\n",
    "        line = {\n",
    "            \"order_number\": odl['order_id'][1],  # 订单号\n",
    "            \"product_name\": odl['name'],  \n",
    "            \"currency\": odl['currency_id'][1], \n",
    "            \"order_partner\": odl['order_partner_id'][1], # 客户\n",
    "            \"salesman\": odl['salesman_id'][1], # 销售员\n",
    "            'state': odl['state'], \n",
    "            'uom': odl['product_uom'][1],  # 单位\n",
    "            'product_uom_qty': odl['product_uom_qty'],   #product_qty\n",
    "            'product_qty': odl['product_qty'],  # 数量\n",
    "            'price_unit': odl['price_unit'],  # 单价\n",
    "            'price_subtotal': odl['price_subtotal'], # 小计\n",
    "            'price_tax': odl['price_tax'], # 含税\n",
    "            'price_total': odl['price_total'], # 总计\n",
    "            'qty_to_invoice': odl['qty_to_invoice'], \n",
    "            'qty_to_deliver': odl['qty_to_deliver'],\n",
    "            'product_type': odl['product_type'],\n",
    "            'create_date': odl['create_date'],            \n",
    "            'is_delivery': odl['is_delivery'],    \n",
    "            # 'discount': odl['discount'],                       \n",
    "        }\n",
    "    except Exception as e:\n",
    "        print(e)\n",
    "        print(odl)\n",
    "    orderlines.append(line)\n",
    "df_sale_order_lines = pd.DataFrame.from_dict(orderlines)\n",
    "df_sale_order_lines['create_date'] = pd.to_datetime(df_sale_order_lines['create_date'], format='%Y-%m-%d %H:%M:%S')\n",
    "df_sale_order_lines.sort_values(by='create_date', inplace=True)\n",
    "df_sale_order_lines.to_excel('data/sales_order_lines.xlsx')\n"
   ]
  },
  {
   "cell_type": "code",
   "execution_count": 9,
   "metadata": {},
   "outputs": [
    {
     "data": {
      "text/plain": [
       "694"
      ]
     },
     "execution_count": 9,
     "metadata": {},
     "output_type": "execute_result"
    }
   ],
   "source": [
    "import datetime\n",
    "# 数据清洗\n",
    "\n",
    "# 被取消的orderlines\n",
    "df_filtered_orderlines = df_sale_order_lines[df_sale_order_lines['state']== 'sale']\n",
    "\n",
    "# 过去180天内的订单\n",
    "today = datetime.datetime.now()\n",
    "past_days = today - datetime.timedelta(days=180)\n",
    "df_filtered_orderlines = df_filtered_orderlines[df_filtered_orderlines['create_date'] >= past_days]\n",
    "\n",
    "# product_type == product\n",
    "df_filtered_orderlines = df_filtered_orderlines[df_filtered_orderlines['product_type']== 'product']\n",
    "# qty_to_invoice == 0 and qty_to_deliver == 0\n",
    "qty_to_invoice_zero = df_filtered_orderlines['qty_to_invoice'] == 0\n",
    "qty_to_deliver_zero = df_filtered_orderlines['qty_to_deliver'] == 0\n",
    "df_filtered_orderlines = df_filtered_orderlines[qty_to_invoice_zero & qty_to_deliver_zero]\n",
    "\n",
    "# price_unit != 0\n",
    "df_filtered_orderlines = df_filtered_orderlines[df_filtered_orderlines['price_unit']!= 0]\n",
    "\n",
    "# Create month, year columns, 2024-07-25 10:46:01 to 2024-07\n",
    "df_filtered_orderlines['year'] = df_filtered_orderlines['create_date'].dt.strftime('%Y')\n",
    "df_filtered_orderlines['month'] = df_filtered_orderlines['create_date'].dt.strftime('%Y-%m')\n",
    "\n",
    "df_filtered_orderlines.to_excel('data/sales_order_lines.xlsx')\n",
    "len(df_filtered_orderlines)\n"
   ]
  },
  {
   "cell_type": "markdown",
   "metadata": {},
   "source": [
    "## 按订单号聚合"
   ]
  },
  {
   "cell_type": "code",
   "execution_count": 32,
   "metadata": {},
   "outputs": [
    {
     "data": {
      "text/html": [
       "<div>\n",
       "<style scoped>\n",
       "    .dataframe tbody tr th:only-of-type {\n",
       "        vertical-align: middle;\n",
       "    }\n",
       "\n",
       "    .dataframe tbody tr th {\n",
       "        vertical-align: top;\n",
       "    }\n",
       "\n",
       "    .dataframe thead th {\n",
       "        text-align: right;\n",
       "    }\n",
       "</style>\n",
       "<table border=\"1\" class=\"dataframe\">\n",
       "  <thead>\n",
       "    <tr style=\"text-align: right;\">\n",
       "      <th></th>\n",
       "      <th>order_number</th>\n",
       "      <th>create_date</th>\n",
       "      <th>order_partner</th>\n",
       "      <th>salesman</th>\n",
       "      <th>price_tax</th>\n",
       "      <th>price_subtotal</th>\n",
       "    </tr>\n",
       "  </thead>\n",
       "  <tbody>\n",
       "    <tr>\n",
       "      <th>0</th>\n",
       "      <td>AB240527107</td>\n",
       "      <td>2024-07-25 10:46:01</td>\n",
       "      <td>Alten- und Pflegeheim St. Elisabeth</td>\n",
       "      <td>Alexander Haliw</td>\n",
       "      <td>98.56</td>\n",
       "      <td>518.76</td>\n",
       "    </tr>\n",
       "    <tr>\n",
       "      <th>1</th>\n",
       "      <td>AB240527207</td>\n",
       "      <td>2024-07-26 09:17:37</td>\n",
       "      <td>AWO Bezirk Hannover gGmbH</td>\n",
       "      <td>Alexander Haliw</td>\n",
       "      <td>62.99</td>\n",
       "      <td>331.50</td>\n",
       "    </tr>\n",
       "    <tr>\n",
       "      <th>2</th>\n",
       "      <td>AB240527307</td>\n",
       "      <td>2024-07-29 14:20:41</td>\n",
       "      <td>Haus Itzstedt</td>\n",
       "      <td>Alexander Haliw</td>\n",
       "      <td>49.94</td>\n",
       "      <td>262.80</td>\n",
       "    </tr>\n",
       "    <tr>\n",
       "      <th>3</th>\n",
       "      <td>AB240527407</td>\n",
       "      <td>2024-07-30 11:26:50</td>\n",
       "      <td>Senioren- und Pflegeheim Elbuferpark</td>\n",
       "      <td>Alexander Haliw</td>\n",
       "      <td>38.96</td>\n",
       "      <td>205.00</td>\n",
       "    </tr>\n",
       "    <tr>\n",
       "      <th>4</th>\n",
       "      <td>AB240527507</td>\n",
       "      <td>2024-07-30 12:41:19</td>\n",
       "      <td>Gesundheits- und Pflegezentrum Goldenherz</td>\n",
       "      <td>Alexander Haliw</td>\n",
       "      <td>503.58</td>\n",
       "      <td>2650.38</td>\n",
       "    </tr>\n",
       "    <tr>\n",
       "      <th>5</th>\n",
       "      <td>AB240527607</td>\n",
       "      <td>2024-07-30 12:55:29</td>\n",
       "      <td>Hanse Medical GmbH</td>\n",
       "      <td>Alexander Haliw</td>\n",
       "      <td>7.94</td>\n",
       "      <td>41.80</td>\n",
       "    </tr>\n",
       "    <tr>\n",
       "      <th>6</th>\n",
       "      <td>AB240527707</td>\n",
       "      <td>2024-07-31 09:53:35</td>\n",
       "      <td>Diakoniestiftung Alt-Hamburg - St. Gertrud Gem...</td>\n",
       "      <td>Alexander Haliw</td>\n",
       "      <td>98.60</td>\n",
       "      <td>518.88</td>\n",
       "    </tr>\n",
       "    <tr>\n",
       "      <th>7</th>\n",
       "      <td>AB240527807</td>\n",
       "      <td>2024-07-31 12:35:43</td>\n",
       "      <td>Hospiz Sinus Othmarschen</td>\n",
       "      <td>Alexander Haliw</td>\n",
       "      <td>48.40</td>\n",
       "      <td>254.74</td>\n",
       "    </tr>\n",
       "    <tr>\n",
       "      <th>8</th>\n",
       "      <td>AB240528008</td>\n",
       "      <td>2024-08-01 09:33:10</td>\n",
       "      <td>Diakoniestiftung Alt-Hamburg - Bodemann Heim</td>\n",
       "      <td>Alexander Haliw</td>\n",
       "      <td>117.28</td>\n",
       "      <td>617.33</td>\n",
       "    </tr>\n",
       "    <tr>\n",
       "      <th>9</th>\n",
       "      <td>AB240528108</td>\n",
       "      <td>2024-08-01 11:08:55</td>\n",
       "      <td>Alten- und Pflegeheim Bellevue</td>\n",
       "      <td>Alexander Haliw</td>\n",
       "      <td>86.38</td>\n",
       "      <td>454.68</td>\n",
       "    </tr>\n",
       "  </tbody>\n",
       "</table>\n",
       "</div>"
      ],
      "text/plain": [
       "  order_number         create_date  \\\n",
       "0  AB240527107 2024-07-25 10:46:01   \n",
       "1  AB240527207 2024-07-26 09:17:37   \n",
       "2  AB240527307 2024-07-29 14:20:41   \n",
       "3  AB240527407 2024-07-30 11:26:50   \n",
       "4  AB240527507 2024-07-30 12:41:19   \n",
       "5  AB240527607 2024-07-30 12:55:29   \n",
       "6  AB240527707 2024-07-31 09:53:35   \n",
       "7  AB240527807 2024-07-31 12:35:43   \n",
       "8  AB240528008 2024-08-01 09:33:10   \n",
       "9  AB240528108 2024-08-01 11:08:55   \n",
       "\n",
       "                                       order_partner         salesman  \\\n",
       "0                Alten- und Pflegeheim St. Elisabeth  Alexander Haliw   \n",
       "1                          AWO Bezirk Hannover gGmbH  Alexander Haliw   \n",
       "2                                      Haus Itzstedt  Alexander Haliw   \n",
       "3               Senioren- und Pflegeheim Elbuferpark  Alexander Haliw   \n",
       "4          Gesundheits- und Pflegezentrum Goldenherz  Alexander Haliw   \n",
       "5                                 Hanse Medical GmbH  Alexander Haliw   \n",
       "6  Diakoniestiftung Alt-Hamburg - St. Gertrud Gem...  Alexander Haliw   \n",
       "7                           Hospiz Sinus Othmarschen  Alexander Haliw   \n",
       "8       Diakoniestiftung Alt-Hamburg - Bodemann Heim  Alexander Haliw   \n",
       "9                     Alten- und Pflegeheim Bellevue  Alexander Haliw   \n",
       "\n",
       "   price_tax  price_subtotal  \n",
       "0      98.56          518.76  \n",
       "1      62.99          331.50  \n",
       "2      49.94          262.80  \n",
       "3      38.96          205.00  \n",
       "4     503.58         2650.38  \n",
       "5       7.94           41.80  \n",
       "6      98.60          518.88  \n",
       "7      48.40          254.74  \n",
       "8     117.28          617.33  \n",
       "9      86.38          454.68  "
      ]
     },
     "execution_count": 32,
     "metadata": {},
     "output_type": "execute_result"
    }
   ],
   "source": [
    "odoo_sales_orderlines = df_filtered_orderlines.copy()\n",
    "# 按订单号聚合订单明细.\n",
    "df_agg_orderlines = odoo_sales_orderlines.groupby('order_number')  \\\n",
    "    .agg({'create_date': 'first', \n",
    "          'order_partner': 'first', 'salesman': 'first', \n",
    "          'price_tax': 'sum',  'price_subtotal': 'sum'}) \\\n",
    "    .reset_index()\n",
    "\n",
    "df_agg_orderlines.head(10)"
   ]
  },
  {
   "cell_type": "markdown",
   "metadata": {},
   "source": [
    "## 统计每一个客户的销售额 (不含运费，不含未结的)\n",
    "\n",
    "### 基于 RFM 模型\n",
    "RFM 是一种经典的客户分析模型，基于以下三个维度计算客户忠诚度：\n",
    "\n",
    "1. Recency（最近一次购买时间）：\n",
    "  - 距离最近一次购买时间的天数，值越小表明客户越活跃。\n",
    "2. Frequency（购买频率）：\n",
    "  - 客户的总购买次数，值越大表明客户越忠诚。\n",
    "3. Monetary（消费金额）：\n",
    "  - 客户的总消费金额，值越大表明客户贡献越高。"
   ]
  },
  {
   "cell_type": "code",
   "execution_count": 33,
   "metadata": {},
   "outputs": [
    {
     "name": "stderr",
     "output_type": "stream",
     "text": [
      "C:\\Users\\Lin\\AppData\\Local\\Temp\\ipykernel_428\\3710685609.py:24: FutureWarning:\n",
      "\n",
      "The provided callable <built-in function sum> is currently using SeriesGroupBy.sum. In a future version of pandas, the provided callable will be used directly. To keep current behavior pass the string \"sum\" instead.\n",
      "\n"
     ]
    },
    {
     "data": {
      "text/html": [
       "<div>\n",
       "<style scoped>\n",
       "    .dataframe tbody tr th:only-of-type {\n",
       "        vertical-align: middle;\n",
       "    }\n",
       "\n",
       "    .dataframe tbody tr th {\n",
       "        vertical-align: top;\n",
       "    }\n",
       "\n",
       "    .dataframe thead th {\n",
       "        text-align: right;\n",
       "    }\n",
       "</style>\n",
       "<table border=\"1\" class=\"dataframe\">\n",
       "  <thead>\n",
       "    <tr style=\"text-align: right;\">\n",
       "      <th></th>\n",
       "      <th>order_partner</th>\n",
       "      <th>price_subtotal</th>\n",
       "      <th>currency</th>\n",
       "      <th>order_count</th>\n",
       "      <th>avg_order_price</th>\n",
       "      <th>last_order_days</th>\n",
       "      <th>monetary_score</th>\n",
       "      <th>frequency_score</th>\n",
       "      <th>recency_score</th>\n",
       "      <th>loyalty_score</th>\n",
       "      <th>tag</th>\n",
       "    </tr>\n",
       "  </thead>\n",
       "  <tbody>\n",
       "    <tr>\n",
       "      <th>0</th>\n",
       "      <td>Residenz Beinsen am Klosterpark Wienhausen GmbH</td>\n",
       "      <td>13695.41</td>\n",
       "      <td>EUR</td>\n",
       "      <td>34</td>\n",
       "      <td>402.81</td>\n",
       "      <td>11</td>\n",
       "      <td>5</td>\n",
       "      <td>5</td>\n",
       "      <td>5</td>\n",
       "      <td>5.0</td>\n",
       "      <td>High-Value Customers</td>\n",
       "    </tr>\n",
       "    <tr>\n",
       "      <th>1</th>\n",
       "      <td>Gesundheits- und Pflegezentrum Goldenherz</td>\n",
       "      <td>13630.52</td>\n",
       "      <td>EUR</td>\n",
       "      <td>12</td>\n",
       "      <td>1135.88</td>\n",
       "      <td>15</td>\n",
       "      <td>5</td>\n",
       "      <td>5</td>\n",
       "      <td>4</td>\n",
       "      <td>4.7</td>\n",
       "      <td>High-Value Customers</td>\n",
       "    </tr>\n",
       "    <tr>\n",
       "      <th>2</th>\n",
       "      <td>BUDNI Handels- und Service GmbH &amp; Co. KG</td>\n",
       "      <td>10777.50</td>\n",
       "      <td>EUR</td>\n",
       "      <td>1</td>\n",
       "      <td>10777.50</td>\n",
       "      <td>20</td>\n",
       "      <td>5</td>\n",
       "      <td>1</td>\n",
       "      <td>3</td>\n",
       "      <td>3.0</td>\n",
       "      <td>Others</td>\n",
       "    </tr>\n",
       "    <tr>\n",
       "      <th>3</th>\n",
       "      <td>Diakoniestiftung Alt-Hamburg - Matthias-Claudi...</td>\n",
       "      <td>7973.46</td>\n",
       "      <td>EUR</td>\n",
       "      <td>15</td>\n",
       "      <td>531.56</td>\n",
       "      <td>15</td>\n",
       "      <td>5</td>\n",
       "      <td>5</td>\n",
       "      <td>4</td>\n",
       "      <td>4.7</td>\n",
       "      <td>High-Value Customers</td>\n",
       "    </tr>\n",
       "    <tr>\n",
       "      <th>4</th>\n",
       "      <td>Diakoniestiftung Alt-Hamburg - Marie Kroos-Stift</td>\n",
       "      <td>6910.36</td>\n",
       "      <td>EUR</td>\n",
       "      <td>7</td>\n",
       "      <td>987.19</td>\n",
       "      <td>7</td>\n",
       "      <td>5</td>\n",
       "      <td>4</td>\n",
       "      <td>5</td>\n",
       "      <td>4.7</td>\n",
       "      <td>High-Value Customers</td>\n",
       "    </tr>\n",
       "    <tr>\n",
       "      <th>5</th>\n",
       "      <td>Seniorenzentrum Garstedt Haus am Berg GmbH</td>\n",
       "      <td>6063.00</td>\n",
       "      <td>EUR</td>\n",
       "      <td>6</td>\n",
       "      <td>1010.50</td>\n",
       "      <td>14</td>\n",
       "      <td>5</td>\n",
       "      <td>4</td>\n",
       "      <td>4</td>\n",
       "      <td>4.3</td>\n",
       "      <td>High-Value Customers</td>\n",
       "    </tr>\n",
       "    <tr>\n",
       "      <th>6</th>\n",
       "      <td>Diakoniestiftung Alt-Hamburg - Altenzentrum An...</td>\n",
       "      <td>4343.78</td>\n",
       "      <td>EUR</td>\n",
       "      <td>8</td>\n",
       "      <td>542.97</td>\n",
       "      <td>35</td>\n",
       "      <td>5</td>\n",
       "      <td>5</td>\n",
       "      <td>3</td>\n",
       "      <td>4.3</td>\n",
       "      <td>High-Value Customers</td>\n",
       "    </tr>\n",
       "    <tr>\n",
       "      <th>7</th>\n",
       "      <td>Diakoniestiftung Alt-Hamburg - Christophorus Haus</td>\n",
       "      <td>4223.22</td>\n",
       "      <td>EUR</td>\n",
       "      <td>10</td>\n",
       "      <td>422.32</td>\n",
       "      <td>41</td>\n",
       "      <td>5</td>\n",
       "      <td>5</td>\n",
       "      <td>3</td>\n",
       "      <td>4.3</td>\n",
       "      <td>High-Value Customers</td>\n",
       "    </tr>\n",
       "    <tr>\n",
       "      <th>8</th>\n",
       "      <td>Gesundheits- und Pflegezentrum Goldenherz, And...</td>\n",
       "      <td>4140.00</td>\n",
       "      <td>EUR</td>\n",
       "      <td>1</td>\n",
       "      <td>4140.00</td>\n",
       "      <td>92</td>\n",
       "      <td>5</td>\n",
       "      <td>1</td>\n",
       "      <td>2</td>\n",
       "      <td>2.7</td>\n",
       "      <td>Others</td>\n",
       "    </tr>\n",
       "    <tr>\n",
       "      <th>9</th>\n",
       "      <td>Senioren- und Therapiezentrum Haus an der Stör...</td>\n",
       "      <td>3762.00</td>\n",
       "      <td>EUR</td>\n",
       "      <td>2</td>\n",
       "      <td>1881.00</td>\n",
       "      <td>34</td>\n",
       "      <td>5</td>\n",
       "      <td>3</td>\n",
       "      <td>3</td>\n",
       "      <td>3.7</td>\n",
       "      <td>Others</td>\n",
       "    </tr>\n",
       "  </tbody>\n",
       "</table>\n",
       "</div>"
      ],
      "text/plain": [
       "                                       order_partner  price_subtotal currency  \\\n",
       "0    Residenz Beinsen am Klosterpark Wienhausen GmbH        13695.41      EUR   \n",
       "1          Gesundheits- und Pflegezentrum Goldenherz        13630.52      EUR   \n",
       "2           BUDNI Handels- und Service GmbH & Co. KG        10777.50      EUR   \n",
       "3  Diakoniestiftung Alt-Hamburg - Matthias-Claudi...         7973.46      EUR   \n",
       "4   Diakoniestiftung Alt-Hamburg - Marie Kroos-Stift         6910.36      EUR   \n",
       "5         Seniorenzentrum Garstedt Haus am Berg GmbH         6063.00      EUR   \n",
       "6  Diakoniestiftung Alt-Hamburg - Altenzentrum An...         4343.78      EUR   \n",
       "7  Diakoniestiftung Alt-Hamburg - Christophorus Haus         4223.22      EUR   \n",
       "8  Gesundheits- und Pflegezentrum Goldenherz, And...         4140.00      EUR   \n",
       "9  Senioren- und Therapiezentrum Haus an der Stör...         3762.00      EUR   \n",
       "\n",
       "   order_count  avg_order_price  last_order_days monetary_score  \\\n",
       "0           34           402.81               11              5   \n",
       "1           12          1135.88               15              5   \n",
       "2            1         10777.50               20              5   \n",
       "3           15           531.56               15              5   \n",
       "4            7           987.19                7              5   \n",
       "5            6          1010.50               14              5   \n",
       "6            8           542.97               35              5   \n",
       "7           10           422.32               41              5   \n",
       "8            1          4140.00               92              5   \n",
       "9            2          1881.00               34              5   \n",
       "\n",
       "  frequency_score recency_score  loyalty_score                   tag  \n",
       "0               5             5            5.0  High-Value Customers  \n",
       "1               5             4            4.7  High-Value Customers  \n",
       "2               1             3            3.0                Others  \n",
       "3               5             4            4.7  High-Value Customers  \n",
       "4               4             5            4.7  High-Value Customers  \n",
       "5               4             4            4.3  High-Value Customers  \n",
       "6               5             3            4.3  High-Value Customers  \n",
       "7               5             3            4.3  High-Value Customers  \n",
       "8               1             2            2.7                Others  \n",
       "9               3             3            3.7                Others  "
      ]
     },
     "execution_count": 33,
     "metadata": {},
     "output_type": "execute_result"
    }
   ],
   "source": [
    "import time \n",
    "import numpy as np\n",
    "\n",
    "def classify_customer(row):\n",
    "    \"\"\"\n",
    "    Classify customers into different types based on their RFM scores.\n",
    "    \"\"\"\n",
    "    # 高价值客户: 忠诚度评分较高，购买金额、频率较高，且最近购买时间较短。\n",
    "    if row['loyalty_score'] >= 4.0:\n",
    "        return 'High-Value Customers'\n",
    "    # 潜在流失客户: 最近购买时间较久，频率较高，曾经是重要客户，但可能流失。\n",
    "    elif row['recency_score'] in [1, 2] and row['frequency_score'] >= 4 and row['monetary_score'] >= 4:\n",
    "        return 'At-Risk Customers'\n",
    "    # 新客户: 最近购买时间短，但购买频率和金额较低。\n",
    "    elif row['recency_score'] >= 4 and row['frequency_score'] <= 2 and row['monetary_score'] <= 2:\n",
    "        return 'New Customers'\n",
    "    # 其他客户\n",
    "    else:\n",
    "        return 'Others'\n",
    "    \n",
    "reference_date = pd.Timestamp.now()\n",
    "# 统计每一个客户的销售额 (不含运费，不含未结的)\n",
    "df_customer_sales = odoo_sales_orderlines.groupby('order_partner') \\\n",
    "                        .agg({'price_subtotal': sum, 'currency': 'first', 'order_number': 'nunique'}) \\\n",
    "                        # .reset_index()\n",
    "\n",
    "df_customer_sales = df_customer_sales.rename(columns={'order_number': 'order_count'})\n",
    "\n",
    "df_customer_sales = df_customer_sales.sort_values('price_subtotal', ascending=False)\n",
    "df_customer_sales['avg_order_price'] = df_customer_sales['price_subtotal'] / df_customer_sales['order_count']\n",
    "df_customer_sales['avg_order_price'] = df_customer_sales['avg_order_price'].round(2)\n",
    "\n",
    "# 距离上次购买时间 (天)\n",
    "last_order_days = odoo_sales_orderlines.groupby('order_partner')['create_date'].max().reset_index()\n",
    "last_order_days['last_order_days'] = (reference_date - last_order_days['create_date']).dt.days\n",
    "df_customer_sales = pd.merge(df_customer_sales, last_order_days[['order_partner', 'last_order_days']], on='order_partner', how='left')\n",
    "\n",
    "# 订单金额评分\n",
    "df_customer_sales['monetary_score'] = pd.qcut(df_customer_sales['price_subtotal'], 5, labels=[1, 2, 3, 4, 5])\n",
    "# 订单次数评分\n",
    "df_customer_sales['noisy_order_count'] = df_customer_sales['order_count'] + np.random.uniform(0, 0.01, size=len(df_customer_sales))\n",
    "df_customer_sales['frequency_score'] = pd.qcut(df_customer_sales['noisy_order_count'], 5, labels=[1, 2, 3, 4, 5])\n",
    "# 回购评分\n",
    "df_customer_sales['recency_score'] = pd.qcut(df_customer_sales['last_order_days'], 5, labels=[5, 4, 3, 2, 1])\n",
    "\n",
    "df_customer_sales.drop(columns=['noisy_order_count'], inplace=True)\n",
    "\n",
    "# 忠诚度得分：综合 RFM 评分（可加权）\n",
    "df_customer_sales['loyalty_score'] = df_customer_sales['recency_score'].astype(int) + \\\n",
    "                      df_customer_sales['frequency_score'].astype(int) + \\\n",
    "                      df_customer_sales['monetary_score'].astype(int)\n",
    "df_customer_sales['loyalty_score'] = df_customer_sales['loyalty_score'] / 3\n",
    "df_customer_sales['loyalty_score'] = df_customer_sales['loyalty_score'].round(1)\n",
    "\n",
    "# 客户类型分类\n",
    "df_customer_sales['tag'] = df_customer_sales.apply(classify_customer, axis=1)\n",
    "\n",
    "customer_sort_by_sales = df_customer_sales['order_partner'].tolist()\n",
    "df_customer_sales.head(10)\n",
    "\n"
   ]
  },
  {
   "cell_type": "code",
   "execution_count": 12,
   "metadata": {},
   "outputs": [
    {
     "data": {
      "text/html": [
       "<div>\n",
       "<style scoped>\n",
       "    .dataframe tbody tr th:only-of-type {\n",
       "        vertical-align: middle;\n",
       "    }\n",
       "\n",
       "    .dataframe tbody tr th {\n",
       "        vertical-align: top;\n",
       "    }\n",
       "\n",
       "    .dataframe thead th {\n",
       "        text-align: right;\n",
       "    }\n",
       "</style>\n",
       "<table border=\"1\" class=\"dataframe\">\n",
       "  <thead>\n",
       "    <tr style=\"text-align: right;\">\n",
       "      <th></th>\n",
       "      <th>Customer Segment</th>\n",
       "      <th>Count</th>\n",
       "    </tr>\n",
       "  </thead>\n",
       "  <tbody>\n",
       "    <tr>\n",
       "      <th>0</th>\n",
       "      <td>Others</td>\n",
       "      <td>29</td>\n",
       "    </tr>\n",
       "    <tr>\n",
       "      <th>1</th>\n",
       "      <td>High-Value Customers</td>\n",
       "      <td>16</td>\n",
       "    </tr>\n",
       "    <tr>\n",
       "      <th>2</th>\n",
       "      <td>New Customers</td>\n",
       "      <td>3</td>\n",
       "    </tr>\n",
       "    <tr>\n",
       "      <th>3</th>\n",
       "      <td>At-Risk Customers</td>\n",
       "      <td>2</td>\n",
       "    </tr>\n",
       "  </tbody>\n",
       "</table>\n",
       "</div>"
      ],
      "text/plain": [
       "       Customer Segment  Count\n",
       "0                Others     29\n",
       "1  High-Value Customers     16\n",
       "2         New Customers      3\n",
       "3     At-Risk Customers      2"
      ]
     },
     "execution_count": 12,
     "metadata": {},
     "output_type": "execute_result"
    }
   ],
   "source": [
    "segment_summary = df_customer_sales['tag'].value_counts().reset_index()\n",
    "segment_summary.columns = ['Customer Segment', 'Count']\n",
    "segment_summary"
   ]
  },
  {
   "cell_type": "code",
   "execution_count": 13,
   "metadata": {},
   "outputs": [
    {
     "data": {
      "image/png": "[encoded data removed]",
      "text/plain": [
       "<Figure size 1600x1200 with 4 Axes>"
      ]
     },
     "metadata": {},
     "output_type": "display_data"
    }
   ],
   "source": [
    "import matplotlib.pyplot as plt\n",
    "import seaborn as sns\n",
    "\n",
    "# 创建画布和子图布局\n",
    "fig, axes = plt.subplots(2, 2, figsize=(16, 12))  # 2x2 子图布局\n",
    "\n",
    "# 图 1: 饼图 - Customer Segments Distribution\n",
    "axes[0, 0].pie(\n",
    "    segment_summary['Count'], \n",
    "    labels=segment_summary['Customer Segment'], \n",
    "    autopct='%1.1f%%', \n",
    "    startangle=140\n",
    ")\n",
    "\n",
    "axes[0, 0].set_title('Verteilung der Kundenklassen', fontsize=14)\n",
    "\n",
    "\n",
    "# 图 2: 销售额分布 - Distribution of Total Sales\n",
    "sns.histplot(df_customer_sales['price_subtotal'], bins=20, kde=False, ax=axes[0, 1])\n",
    "axes[0, 1].set_title('Verteilung des Gesamtumsatzes', fontsize=14)\n",
    "axes[0, 1].set_xlabel('Gesamtumsatz - Netto (EUR)', fontsize=12)\n",
    "axes[0, 1].set_ylabel('Anzahl der Kunden', fontsize=12)\n",
    "axes[0, 1].grid(alpha=0.5)\n",
    "\n",
    "# 图 3: 订单量分布 - Distribution of Total Orders\n",
    "sns.histplot(df_customer_sales['order_count'], bins=20, kde=False, ax=axes[1, 0])\n",
    "axes[1, 0].set_title('Verteilung der Gesamtbestellungen', fontsize=14)\n",
    "axes[1, 0].set_xlabel('Auftragsmenge', fontsize=12)\n",
    "axes[1, 0].set_ylabel('Anzahl der Kunden', fontsize=12)\n",
    "axes[1, 0].grid(alpha=0.5)\n",
    "\n",
    "# 图 4: 回购率分布 - Distribution of Days Since Last Order\n",
    "sns.histplot(df_customer_sales['last_order_days'], bins=20, kde=False, ax=axes[1, 1])\n",
    "axes[1, 1].set_title('Verteilung der Tage seit der letzten Bestellung', fontsize=14)\n",
    "axes[1, 1].set_xlabel('Zuletzte Bestelltage', fontsize=12)\n",
    "axes[1, 1].set_ylabel('Anzahl der Kunden', fontsize=12)\n",
    "axes[1, 1].grid(alpha=0.5)\n",
    "\n",
    "# 调整布局并保存图表\n",
    "plt.tight_layout()\n",
    "plt.savefig('data/sales_chart.png')  # 保存为 PNG 文件\n",
    "plt.show()\n"
   ]
  },
  {
   "cell_type": "markdown",
   "metadata": {},
   "source": [
    "散点图：\n",
    "- 上方的点：该客户很可能已经流失\n",
    "- 下方的点：该客户订购比较积极。\n",
    "- 左方的点：该客户为小额客户。\n",
    "- 右方的点：该客户为大额客户。\n",
    "- 右上方的点：该客户是大额客户，但很可能已经流失。\n",
    "- 左上方的点：该客户是小额客户，且很可能已经流失。\n",
    "- 右下方的点：该客户是大额客户，且很可能是忠实客户。\n",
    "- 若左半边的点很大：说明客户偏向于小额频繁订购。因此我们需要花费更多的运费。\n",
    "- 若左下方的点很小：该客户很可能是新客户。"
   ]
  },
  {
   "cell_type": "code",
   "execution_count": 14,
   "metadata": {},
   "outputs": [
    {
     "data": {
      "application/vnd.plotly.v1+json": {
       "config": {
        "plotlyServerURL": "https://plot.ly"
       },
       "data": [
        {
         "customdata": [
          [
           402.81,
           34,
           3400,
           "High-Value Customers"
          ],
          [
           1135.88,
           12,
           1200,
           "High-Value Customers"
          ],
          [
           10777.5,
           1,
           100,
           "Others"
          ],
          [
           531.56,
           15,
           1500,
           "High-Value Customers"
          ],
          [
           987.19,
           7,
           700,
           "High-Value Customers"
          ],
          [
           1010.5,
           6,
           600,
           "High-Value Customers"
          ],
          [
           542.97,
           8,
           800,
           "High-Value Customers"
          ],
          [
           422.32,
           10,
           1000,
           "High-Value Customers"
          ],
          [
           4140,
           1,
           100,
           "Others"
          ],
          [
           1881,
           2,
           200,
           "Others"
          ],
          [
           617.68,
           6,
           600,
           "At-Risk Customers"
          ],
          [
           408.94,
           9,
           900,
           "High-Value Customers"
          ],
          [
           448.66,
           8,
           800,
           "High-Value Customers"
          ],
          [
           956.67,
           3,
           300,
           "Others"
          ],
          [
           342.72,
           8,
           800,
           "High-Value Customers"
          ],
          [
           223.16,
           12,
           1200,
           "High-Value Customers"
          ],
          [
           661.12,
           4,
           400,
           "High-Value Customers"
          ],
          [
           367.41,
           7,
           700,
           "At-Risk Customers"
          ],
          [
           317.86,
           7,
           700,
           "High-Value Customers"
          ],
          [
           394.63,
           5,
           500,
           "High-Value Customers"
          ],
          [
           649.17,
           3,
           300,
           "Others"
          ],
          [
           472.5,
           4,
           400,
           "High-Value Customers"
          ],
          [
           235.46,
           8,
           800,
           "High-Value Customers"
          ],
          [
           715,
           2,
           200,
           "Others"
          ],
          [
           512.5,
           2,
           200,
           "Others"
          ],
          [
           512.14,
           2,
           200,
           "Others"
          ],
          [
           330.25,
           3,
           300,
           "Others"
          ],
          [
           495,
           2,
           200,
           "Others"
          ],
          [
           880.58,
           1,
           100,
           "Others"
          ],
          [
           275.51,
           3,
           300,
           "Others"
          ],
          [
           386.45,
           2,
           200,
           "New Customers"
          ],
          [
           232.33,
           3,
           300,
           "Others"
          ],
          [
           530,
           1,
           100,
           "Others"
          ],
          [
           450,
           1,
           100,
           "Others"
          ],
          [
           380,
           1,
           100,
           "Others"
          ],
          [
           331.5,
           1,
           100,
           "Others"
          ],
          [
           76.65,
           4,
           400,
           "Others"
          ],
          [
           290,
           1,
           100,
           "Others"
          ],
          [
           144.5,
           2,
           200,
           "Others"
          ],
          [
           262.8,
           1,
           100,
           "Others"
          ],
          [
           205,
           1,
           100,
           "Others"
          ],
          [
           169.9,
           1,
           100,
           "Others"
          ],
          [
           47.58,
           3,
           300,
           "Others"
          ],
          [
           140,
           1,
           100,
           "Others"
          ],
          [
           103.6,
           1,
           100,
           "New Customers"
          ],
          [
           41.9,
           2,
           200,
           "Others"
          ],
          [
           77.7,
           1,
           100,
           "New Customers"
          ],
          [
           50.4,
           1,
           100,
           "Others"
          ],
          [
           40,
           1,
           100,
           "Others"
          ],
          [
           33.98,
           1,
           100,
           "Others"
          ]
         ],
         "hovertemplate": "<b>%{hovertext}</b><br><br>Gesamt Netto (EUR)=%{x}<br>Zuletzete Bestelltage=%{y}<br>Durchschn. Auftragswert (EUR)=%{customdata[0]}<br>Auftragsmenge=%{marker.color:.0f}<br>Klasse=%{customdata[3]}<extra></extra>",
         "hovertext": [
          "Residenz Beinsen am Klosterpark Wienhausen GmbH",
          "Gesundheits- und Pflegezentrum Goldenherz",
          "BUDNI Handels- und Service GmbH & Co. KG",
          "Diakoniestiftung Alt-Hamburg - Matthias-Claudius-Heim",
          "Diakoniestiftung Alt-Hamburg - Marie Kroos-Stift",
          "Seniorenzentrum Garstedt Haus am Berg GmbH",
          "Diakoniestiftung Alt-Hamburg - Altenzentrum Ansgar",
          "Diakoniestiftung Alt-Hamburg - Christophorus Haus",
          "Gesundheits- und Pflegezentrum Goldenherz, Andreas Gründler",
          "Senioren- und Therapiezentrum Haus an der Stör GmbH",
          "Die Wohngruppe Segeberg für Jüngere Bewegungsbehinderte e. V., Bad Segeberg",
          "Hospiz Sinus Othmarschen",
          "Diakoniestiftung Alt-Hamburg - Bodemann Heim",
          "Haus Togohof in Glinde - Wichern-Gemeinschaft Reinbek e.V.",
          "Diakoniestiftung Alt-Hamburg - Ev. Altenwohnheim Billwerder Bucht",
          "Alten- und Pflegeheim St. Elisabeth",
          "Haus Altenfriede in Reinbek - Wichern-Gemeinschaft Reinbek e.V.",
          "Diakoniestiftung Alt-Hamburg - St. Gertrud Gemeindepflege Alten- und Pflegeheim",
          "Diesterweg - Stiftung Senioreneinrichtung",
          "Theodor-Fliedner-Haus Ev. Seniorenwohn-und Pflegezentrum Bramfeld",
          "Diakoniestiftung Alt-Hamburg - Das Epiphanienhaus",
          "tesa Werk Hamburg GmbH",
          "Alten- und Pflegeheim Bellevue",
          "Senioren-Pflegepension Mützendorpsteed",
          "Diakoniestiftung Alt-Hamburg - Seniorenhaus Matthäus",
          "Haus Marienthal Seniorenpflegepension GmbH & Co. KG",
          "Ambulanter Pflegedienst Sabine Mertins GmbH",
          "tesa Werk Hamburg GmbH, tphh.indirects",
          "Haus Robert-Koch-Straße in Bad Oldesloe - Wichern-Gemeinschaft Reinbek e.V.",
          "Seniorenheim am Kanal",
          "Diakoniestiftung Alt-Hamburg - Altenheim St. Johannis St. Nikolai",
          "Senioren- und Pflegeheim Elbuferpark",
          "Monkey Plants GmbH",
          "tesa Werk Hamburg GmbH, tesa Werk Hamburg GmbH Technischer Wareneingang",
          "sudhoff technik GmbH",
          "AWO Bezirk Hannover gGmbH",
          "Praxis für Zahnheilkunde Appen",
          "Hanfkultur Jan Hellstern",
          "The Alley Frankfurt GmbH",
          "Haus Itzstedt",
          "Diakoniestiftung Alt-Hamburg - Heinrich-Sengelmann-Haus",
          "Die Wohngruppe Segeberg für Jüngere Bewegungsbehinderte e. V., Bad Segeberg, Dirk Domakowski",
          "Diakoniestiftung Alt-Hamburg",
          "Frantzis & Sagra GmbH",
          "LORINA Häusliche Pflege GmbH",
          "Hanse Medical GmbH",
          "BLD Pharmatech GmbH",
          "Marien - Apotheke",
          "Joanna Gebarowski Kredens",
          "Haus Marienthal Seniorenpflegepension GmbH & Co. KG, Frau R. Zschernitz"
         ],
         "legendgroup": "",
         "marker": {
          "color": [
           34,
           12,
           1,
           15,
           7,
           6,
           8,
           10,
           1,
           2,
           6,
           9,
           8,
           3,
           8,
           12,
           4,
           7,
           7,
           5,
           3,
           4,
           8,
           2,
           2,
           2,
           3,
           2,
           1,
           3,
           2,
           3,
           1,
           1,
           1,
           1,
           4,
           1,
           2,
           1,
           1,
           1,
           3,
           1,
           1,
           2,
           1,
           1,
           1,
           1
          ],
          "coloraxis": "coloraxis",
          "size": [
           3400,
           1200,
           100,
           1500,
           700,
           600,
           800,
           1000,
           100,
           200,
           600,
           900,
           800,
           300,
           800,
           1200,
           400,
           700,
           700,
           500,
           300,
           400,
           800,
           200,
           200,
           200,
           300,
           200,
           100,
           300,
           200,
           300,
           100,
           100,
           100,
           100,
           400,
           100,
           200,
           100,
           100,
           100,
           300,
           100,
           100,
           200,
           100,
           100,
           100,
           100
          ],
          "sizemode": "area",
          "sizeref": 8.5,
          "symbol": "circle"
         },
         "mode": "markers",
         "name": "",
         "orientation": "v",
         "showlegend": false,
         "type": "scatter",
         "x": [
          13695.41,
          13630.52,
          10777.5,
          7973.46,
          6910.36,
          6063,
          4343.78,
          4223.22,
          4140,
          3762,
          3706.09,
          3680.43,
          3589.31,
          2870,
          2741.72,
          2677.9,
          2644.5,
          2571.9,
          2224.99,
          1973.14,
          1947.5,
          1890,
          1883.7,
          1430,
          1025,
          1024.29,
          990.75,
          990,
          880.58,
          826.52,
          772.9,
          697,
          530,
          450,
          380,
          331.5,
          306.59999999999997,
          290,
          289,
          262.8,
          205,
          169.9,
          142.75,
          140,
          103.6,
          83.8,
          77.7,
          50.4,
          40,
          33.98
         ],
         "xaxis": "x",
         "y": [
          10,
          14,
          20,
          14,
          6,
          13,
          34,
          40,
          91,
          34,
          53,
          12,
          7,
          18,
          6,
          28,
          17,
          46,
          5,
          18,
          89,
          6,
          6,
          132,
          96,
          6,
          31,
          145,
          48,
          12,
          12,
          110,
          145,
          91,
          112,
          179,
          40,
          130,
          7,
          175,
          133,
          48,
          60,
          31,
          18,
          46,
          7,
          115,
          39,
          42
         ],
         "yaxis": "y"
        }
       ],
       "layout": {
        "annotations": [
         {
          "align": "left",
          "font": {
           "color": "gray",
           "size": 12
          },
          "showarrow": false,
          "text": "Datenquelle: Odoo<br>Zeitraum: 25.07.2024 - 15.01.2025<br>Anzahl Kunden: 50<br>Anzahl Aufträge: 225<br>Gesamtumsatz: 122444.50 EUR",
          "x": 0.7,
          "xanchor": "left",
          "xref": "paper",
          "y": 0.9,
          "yanchor": "bottom",
          "yref": "paper"
         }
        ],
        "coloraxis": {
         "colorbar": {
          "title": {
           "text": "Auftragsmenge"
          }
         },
         "colorscale": [
          [
           0,
           "#0d0887"
          ],
          [
           0.1111111111111111,
           "#46039f"
          ],
          [
           0.2222222222222222,
           "#7201a8"
          ],
          [
           0.3333333333333333,
           "#9c179e"
          ],
          [
           0.4444444444444444,
           "#bd3786"
          ],
          [
           0.5555555555555556,
           "#d8576b"
          ],
          [
           0.6666666666666666,
           "#ed7953"
          ],
          [
           0.7777777777777778,
           "#fb9f3a"
          ],
          [
           0.8888888888888888,
           "#fdca26"
          ],
          [
           1,
           "#f0f921"
          ]
         ]
        },
        "height": 500,
        "legend": {
         "itemsizing": "constant",
         "tracegroupgap": 0
        },
        "template": {
         "data": {
          "bar": [
           {
            "error_x": {
             "color": "#2a3f5f"
            },
            "error_y": {
             "color": "#2a3f5f"
            },
            "marker": {
             "line": {
              "color": "white",
              "width": 0.5
             },
             "pattern": {
              "fillmode": "overlay",
              "size": 10,
              "solidity": 0.2
             }
            },
            "type": "bar"
           }
          ],
          "barpolar": [
           {
            "marker": {
             "line": {
              "color": "white",
              "width": 0.5
             },
             "pattern": {
              "fillmode": "overlay",
              "size": 10,
              "solidity": 0.2
             }
            },
            "type": "barpolar"
           }
          ],
          "carpet": [
           {
            "aaxis": {
             "endlinecolor": "#2a3f5f",
             "gridcolor": "#C8D4E3",
             "linecolor": "#C8D4E3",
             "minorgridcolor": "#C8D4E3",
             "startlinecolor": "#2a3f5f"
            },
            "baxis": {
             "endlinecolor": "#2a3f5f",
             "gridcolor": "#C8D4E3",
             "linecolor": "#C8D4E3",
             "minorgridcolor": "#C8D4E3",
             "startlinecolor": "#2a3f5f"
            },
            "type": "carpet"
           }
          ],
          "choropleth": [
           {
            "colorbar": {
             "outlinewidth": 0,
             "ticks": ""
            },
            "type": "choropleth"
           }
          ],
          "contour": [
           {
            "colorbar": {
             "outlinewidth": 0,
             "ticks": ""
            },
            "colorscale": [
             [
              0,
              "#0d0887"
             ],
             [
              0.1111111111111111,
              "#46039f"
             ],
             [
              0.2222222222222222,
              "#7201a8"
             ],
             [
              0.3333333333333333,
              "#9c179e"
             ],
             [
              0.4444444444444444,
              "#bd3786"
             ],
             [
              0.5555555555555556,
              "#d8576b"
             ],
             [
              0.6666666666666666,
              "#ed7953"
             ],
             [
              0.7777777777777778,
              "#fb9f3a"
             ],
             [
              0.8888888888888888,
              "#fdca26"
             ],
             [
              1,
              "#f0f921"
             ]
            ],
            "type": "contour"
           }
          ],
          "contourcarpet": [
           {
            "colorbar": {
             "outlinewidth": 0,
             "ticks": ""
            },
            "type": "contourcarpet"
           }
          ],
          "heatmap": [
           {
            "colorbar": {
             "outlinewidth": 0,
             "ticks": ""
            },
            "colorscale": [
             [
              0,
              "#0d0887"
             ],
             [
              0.1111111111111111,
              "#46039f"
             ],
             [
              0.2222222222222222,
              "#7201a8"
             ],
             [
              0.3333333333333333,
              "#9c179e"
             ],
             [
              0.4444444444444444,
              "#bd3786"
             ],
             [
              0.5555555555555556,
              "#d8576b"
             ],
             [
              0.6666666666666666,
              "#ed7953"
             ],
             [
              0.7777777777777778,
              "#fb9f3a"
             ],
             [
              0.8888888888888888,
              "#fdca26"
             ],
             [
              1,
              "#f0f921"
             ]
            ],
            "type": "heatmap"
           }
          ],
          "heatmapgl": [
           {
            "colorbar": {
             "outlinewidth": 0,
             "ticks": ""
            },
            "colorscale": [
             [
              0,
              "#0d0887"
             ],
             [
              0.1111111111111111,
              "#46039f"
             ],
             [
              0.2222222222222222,
              "#7201a8"
             ],
             [
              0.3333333333333333,
              "#9c179e"
             ],
             [
              0.4444444444444444,
              "#bd3786"
             ],
             [
              0.5555555555555556,
              "#d8576b"
             ],
             [
              0.6666666666666666,
              "#ed7953"
             ],
             [
              0.7777777777777778,
              "#fb9f3a"
             ],
             [
              0.8888888888888888,
              "#fdca26"
             ],
             [
              1,
              "#f0f921"
             ]
            ],
            "type": "heatmapgl"
           }
          ],
          "histogram": [
           {
            "marker": {
             "pattern": {
              "fillmode": "overlay",
              "size": 10,
              "solidity": 0.2
             }
            },
            "type": "histogram"
           }
          ],
          "histogram2d": [
           {
            "colorbar": {
             "outlinewidth": 0,
             "ticks": ""
            },
            "colorscale": [
             [
              0,
              "#0d0887"
             ],
             [
              0.1111111111111111,
              "#46039f"
             ],
             [
              0.2222222222222222,
              "#7201a8"
             ],
             [
              0.3333333333333333,
              "#9c179e"
             ],
             [
              0.4444444444444444,
              "#bd3786"
             ],
             [
              0.5555555555555556,
              "#d8576b"
             ],
             [
              0.6666666666666666,
              "#ed7953"
             ],
             [
              0.7777777777777778,
              "#fb9f3a"
             ],
             [
              0.8888888888888888,
              "#fdca26"
             ],
             [
              1,
              "#f0f921"
             ]
            ],
            "type": "histogram2d"
           }
          ],
          "histogram2dcontour": [
           {
            "colorbar": {
             "outlinewidth": 0,
             "ticks": ""
            },
            "colorscale": [
             [
              0,
              "#0d0887"
             ],
             [
              0.1111111111111111,
              "#46039f"
             ],
             [
              0.2222222222222222,
              "#7201a8"
             ],
             [
              0.3333333333333333,
              "#9c179e"
             ],
             [
              0.4444444444444444,
              "#bd3786"
             ],
             [
              0.5555555555555556,
              "#d8576b"
             ],
             [
              0.6666666666666666,
              "#ed7953"
             ],
             [
              0.7777777777777778,
              "#fb9f3a"
             ],
             [
              0.8888888888888888,
              "#fdca26"
             ],
             [
              1,
              "#f0f921"
             ]
            ],
            "type": "histogram2dcontour"
           }
          ],
          "mesh3d": [
           {
            "colorbar": {
             "outlinewidth": 0,
             "ticks": ""
            },
            "type": "mesh3d"
           }
          ],
          "parcoords": [
           {
            "line": {
             "colorbar": {
              "outlinewidth": 0,
              "ticks": ""
             }
            },
            "type": "parcoords"
           }
          ],
          "pie": [
           {
            "automargin": true,
            "type": "pie"
           }
          ],
          "scatter": [
           {
            "fillpattern": {
             "fillmode": "overlay",
             "size": 10,
             "solidity": 0.2
            },
            "type": "scatter"
           }
          ],
          "scatter3d": [
           {
            "line": {
             "colorbar": {
              "outlinewidth": 0,
              "ticks": ""
             }
            },
            "marker": {
             "colorbar": {
              "outlinewidth": 0,
              "ticks": ""
             }
            },
            "type": "scatter3d"
           }
          ],
          "scattercarpet": [
           {
            "marker": {
             "colorbar": {
              "outlinewidth": 0,
              "ticks": ""
             }
            },
            "type": "scattercarpet"
           }
          ],
          "scattergeo": [
           {
            "marker": {
             "colorbar": {
              "outlinewidth": 0,
              "ticks": ""
             }
            },
            "type": "scattergeo"
           }
          ],
          "scattergl": [
           {
            "marker": {
             "colorbar": {
              "outlinewidth": 0,
              "ticks": ""
             }
            },
            "type": "scattergl"
           }
          ],
          "scattermapbox": [
           {
            "marker": {
             "colorbar": {
              "outlinewidth": 0,
              "ticks": ""
             }
            },
            "type": "scattermapbox"
           }
          ],
          "scatterpolar": [
           {
            "marker": {
             "colorbar": {
              "outlinewidth": 0,
              "ticks": ""
             }
            },
            "type": "scatterpolar"
           }
          ],
          "scatterpolargl": [
           {
            "marker": {
             "colorbar": {
              "outlinewidth": 0,
              "ticks": ""
             }
            },
            "type": "scatterpolargl"
           }
          ],
          "scatterternary": [
           {
            "marker": {
             "colorbar": {
              "outlinewidth": 0,
              "ticks": ""
             }
            },
            "type": "scatterternary"
           }
          ],
          "surface": [
           {
            "colorbar": {
             "outlinewidth": 0,
             "ticks": ""
            },
            "colorscale": [
             [
              0,
              "#0d0887"
             ],
             [
              0.1111111111111111,
              "#46039f"
             ],
             [
              0.2222222222222222,
              "#7201a8"
             ],
             [
              0.3333333333333333,
              "#9c179e"
             ],
             [
              0.4444444444444444,
              "#bd3786"
             ],
             [
              0.5555555555555556,
              "#d8576b"
             ],
             [
              0.6666666666666666,
              "#ed7953"
             ],
             [
              0.7777777777777778,
              "#fb9f3a"
             ],
             [
              0.8888888888888888,
              "#fdca26"
             ],
             [
              1,
              "#f0f921"
             ]
            ],
            "type": "surface"
           }
          ],
          "table": [
           {
            "cells": {
             "fill": {
              "color": "#EBF0F8"
             },
             "line": {
              "color": "white"
             }
            },
            "header": {
             "fill": {
              "color": "#C8D4E3"
             },
             "line": {
              "color": "white"
             }
            },
            "type": "table"
           }
          ]
         },
         "layout": {
          "annotationdefaults": {
           "arrowcolor": "#2a3f5f",
           "arrowhead": 0,
           "arrowwidth": 1
          },
          "autotypenumbers": "strict",
          "coloraxis": {
           "colorbar": {
            "outlinewidth": 0,
            "ticks": ""
           }
          },
          "colorscale": {
           "diverging": [
            [
             0,
             "#8e0152"
            ],
            [
             0.1,
             "#c51b7d"
            ],
            [
             0.2,
             "#de77ae"
            ],
            [
             0.3,
             "#f1b6da"
            ],
            [
             0.4,
             "#fde0ef"
            ],
            [
             0.5,
             "#f7f7f7"
            ],
            [
             0.6,
             "#e6f5d0"
            ],
            [
             0.7,
             "#b8e186"
            ],
            [
             0.8,
             "#7fbc41"
            ],
            [
             0.9,
             "#4d9221"
            ],
            [
             1,
             "#276419"
            ]
           ],
           "sequential": [
            [
             0,
             "#0d0887"
            ],
            [
             0.1111111111111111,
             "#46039f"
            ],
            [
             0.2222222222222222,
             "#7201a8"
            ],
            [
             0.3333333333333333,
             "#9c179e"
            ],
            [
             0.4444444444444444,
             "#bd3786"
            ],
            [
             0.5555555555555556,
             "#d8576b"
            ],
            [
             0.6666666666666666,
             "#ed7953"
            ],
            [
             0.7777777777777778,
             "#fb9f3a"
            ],
            [
             0.8888888888888888,
             "#fdca26"
            ],
            [
             1,
             "#f0f921"
            ]
           ],
           "sequentialminus": [
            [
             0,
             "#0d0887"
            ],
            [
             0.1111111111111111,
             "#46039f"
            ],
            [
             0.2222222222222222,
             "#7201a8"
            ],
            [
             0.3333333333333333,
             "#9c179e"
            ],
            [
             0.4444444444444444,
             "#bd3786"
            ],
            [
             0.5555555555555556,
             "#d8576b"
            ],
            [
             0.6666666666666666,
             "#ed7953"
            ],
            [
             0.7777777777777778,
             "#fb9f3a"
            ],
            [
             0.8888888888888888,
             "#fdca26"
            ],
            [
             1,
             "#f0f921"
            ]
           ]
          },
          "colorway": [
           "#636efa",
           "#EF553B",
           "#00cc96",
           "#ab63fa",
           "#FFA15A",
           "#19d3f3",
           "#FF6692",
           "#B6E880",
           "#FF97FF",
           "#FECB52"
          ],
          "font": {
           "color": "#2a3f5f"
          },
          "geo": {
           "bgcolor": "white",
           "lakecolor": "white",
           "landcolor": "white",
           "showlakes": true,
           "showland": true,
           "subunitcolor": "#C8D4E3"
          },
          "hoverlabel": {
           "align": "left"
          },
          "hovermode": "closest",
          "mapbox": {
           "style": "light"
          },
          "paper_bgcolor": "white",
          "plot_bgcolor": "white",
          "polar": {
           "angularaxis": {
            "gridcolor": "#EBF0F8",
            "linecolor": "#EBF0F8",
            "ticks": ""
           },
           "bgcolor": "white",
           "radialaxis": {
            "gridcolor": "#EBF0F8",
            "linecolor": "#EBF0F8",
            "ticks": ""
           }
          },
          "scene": {
           "xaxis": {
            "backgroundcolor": "white",
            "gridcolor": "#DFE8F3",
            "gridwidth": 2,
            "linecolor": "#EBF0F8",
            "showbackground": true,
            "ticks": "",
            "zerolinecolor": "#EBF0F8"
           },
           "yaxis": {
            "backgroundcolor": "white",
            "gridcolor": "#DFE8F3",
            "gridwidth": 2,
            "linecolor": "#EBF0F8",
            "showbackground": true,
            "ticks": "",
            "zerolinecolor": "#EBF0F8"
           },
           "zaxis": {
            "backgroundcolor": "white",
            "gridcolor": "#DFE8F3",
            "gridwidth": 2,
            "linecolor": "#EBF0F8",
            "showbackground": true,
            "ticks": "",
            "zerolinecolor": "#EBF0F8"
           }
          },
          "shapedefaults": {
           "line": {
            "color": "#2a3f5f"
           }
          },
          "ternary": {
           "aaxis": {
            "gridcolor": "#DFE8F3",
            "linecolor": "#A2B1C6",
            "ticks": ""
           },
           "baxis": {
            "gridcolor": "#DFE8F3",
            "linecolor": "#A2B1C6",
            "ticks": ""
           },
           "bgcolor": "white",
           "caxis": {
            "gridcolor": "#DFE8F3",
            "linecolor": "#A2B1C6",
            "ticks": ""
           }
          },
          "title": {
           "x": 0.05
          },
          "xaxis": {
           "automargin": true,
           "gridcolor": "#EBF0F8",
           "linecolor": "#EBF0F8",
           "ticks": "",
           "title": {
            "standoff": 15
           },
           "zerolinecolor": "#EBF0F8",
           "zerolinewidth": 2
          },
          "yaxis": {
           "automargin": true,
           "gridcolor": "#EBF0F8",
           "linecolor": "#EBF0F8",
           "ticks": "",
           "title": {
            "standoff": 15
           },
           "zerolinecolor": "#EBF0F8",
           "zerolinewidth": 2
          }
         }
        },
        "title": {
         "text": "Statistik zu Kundenbestellungen"
        },
        "width": 1380,
        "xaxis": {
         "anchor": "y",
         "domain": [
          0,
          1
         ],
         "title": {
          "text": "Gesamtumsatz - Netto (EUR)"
         }
        },
        "yaxis": {
         "anchor": "x",
         "domain": [
          0,
          1
         ],
         "tickvals": [
          0,
          30,
          60,
          90,
          120,
          150,
          180,
          210,
          240,
          270
         ],
         "title": {
          "text": "Zuletzete Bestelltage"
         }
        }
       }
      }
     },
     "metadata": {},
     "output_type": "display_data"
    }
   ],
   "source": [
    "import plotly.express as px\n",
    "import pandas as pd\n",
    "\n",
    "# 假设 df_customer_sales2 是一个 Pandas DataFrame\n",
    "# df_customer_sales2['price_subtotal'], df_customer_sales2['last_order_days'], df_customer_sales2['order_count']\n",
    "\n",
    "df_customer_sales2 = df_customer_sales.copy()  # 复制数据\n",
    "# 准备数据\n",
    "df_customer_sales2['size'] = df_customer_sales2['order_count'] * 100  # 点的大小\n",
    "df_customer_sales2['label'] = df_customer_sales2['order_partner']  # 索引标签\n",
    "\n",
    "# 使用 Plotly 创建交互式散点图\n",
    "fig = px.scatter(\n",
    "    df_customer_sales2,\n",
    "    x='price_subtotal',  # 横坐标\n",
    "    y='last_order_days',  # 纵坐标\n",
    "    size='size',  # 点的大小\n",
    "    color='order_count',  # 颜色映射\n",
    "    hover_name='label',  # 鼠标悬停显示的内容\n",
    "    hover_data={  # 添加其他悬停数据\n",
    "        'avg_order_price': True,  # 显示 avg_order_price\n",
    "        'order_count': ':.0f',  # 格式化 order_count 为整数\n",
    "        'size': False,  # 不显示 size\n",
    "        'tag': True  # 显示 tag\n",
    "    },\n",
    "    labels={\n",
    "        'price_subtotal': 'Gesamt Netto (EUR)',        \n",
    "        'order_count': 'Auftragsmenge',\n",
    "        'avg_order_price': 'Durchschn. Auftragswert (EUR)',\n",
    "        'last_order_days': 'Zuletzete Bestelltage',\n",
    "        'tag': \"Klasse\"\n",
    "    },\n",
    "    title=f\"Statistik zu Kundenbestellungen\"\n",
    ")\n",
    "\n",
    "start_date = df_filtered_orderlines['create_date'].min().strftime('%d.%m.%Y')\n",
    "end_date = df_filtered_orderlines['create_date'].max().strftime('%d.%m.%Y')\n",
    "anno = f\"Datenquelle: Odoo\"\n",
    "anno += f\"<br>Zeitraum: {start_date} - {end_date}\"\n",
    "anno += f\"<br>Anzahl Kunden: {len(df_customer_sales2)}\"\n",
    "anno += f\"<br>Anzahl Aufträge: {df_customer_sales2['order_count'].sum()}\"\n",
    "anno += f\"<br>Gesamtumsatz: {df_customer_sales2['price_subtotal'].sum():.2f} EUR\"\n",
    "\n",
    "# 设置布局\n",
    "fig.update_layout(\n",
    "    xaxis_title=\"Gesamtumsatz - Netto (EUR)\",\n",
    "    yaxis_title=\"Zuletzete Bestelltage\",\n",
    "    coloraxis_colorbar=dict(title=\"Auftragsmenge\"), \n",
    "    template=\"plotly_white\",\n",
    "    width=1380,  # 图表的宽度（像素）\n",
    "    height=500,  # 图表的高度（像素）\n",
    "    annotations=[\n",
    "        dict(\n",
    "            text=anno,\n",
    "            align=\"left\",\n",
    "            showarrow=False,\n",
    "            xref=\"paper\",  # 相对于图表的水平位置 (paper 表示相对整个图表区域)\n",
    "            yref=\"paper\",  # 相对于图表的垂直位置\n",
    "            x=0.7,  # 靠近图表左侧\n",
    "            y=0.9,  # 图表下方的适当位置（负值表示在图表下方）\n",
    "            xanchor='left',  # 文本水平对齐方式\n",
    "            yanchor='bottom',  # 文本垂直对齐方式\n",
    "            font=dict(size=12, color=\"gray\")  # 字体大小和颜色\n",
    "        )\n",
    "    ]\n",
    ")\n",
    "\n",
    "# 修改 y 轴刻度\n",
    "fig.update_yaxes(\n",
    "    tickvals=list(range(0, 300, 30))  # 设置刻度为 0, 30, 60, ..., 最大值可根据数据范围调整\n",
    ")\n",
    "# 保存为 HTML 文件\n",
    "fig.write_html(\"data/customer_sales_bubble_chart.html\")\n",
    "\n",
    "# 显示图表\n",
    "fig.show()\n"
   ]
  },
  {
   "cell_type": "code",
   "execution_count": 34,
   "metadata": {},
   "outputs": [
    {
     "name": "stderr",
     "output_type": "stream",
     "text": [
      "C:\\Users\\Lin\\AppData\\Local\\Temp\\ipykernel_428\\3225334283.py:3: FutureWarning:\n",
      "\n",
      "The provided callable <built-in function sum> is currently using SeriesGroupBy.sum. In a future version of pandas, the provided callable will be used directly. To keep current behavior pass the string \"sum\" instead.\n",
      "\n",
      "C:\\Users\\Lin\\AppData\\Local\\Temp\\ipykernel_428\\3225334283.py:3: FutureWarning:\n",
      "\n",
      "The provided callable <built-in function sum> is currently using SeriesGroupBy.sum. In a future version of pandas, the provided callable will be used directly. To keep current behavior pass the string \"sum\" instead.\n",
      "\n"
     ]
    },
    {
     "data": {
      "text/html": [
       "<div>\n",
       "<style scoped>\n",
       "    .dataframe tbody tr th:only-of-type {\n",
       "        vertical-align: middle;\n",
       "    }\n",
       "\n",
       "    .dataframe tbody tr th {\n",
       "        vertical-align: top;\n",
       "    }\n",
       "\n",
       "    .dataframe thead th {\n",
       "        text-align: right;\n",
       "    }\n",
       "</style>\n",
       "<table border=\"1\" class=\"dataframe\">\n",
       "  <thead>\n",
       "    <tr style=\"text-align: right;\">\n",
       "      <th></th>\n",
       "      <th>product_name</th>\n",
       "      <th>price_subtotal</th>\n",
       "      <th>currency</th>\n",
       "      <th>product_uom_qty</th>\n",
       "      <th>uom</th>\n",
       "      <th>order_count</th>\n",
       "      <th>last_order_days</th>\n",
       "    </tr>\n",
       "  </thead>\n",
       "  <tbody>\n",
       "    <tr>\n",
       "      <th>0</th>\n",
       "      <td>[HG-NI100BL] HansaGT Medical® Nitril Puderfrei...</td>\n",
       "      <td>19262.90</td>\n",
       "      <td>EUR</td>\n",
       "      <td>8874.0</td>\n",
       "      <td>Pck</td>\n",
       "      <td>86</td>\n",
       "      <td>7</td>\n",
       "    </tr>\n",
       "    <tr>\n",
       "      <th>1</th>\n",
       "      <td>[HG-NI100BM] HansaGT Medical® Nitril Puderfrei...</td>\n",
       "      <td>17851.80</td>\n",
       "      <td>EUR</td>\n",
       "      <td>8594.0</td>\n",
       "      <td>Pck</td>\n",
       "      <td>80</td>\n",
       "      <td>7</td>\n",
       "    </tr>\n",
       "    <tr>\n",
       "      <th>2</th>\n",
       "      <td>[HG-346172] HighCheck THC Drogentest Speichel ...</td>\n",
       "      <td>11787.90</td>\n",
       "      <td>EUR</td>\n",
       "      <td>2460.0</td>\n",
       "      <td>Units</td>\n",
       "      <td>5</td>\n",
       "      <td>20</td>\n",
       "    </tr>\n",
       "    <tr>\n",
       "      <th>3</th>\n",
       "      <td>[HG-NI100BXL] HansaGT Medical® Nitril Puderfre...</td>\n",
       "      <td>5842.10</td>\n",
       "      <td>EUR</td>\n",
       "      <td>2140.0</td>\n",
       "      <td>Pck</td>\n",
       "      <td>30</td>\n",
       "      <td>7</td>\n",
       "    </tr>\n",
       "    <tr>\n",
       "      <th>4</th>\n",
       "      <td>[HG-NI100BS] HansaGT Medical® Nitril Puderfrei...</td>\n",
       "      <td>5684.60</td>\n",
       "      <td>EUR</td>\n",
       "      <td>2744.0</td>\n",
       "      <td>Pck</td>\n",
       "      <td>49</td>\n",
       "      <td>7</td>\n",
       "    </tr>\n",
       "    <tr>\n",
       "      <th>...</th>\n",
       "      <td>...</td>\n",
       "      <td>...</td>\n",
       "      <td>...</td>\n",
       "      <td>...</td>\n",
       "      <td>...</td>\n",
       "      <td>...</td>\n",
       "      <td>...</td>\n",
       "    </tr>\n",
       "    <tr>\n",
       "      <th>156</th>\n",
       "      <td>[MMD-77120] 12 Stk. MaiMed-silk 2,50cm x 9,1m</td>\n",
       "      <td>11.14</td>\n",
       "      <td>EUR</td>\n",
       "      <td>1.0</td>\n",
       "      <td>Pcs</td>\n",
       "      <td>1</td>\n",
       "      <td>106</td>\n",
       "    </tr>\n",
       "    <tr>\n",
       "      <th>157</th>\n",
       "      <td>[AM-09592B] 100 x Med-Comfort Dental PS Einmal...</td>\n",
       "      <td>6.59</td>\n",
       "      <td>EUR</td>\n",
       "      <td>1.0</td>\n",
       "      <td>Pck</td>\n",
       "      <td>1</td>\n",
       "      <td>173</td>\n",
       "    </tr>\n",
       "    <tr>\n",
       "      <th>158</th>\n",
       "      <td>[DBE-1661000] Dr. Becher Reiniger für CERAN® K...</td>\n",
       "      <td>5.69</td>\n",
       "      <td>EUR</td>\n",
       "      <td>1.0</td>\n",
       "      <td>Bottle</td>\n",
       "      <td>1</td>\n",
       "      <td>148</td>\n",
       "    </tr>\n",
       "    <tr>\n",
       "      <th>159</th>\n",
       "      <td>Rosengarten® Elektroheizung\\n•220-240V 50Hz 2000W</td>\n",
       "      <td>2.00</td>\n",
       "      <td>EUR</td>\n",
       "      <td>2.0</td>\n",
       "      <td>Pcs</td>\n",
       "      <td>2</td>\n",
       "      <td>46</td>\n",
       "    </tr>\n",
       "    <tr>\n",
       "      <th>160</th>\n",
       "      <td>[DBE-1639000] Entkalkungs- und ReinigungsTabs ...</td>\n",
       "      <td>0.00</td>\n",
       "      <td>EUR</td>\n",
       "      <td>0.0</td>\n",
       "      <td>Pck</td>\n",
       "      <td>1</td>\n",
       "      <td>140</td>\n",
       "    </tr>\n",
       "  </tbody>\n",
       "</table>\n",
       "<p>161 rows × 7 columns</p>\n",
       "</div>"
      ],
      "text/plain": [
       "                                          product_name  price_subtotal  \\\n",
       "0    [HG-NI100BL] HansaGT Medical® Nitril Puderfrei...        19262.90   \n",
       "1    [HG-NI100BM] HansaGT Medical® Nitril Puderfrei...        17851.80   \n",
       "2    [HG-346172] HighCheck THC Drogentest Speichel ...        11787.90   \n",
       "3    [HG-NI100BXL] HansaGT Medical® Nitril Puderfre...         5842.10   \n",
       "4    [HG-NI100BS] HansaGT Medical® Nitril Puderfrei...         5684.60   \n",
       "..                                                 ...             ...   \n",
       "156      [MMD-77120] 12 Stk. MaiMed-silk 2,50cm x 9,1m           11.14   \n",
       "157  [AM-09592B] 100 x Med-Comfort Dental PS Einmal...            6.59   \n",
       "158  [DBE-1661000] Dr. Becher Reiniger für CERAN® K...            5.69   \n",
       "159  Rosengarten® Elektroheizung\\n•220-240V 50Hz 2000W            2.00   \n",
       "160  [DBE-1639000] Entkalkungs- und ReinigungsTabs ...            0.00   \n",
       "\n",
       "    currency  product_uom_qty     uom  order_count  last_order_days  \n",
       "0        EUR           8874.0     Pck           86                7  \n",
       "1        EUR           8594.0     Pck           80                7  \n",
       "2        EUR           2460.0   Units            5               20  \n",
       "3        EUR           2140.0     Pck           30                7  \n",
       "4        EUR           2744.0     Pck           49                7  \n",
       "..       ...              ...     ...          ...              ...  \n",
       "156      EUR              1.0     Pcs            1              106  \n",
       "157      EUR              1.0     Pck            1              173  \n",
       "158      EUR              1.0  Bottle            1              148  \n",
       "159      EUR              2.0     Pcs            2               46  \n",
       "160      EUR              0.0     Pck            1              140  \n",
       "\n",
       "[161 rows x 7 columns]"
      ]
     },
     "execution_count": 34,
     "metadata": {},
     "output_type": "execute_result"
    }
   ],
   "source": [
    "# 统计每一个产品的销售额 (不含运费，不含为结的)\n",
    "df_product_sales = odoo_sales_orderlines.groupby(['product_name']) \\\n",
    "                        .agg({'price_subtotal': sum, \n",
    "                              'currency': 'first', \n",
    "                              'product_uom_qty': sum,                              \n",
    "                              'uom': 'first',\n",
    "                              'order_number': 'nunique'})\n",
    "df_product_sales = df_product_sales.rename(columns={'order_number': 'order_count'})\n",
    "\n",
    "df_product_sales = df_product_sales.sort_values('price_subtotal', ascending=False)\n",
    "# 计算上次购买时间（天）\n",
    "last_order_days = odoo_sales_orderlines.groupby('product_name')['create_date'].max().reset_index()\n",
    "last_order_days['last_order_days'] = (reference_date - last_order_days['create_date']).dt.days\n",
    "df_product_sales = pd.merge(df_product_sales, last_order_days[['product_name', 'last_order_days']], on='product_name', how='left')\n",
    "\n",
    "\n",
    "df_product_sales_top10 = df_product_sales.head(10)\n",
    "df_product_sales_bottom10 = df_product_sales.tail(10)\n",
    "product_sort_by_sales = df_product_sales.reset_index()['product_name'].tolist()\n",
    "df_product_sales"
   ]
  },
  {
   "cell_type": "code",
   "execution_count": 16,
   "metadata": {},
   "outputs": [
    {
     "name": "stderr",
     "output_type": "stream",
     "text": [
      "C:\\Users\\Lin\\AppData\\Local\\Temp\\ipykernel_428\\1335706175.py:2: FutureWarning:\n",
      "\n",
      "The provided callable <built-in function sum> is currently using SeriesGroupBy.sum. In a future version of pandas, the provided callable will be used directly. To keep current behavior pass the string \"sum\" instead.\n",
      "\n"
     ]
    },
    {
     "data": {
      "text/html": [
       "<div>\n",
       "<style scoped>\n",
       "    .dataframe tbody tr th:only-of-type {\n",
       "        vertical-align: middle;\n",
       "    }\n",
       "\n",
       "    .dataframe tbody tr th {\n",
       "        vertical-align: top;\n",
       "    }\n",
       "\n",
       "    .dataframe thead th {\n",
       "        text-align: right;\n",
       "    }\n",
       "</style>\n",
       "<table border=\"1\" class=\"dataframe\">\n",
       "  <thead>\n",
       "    <tr style=\"text-align: right;\">\n",
       "      <th></th>\n",
       "      <th>order_partner</th>\n",
       "      <th>month</th>\n",
       "      <th>price_subtotal</th>\n",
       "      <th>currency</th>\n",
       "      <th>order_count</th>\n",
       "      <th>avg_order_price</th>\n",
       "    </tr>\n",
       "  </thead>\n",
       "  <tbody>\n",
       "    <tr>\n",
       "      <th>111</th>\n",
       "      <td>Residenz Beinsen am Klosterpark Wienhausen GmbH</td>\n",
       "      <td>2024-08</td>\n",
       "      <td>2706.98</td>\n",
       "      <td>EUR</td>\n",
       "      <td>9</td>\n",
       "      <td>300.78</td>\n",
       "    </tr>\n",
       "    <tr>\n",
       "      <th>112</th>\n",
       "      <td>Residenz Beinsen am Klosterpark Wienhausen GmbH</td>\n",
       "      <td>2024-09</td>\n",
       "      <td>3290.36</td>\n",
       "      <td>EUR</td>\n",
       "      <td>6</td>\n",
       "      <td>548.39</td>\n",
       "    </tr>\n",
       "    <tr>\n",
       "      <th>113</th>\n",
       "      <td>Residenz Beinsen am Klosterpark Wienhausen GmbH</td>\n",
       "      <td>2024-10</td>\n",
       "      <td>1381.29</td>\n",
       "      <td>EUR</td>\n",
       "      <td>6</td>\n",
       "      <td>230.22</td>\n",
       "    </tr>\n",
       "    <tr>\n",
       "      <th>114</th>\n",
       "      <td>Residenz Beinsen am Klosterpark Wienhausen GmbH</td>\n",
       "      <td>2024-11</td>\n",
       "      <td>2758.34</td>\n",
       "      <td>EUR</td>\n",
       "      <td>5</td>\n",
       "      <td>551.67</td>\n",
       "    </tr>\n",
       "    <tr>\n",
       "      <th>115</th>\n",
       "      <td>Residenz Beinsen am Klosterpark Wienhausen GmbH</td>\n",
       "      <td>2024-12</td>\n",
       "      <td>2865.04</td>\n",
       "      <td>EUR</td>\n",
       "      <td>6</td>\n",
       "      <td>477.51</td>\n",
       "    </tr>\n",
       "    <tr>\n",
       "      <th>116</th>\n",
       "      <td>Residenz Beinsen am Klosterpark Wienhausen GmbH</td>\n",
       "      <td>2025-01</td>\n",
       "      <td>693.40</td>\n",
       "      <td>EUR</td>\n",
       "      <td>2</td>\n",
       "      <td>346.70</td>\n",
       "    </tr>\n",
       "    <tr>\n",
       "      <th>74</th>\n",
       "      <td>Gesundheits- und Pflegezentrum Goldenherz</td>\n",
       "      <td>2024-07</td>\n",
       "      <td>2650.38</td>\n",
       "      <td>EUR</td>\n",
       "      <td>1</td>\n",
       "      <td>2650.38</td>\n",
       "    </tr>\n",
       "    <tr>\n",
       "      <th>75</th>\n",
       "      <td>Gesundheits- und Pflegezentrum Goldenherz</td>\n",
       "      <td>2024-08</td>\n",
       "      <td>2093.84</td>\n",
       "      <td>EUR</td>\n",
       "      <td>1</td>\n",
       "      <td>2093.84</td>\n",
       "    </tr>\n",
       "    <tr>\n",
       "      <th>76</th>\n",
       "      <td>Gesundheits- und Pflegezentrum Goldenherz</td>\n",
       "      <td>2024-09</td>\n",
       "      <td>1629.66</td>\n",
       "      <td>EUR</td>\n",
       "      <td>2</td>\n",
       "      <td>814.83</td>\n",
       "    </tr>\n",
       "    <tr>\n",
       "      <th>77</th>\n",
       "      <td>Gesundheits- und Pflegezentrum Goldenherz</td>\n",
       "      <td>2024-10</td>\n",
       "      <td>2974.86</td>\n",
       "      <td>EUR</td>\n",
       "      <td>5</td>\n",
       "      <td>594.97</td>\n",
       "    </tr>\n",
       "  </tbody>\n",
       "</table>\n",
       "</div>"
      ],
      "text/plain": [
       "                                       order_partner    month  price_subtotal  \\\n",
       "111  Residenz Beinsen am Klosterpark Wienhausen GmbH  2024-08         2706.98   \n",
       "112  Residenz Beinsen am Klosterpark Wienhausen GmbH  2024-09         3290.36   \n",
       "113  Residenz Beinsen am Klosterpark Wienhausen GmbH  2024-10         1381.29   \n",
       "114  Residenz Beinsen am Klosterpark Wienhausen GmbH  2024-11         2758.34   \n",
       "115  Residenz Beinsen am Klosterpark Wienhausen GmbH  2024-12         2865.04   \n",
       "116  Residenz Beinsen am Klosterpark Wienhausen GmbH  2025-01          693.40   \n",
       "74         Gesundheits- und Pflegezentrum Goldenherz  2024-07         2650.38   \n",
       "75         Gesundheits- und Pflegezentrum Goldenherz  2024-08         2093.84   \n",
       "76         Gesundheits- und Pflegezentrum Goldenherz  2024-09         1629.66   \n",
       "77         Gesundheits- und Pflegezentrum Goldenherz  2024-10         2974.86   \n",
       "\n",
       "    currency  order_count  avg_order_price  \n",
       "111      EUR            9           300.78  \n",
       "112      EUR            6           548.39  \n",
       "113      EUR            6           230.22  \n",
       "114      EUR            5           551.67  \n",
       "115      EUR            6           477.51  \n",
       "116      EUR            2           346.70  \n",
       "74       EUR            1          2650.38  \n",
       "75       EUR            1          2093.84  \n",
       "76       EUR            2           814.83  \n",
       "77       EUR            5           594.97  "
      ]
     },
     "execution_count": 16,
     "metadata": {},
     "output_type": "execute_result"
    }
   ],
   "source": [
    "df_customer_month_sales = odoo_sales_orderlines.groupby(['order_partner', 'month']) \\\n",
    "    .agg({'price_subtotal': sum,\n",
    "          'currency': 'first',\n",
    "          'order_number': 'nunique'})\n",
    "\n",
    "df_customer_month_sales = df_customer_month_sales.rename(columns={'order_number': 'order_count'})\n",
    "df_customer_month_sales['avg_order_price'] = df_customer_month_sales['price_subtotal'] / df_customer_month_sales['order_count']\n",
    "df_customer_month_sales['avg_order_price'] = df_customer_month_sales['avg_order_price'].round(2)\n",
    "\n",
    "# 转换 month 列为 datetime 类型\n",
    "df_customer_month_sales = df_customer_month_sales.reset_index()\n",
    "\n",
    "# 排序：先按客户顺序，再按月份\n",
    "df_customer_month_sales['customer_sort'] = pd.Categorical(\n",
    "    df_customer_month_sales['order_partner'],  # 获取客户名\n",
    "    categories=customer_sort_by_sales,  # 自定义排序规则\n",
    "    ordered=True\n",
    ")\n",
    "\n",
    "df_customer_month_sales = df_customer_month_sales.sort_values(by=['customer_sort', 'month'])\n",
    "df_customer_month_sales = df_customer_month_sales.drop(columns=['customer_sort'])\n",
    "\n",
    "# 查看前 10 行\n",
    "df_customer_month_sales.head(10)\n"
   ]
  },
  {
   "cell_type": "code",
   "execution_count": 35,
   "metadata": {},
   "outputs": [
    {
     "name": "stderr",
     "output_type": "stream",
     "text": [
      "C:\\Users\\Lin\\AppData\\Local\\Temp\\ipykernel_428\\4123660372.py:3: FutureWarning:\n",
      "\n",
      "The provided callable <built-in function sum> is currently using SeriesGroupBy.sum. In a future version of pandas, the provided callable will be used directly. To keep current behavior pass the string \"sum\" instead.\n",
      "\n"
     ]
    },
    {
     "data": {
      "text/html": [
       "<div>\n",
       "<style scoped>\n",
       "    .dataframe tbody tr th:only-of-type {\n",
       "        vertical-align: middle;\n",
       "    }\n",
       "\n",
       "    .dataframe tbody tr th {\n",
       "        vertical-align: top;\n",
       "    }\n",
       "\n",
       "    .dataframe thead th {\n",
       "        text-align: right;\n",
       "    }\n",
       "</style>\n",
       "<table border=\"1\" class=\"dataframe\">\n",
       "  <thead>\n",
       "    <tr style=\"text-align: right;\">\n",
       "      <th></th>\n",
       "      <th>product_name</th>\n",
       "      <th>month</th>\n",
       "      <th>price_subtotal</th>\n",
       "      <th>currency</th>\n",
       "      <th>order_count</th>\n",
       "    </tr>\n",
       "  </thead>\n",
       "  <tbody>\n",
       "    <tr>\n",
       "      <th>0</th>\n",
       "      <td>Rosengarten® Elektroheizung\\n•220-240V 50Hz 2000W</td>\n",
       "      <td>2024-12</td>\n",
       "      <td>2.00</td>\n",
       "      <td>EUR</td>\n",
       "      <td>2</td>\n",
       "    </tr>\n",
       "    <tr>\n",
       "      <th>1</th>\n",
       "      <td>[AM-091561] PP Mundpflegestäbchen mit PU Schwa...</td>\n",
       "      <td>2025-01</td>\n",
       "      <td>60.76</td>\n",
       "      <td>EUR</td>\n",
       "      <td>1</td>\n",
       "    </tr>\n",
       "    <tr>\n",
       "      <th>2</th>\n",
       "      <td>[AM-09592B] 100 x Med-Comfort Dental PS Einmal...</td>\n",
       "      <td>2024-08</td>\n",
       "      <td>6.59</td>\n",
       "      <td>EUR</td>\n",
       "      <td>1</td>\n",
       "    </tr>\n",
       "    <tr>\n",
       "      <th>3</th>\n",
       "      <td>[AM-34000] Zellstofftupfer, weiß, 4 x 5 cm, Me...</td>\n",
       "      <td>2024-09</td>\n",
       "      <td>6.86</td>\n",
       "      <td>EUR</td>\n",
       "      <td>1</td>\n",
       "    </tr>\n",
       "    <tr>\n",
       "      <th>4</th>\n",
       "      <td>[AM-34000] Zellstofftupfer, weiß, 4 x 5 cm, Me...</td>\n",
       "      <td>2024-12</td>\n",
       "      <td>34.30</td>\n",
       "      <td>EUR</td>\n",
       "      <td>1</td>\n",
       "    </tr>\n",
       "    <tr>\n",
       "      <th>5</th>\n",
       "      <td>[AM-34000] Zellstofftupfer, weiß, 4 x 5 cm, Me...</td>\n",
       "      <td>2025-01</td>\n",
       "      <td>51.45</td>\n",
       "      <td>EUR</td>\n",
       "      <td>1</td>\n",
       "    </tr>\n",
       "    <tr>\n",
       "      <th>6</th>\n",
       "      <td>[AM-701190] Shampoohaube, weiß</td>\n",
       "      <td>2024-09</td>\n",
       "      <td>37.40</td>\n",
       "      <td>EUR</td>\n",
       "      <td>1</td>\n",
       "    </tr>\n",
       "    <tr>\n",
       "      <th>7</th>\n",
       "      <td>[AM-701190] Shampoohaube, weiß</td>\n",
       "      <td>2025-01</td>\n",
       "      <td>37.40</td>\n",
       "      <td>EUR</td>\n",
       "      <td>1</td>\n",
       "    </tr>\n",
       "    <tr>\n",
       "      <th>8</th>\n",
       "      <td>[AM-L09170B] PP Medizinbecher, Farbe blau, 30 ...</td>\n",
       "      <td>2024-12</td>\n",
       "      <td>56.13</td>\n",
       "      <td>EUR</td>\n",
       "      <td>1</td>\n",
       "    </tr>\n",
       "    <tr>\n",
       "      <th>9</th>\n",
       "      <td>[AM-L09170G] PP Medizinbecher, Farbe gelb, 30 ...</td>\n",
       "      <td>2024-12</td>\n",
       "      <td>56.13</td>\n",
       "      <td>EUR</td>\n",
       "      <td>1</td>\n",
       "    </tr>\n",
       "    <tr>\n",
       "      <th>10</th>\n",
       "      <td>[AM-L09170Grün] PP Medizinbecher, Farbe grün, ...</td>\n",
       "      <td>2024-12</td>\n",
       "      <td>56.13</td>\n",
       "      <td>EUR</td>\n",
       "      <td>1</td>\n",
       "    </tr>\n",
       "    <tr>\n",
       "      <th>11</th>\n",
       "      <td>[AM-L09170R] PP Medizinbecher, Farbe rot, 30 m...</td>\n",
       "      <td>2024-12</td>\n",
       "      <td>56.13</td>\n",
       "      <td>EUR</td>\n",
       "      <td>1</td>\n",
       "    </tr>\n",
       "    <tr>\n",
       "      <th>12</th>\n",
       "      <td>[BZN-6049] MALTOplus 4 kg</td>\n",
       "      <td>2024-08</td>\n",
       "      <td>39.00</td>\n",
       "      <td>EUR</td>\n",
       "      <td>2</td>\n",
       "    </tr>\n",
       "    <tr>\n",
       "      <th>13</th>\n",
       "      <td>[BZN-6049] MALTOplus 4 kg</td>\n",
       "      <td>2024-10</td>\n",
       "      <td>78.00</td>\n",
       "      <td>EUR</td>\n",
       "      <td>2</td>\n",
       "    </tr>\n",
       "    <tr>\n",
       "      <th>14</th>\n",
       "      <td>[BZN-6049] MALTOplus 4 kg</td>\n",
       "      <td>2024-11</td>\n",
       "      <td>19.50</td>\n",
       "      <td>EUR</td>\n",
       "      <td>1</td>\n",
       "    </tr>\n",
       "    <tr>\n",
       "      <th>15</th>\n",
       "      <td>[BZN-6049] MALTOplus 4 kg</td>\n",
       "      <td>2024-12</td>\n",
       "      <td>195.00</td>\n",
       "      <td>EUR</td>\n",
       "      <td>1</td>\n",
       "    </tr>\n",
       "    <tr>\n",
       "      <th>16</th>\n",
       "      <td>[BZN-6049] MALTOplus 4 kg</td>\n",
       "      <td>2025-01</td>\n",
       "      <td>19.50</td>\n",
       "      <td>EUR</td>\n",
       "      <td>1</td>\n",
       "    </tr>\n",
       "    <tr>\n",
       "      <th>17</th>\n",
       "      <td>[BZN-6050] MALTOplus 1,3 kg</td>\n",
       "      <td>2024-08</td>\n",
       "      <td>88.32</td>\n",
       "      <td>EUR</td>\n",
       "      <td>1</td>\n",
       "    </tr>\n",
       "    <tr>\n",
       "      <th>18</th>\n",
       "      <td>[BZN-6050] MALTOplus 1,3 kg</td>\n",
       "      <td>2024-09</td>\n",
       "      <td>147.20</td>\n",
       "      <td>EUR</td>\n",
       "      <td>2</td>\n",
       "    </tr>\n",
       "    <tr>\n",
       "      <th>19</th>\n",
       "      <td>[BZN-6050] MALTOplus 1,3 kg</td>\n",
       "      <td>2024-10</td>\n",
       "      <td>220.80</td>\n",
       "      <td>EUR</td>\n",
       "      <td>2</td>\n",
       "    </tr>\n",
       "  </tbody>\n",
       "</table>\n",
       "</div>"
      ],
      "text/plain": [
       "                                         product_name    month  \\\n",
       "0   Rosengarten® Elektroheizung\\n•220-240V 50Hz 2000W  2024-12   \n",
       "1   [AM-091561] PP Mundpflegestäbchen mit PU Schwa...  2025-01   \n",
       "2   [AM-09592B] 100 x Med-Comfort Dental PS Einmal...  2024-08   \n",
       "3   [AM-34000] Zellstofftupfer, weiß, 4 x 5 cm, Me...  2024-09   \n",
       "4   [AM-34000] Zellstofftupfer, weiß, 4 x 5 cm, Me...  2024-12   \n",
       "5   [AM-34000] Zellstofftupfer, weiß, 4 x 5 cm, Me...  2025-01   \n",
       "6                      [AM-701190] Shampoohaube, weiß  2024-09   \n",
       "7                      [AM-701190] Shampoohaube, weiß  2025-01   \n",
       "8   [AM-L09170B] PP Medizinbecher, Farbe blau, 30 ...  2024-12   \n",
       "9   [AM-L09170G] PP Medizinbecher, Farbe gelb, 30 ...  2024-12   \n",
       "10  [AM-L09170Grün] PP Medizinbecher, Farbe grün, ...  2024-12   \n",
       "11  [AM-L09170R] PP Medizinbecher, Farbe rot, 30 m...  2024-12   \n",
       "12                          [BZN-6049] MALTOplus 4 kg  2024-08   \n",
       "13                          [BZN-6049] MALTOplus 4 kg  2024-10   \n",
       "14                          [BZN-6049] MALTOplus 4 kg  2024-11   \n",
       "15                          [BZN-6049] MALTOplus 4 kg  2024-12   \n",
       "16                          [BZN-6049] MALTOplus 4 kg  2025-01   \n",
       "17                       [BZN-6050] MALTOplus 1,3 kg   2024-08   \n",
       "18                       [BZN-6050] MALTOplus 1,3 kg   2024-09   \n",
       "19                       [BZN-6050] MALTOplus 1,3 kg   2024-10   \n",
       "\n",
       "    price_subtotal currency  order_count  \n",
       "0             2.00      EUR            2  \n",
       "1            60.76      EUR            1  \n",
       "2             6.59      EUR            1  \n",
       "3             6.86      EUR            1  \n",
       "4            34.30      EUR            1  \n",
       "5            51.45      EUR            1  \n",
       "6            37.40      EUR            1  \n",
       "7            37.40      EUR            1  \n",
       "8            56.13      EUR            1  \n",
       "9            56.13      EUR            1  \n",
       "10           56.13      EUR            1  \n",
       "11           56.13      EUR            1  \n",
       "12           39.00      EUR            2  \n",
       "13           78.00      EUR            2  \n",
       "14           19.50      EUR            1  \n",
       "15          195.00      EUR            1  \n",
       "16           19.50      EUR            1  \n",
       "17           88.32      EUR            1  \n",
       "18          147.20      EUR            2  \n",
       "19          220.80      EUR            2  "
      ]
     },
     "execution_count": 35,
     "metadata": {},
     "output_type": "execute_result"
    }
   ],
   "source": [
    "# 统计每个产品每个月卖出的数量和金额\n",
    "df_product_month_sales = odoo_sales_orderlines.groupby(['product_name', 'month', ]) \\\n",
    "                            .agg({'price_subtotal': sum, \n",
    "                                  'currency': 'first', \n",
    "                                  'order_number': 'nunique'}) \\\n",
    "                          \n",
    "df_product_month_sales = df_product_month_sales.rename(columns={'order_number': 'order_count'})\n",
    "df_product_month_sales.sort_values(['product_name','month'], )\n",
    "df_product_month_sales.reset_index(inplace=True)\n",
    "df_product_month_sales.head(20)"
   ]
  },
  {
   "cell_type": "code",
   "execution_count": 18,
   "metadata": {},
   "outputs": [],
   "source": [
    "columns_map= {\n",
    "        \"order_partner\": \"Kunde\",\n",
    "        \"price_subtotal\": \"Gesamt Netto (ERU)\",\n",
    "        \"currency\": \"Währung\",\n",
    "        \"order_count\": \"Auftragsmenge\",\n",
    "        \"avg_order_price\": \"Durchschnittlicher Bestellpreis\",\n",
    "        \"last_order_days\": \"Zuletzte Bestelltage\",\n",
    "        \"frequency_score\": \"Häufigkeitsbewertung\",\n",
    "        \"loyalty_score\": \"Treuepunktzahl\",\n",
    "        \"tag\": \"Tag\",\n",
    "        \"uom\": \"Maßeinheit\",\n",
    "        'product_uom_qty': 'Menge',\n",
    "        \"product_name\": \"Name\",\n",
    "        \"month\": \"Monat\",\n",
    "    }\n",
    "\n",
    "df_customer_sales = df_customer_sales.rename(columns= columns_map)\n",
    "df_customer_month_sales = df_customer_month_sales.rename(columns=columns_map)\n",
    "df_product_sales = df_product_sales.rename(columns=columns_map)\n",
    "df_product_month_sales = df_product_month_sales.rename(columns=columns_map)\n",
    "\n",
    "# Save in sheets\n",
    "with pd.ExcelWriter('data/sales.xlsx') as writer:\n",
    "    df_product_month_sales.to_excel(writer, sheet_name='product_month_sales')\n",
    "    df_product_sales.to_excel(writer, sheet_name='product_sales', index=False)\n",
    "    df_customer_month_sales.to_excel(writer, sheet_name='customer_month_sales', index=False)\n",
    "    df_customer_sales.to_excel(writer, sheet_name='customer_sales', index=False)"
   ]
  },
  {
   "cell_type": "markdown",
   "metadata": {},
   "source": [
    "4.1 细分客户群体\n",
    "根据 RFM 得分，可以对客户进行分群：\n",
    "\n",
    "高价值客户：忠诚度评分较高的客户（例如得分 ≥ 10）。\n",
    "潜在流失客户：最近一次购买时间较久但曾经频繁购买的客户。\n",
    "新客户：购买频率低但最近购买的客户。"
   ]
  },
  {
   "cell_type": "code",
   "execution_count": 19,
   "metadata": {},
   "outputs": [
    {
     "data": {
      "text/html": [
       "<div>\n",
       "<style scoped>\n",
       "    .dataframe tbody tr th:only-of-type {\n",
       "        vertical-align: middle;\n",
       "    }\n",
       "\n",
       "    .dataframe tbody tr th {\n",
       "        vertical-align: top;\n",
       "    }\n",
       "\n",
       "    .dataframe thead th {\n",
       "        text-align: right;\n",
       "    }\n",
       "</style>\n",
       "<table border=\"1\" class=\"dataframe\">\n",
       "  <thead>\n",
       "    <tr style=\"text-align: right;\">\n",
       "      <th></th>\n",
       "      <th>Name</th>\n",
       "      <th>Gesamt Netto (ERU)</th>\n",
       "      <th>Währung</th>\n",
       "      <th>Menge</th>\n",
       "      <th>Maßeinheit</th>\n",
       "      <th>Auftragsmenge</th>\n",
       "      <th>Zuletzte Bestelltage</th>\n",
       "    </tr>\n",
       "  </thead>\n",
       "  <tbody>\n",
       "    <tr>\n",
       "      <th>0</th>\n",
       "      <td>[HG-NI100BL] HansaGT Medical® Nitril Puderfrei...</td>\n",
       "      <td>19262.90</td>\n",
       "      <td>EUR</td>\n",
       "      <td>8874.0</td>\n",
       "      <td>Pck</td>\n",
       "      <td>86</td>\n",
       "      <td>6</td>\n",
       "    </tr>\n",
       "    <tr>\n",
       "      <th>1</th>\n",
       "      <td>[HG-NI100BM] HansaGT Medical® Nitril Puderfrei...</td>\n",
       "      <td>17851.80</td>\n",
       "      <td>EUR</td>\n",
       "      <td>8594.0</td>\n",
       "      <td>Pck</td>\n",
       "      <td>80</td>\n",
       "      <td>6</td>\n",
       "    </tr>\n",
       "    <tr>\n",
       "      <th>2</th>\n",
       "      <td>[HG-346172] HighCheck THC Drogentest Speichel ...</td>\n",
       "      <td>11787.90</td>\n",
       "      <td>EUR</td>\n",
       "      <td>2460.0</td>\n",
       "      <td>Units</td>\n",
       "      <td>5</td>\n",
       "      <td>20</td>\n",
       "    </tr>\n",
       "    <tr>\n",
       "      <th>3</th>\n",
       "      <td>[HG-NI100BXL] HansaGT Medical® Nitril Puderfre...</td>\n",
       "      <td>5842.10</td>\n",
       "      <td>EUR</td>\n",
       "      <td>2140.0</td>\n",
       "      <td>Pck</td>\n",
       "      <td>30</td>\n",
       "      <td>6</td>\n",
       "    </tr>\n",
       "    <tr>\n",
       "      <th>4</th>\n",
       "      <td>[HG-NI100BS] HansaGT Medical® Nitril Puderfrei...</td>\n",
       "      <td>5684.60</td>\n",
       "      <td>EUR</td>\n",
       "      <td>2744.0</td>\n",
       "      <td>Pck</td>\n",
       "      <td>49</td>\n",
       "      <td>6</td>\n",
       "    </tr>\n",
       "    <tr>\n",
       "      <th>...</th>\n",
       "      <td>...</td>\n",
       "      <td>...</td>\n",
       "      <td>...</td>\n",
       "      <td>...</td>\n",
       "      <td>...</td>\n",
       "      <td>...</td>\n",
       "      <td>...</td>\n",
       "    </tr>\n",
       "    <tr>\n",
       "      <th>156</th>\n",
       "      <td>[MMD-77120] 12 Stk. MaiMed-silk 2,50cm x 9,1m</td>\n",
       "      <td>11.14</td>\n",
       "      <td>EUR</td>\n",
       "      <td>1.0</td>\n",
       "      <td>Pcs</td>\n",
       "      <td>1</td>\n",
       "      <td>105</td>\n",
       "    </tr>\n",
       "    <tr>\n",
       "      <th>157</th>\n",
       "      <td>[AM-09592B] 100 x Med-Comfort Dental PS Einmal...</td>\n",
       "      <td>6.59</td>\n",
       "      <td>EUR</td>\n",
       "      <td>1.0</td>\n",
       "      <td>Pck</td>\n",
       "      <td>1</td>\n",
       "      <td>173</td>\n",
       "    </tr>\n",
       "    <tr>\n",
       "      <th>158</th>\n",
       "      <td>[DBE-1661000] Dr. Becher Reiniger für CERAN® K...</td>\n",
       "      <td>5.69</td>\n",
       "      <td>EUR</td>\n",
       "      <td>1.0</td>\n",
       "      <td>Bottle</td>\n",
       "      <td>1</td>\n",
       "      <td>148</td>\n",
       "    </tr>\n",
       "    <tr>\n",
       "      <th>159</th>\n",
       "      <td>Rosengarten® Elektroheizung\\n•220-240V 50Hz 2000W</td>\n",
       "      <td>2.00</td>\n",
       "      <td>EUR</td>\n",
       "      <td>2.0</td>\n",
       "      <td>Pcs</td>\n",
       "      <td>2</td>\n",
       "      <td>45</td>\n",
       "    </tr>\n",
       "    <tr>\n",
       "      <th>160</th>\n",
       "      <td>[DBE-1639000] Entkalkungs- und ReinigungsTabs ...</td>\n",
       "      <td>0.00</td>\n",
       "      <td>EUR</td>\n",
       "      <td>0.0</td>\n",
       "      <td>Pck</td>\n",
       "      <td>1</td>\n",
       "      <td>139</td>\n",
       "    </tr>\n",
       "  </tbody>\n",
       "</table>\n",
       "<p>161 rows × 7 columns</p>\n",
       "</div>"
      ],
      "text/plain": [
       "                                                  Name  Gesamt Netto (ERU)  \\\n",
       "0    [HG-NI100BL] HansaGT Medical® Nitril Puderfrei...            19262.90   \n",
       "1    [HG-NI100BM] HansaGT Medical® Nitril Puderfrei...            17851.80   \n",
       "2    [HG-346172] HighCheck THC Drogentest Speichel ...            11787.90   \n",
       "3    [HG-NI100BXL] HansaGT Medical® Nitril Puderfre...             5842.10   \n",
       "4    [HG-NI100BS] HansaGT Medical® Nitril Puderfrei...             5684.60   \n",
       "..                                                 ...                 ...   \n",
       "156      [MMD-77120] 12 Stk. MaiMed-silk 2,50cm x 9,1m               11.14   \n",
       "157  [AM-09592B] 100 x Med-Comfort Dental PS Einmal...                6.59   \n",
       "158  [DBE-1661000] Dr. Becher Reiniger für CERAN® K...                5.69   \n",
       "159  Rosengarten® Elektroheizung\\n•220-240V 50Hz 2000W                2.00   \n",
       "160  [DBE-1639000] Entkalkungs- und ReinigungsTabs ...                0.00   \n",
       "\n",
       "    Währung   Menge Maßeinheit  Auftragsmenge  Zuletzte Bestelltage  \n",
       "0       EUR  8874.0        Pck             86                     6  \n",
       "1       EUR  8594.0        Pck             80                     6  \n",
       "2       EUR  2460.0      Units              5                    20  \n",
       "3       EUR  2140.0        Pck             30                     6  \n",
       "4       EUR  2744.0        Pck             49                     6  \n",
       "..      ...     ...        ...            ...                   ...  \n",
       "156     EUR     1.0        Pcs              1                   105  \n",
       "157     EUR     1.0        Pck              1                   173  \n",
       "158     EUR     1.0     Bottle              1                   148  \n",
       "159     EUR     2.0        Pcs              2                    45  \n",
       "160     EUR     0.0        Pck              1                   139  \n",
       "\n",
       "[161 rows x 7 columns]"
      ]
     },
     "execution_count": 19,
     "metadata": {},
     "output_type": "execute_result"
    }
   ],
   "source": [
    "df_product_sales"
   ]
  },
  {
   "cell_type": "markdown",
   "metadata": {},
   "source": [
    "# 获得采购成本"
   ]
  },
  {
   "cell_type": "markdown",
   "metadata": {},
   "source": [
    "### 获得所有的Bestellung\n"
   ]
  },
  {
   "cell_type": "code",
   "execution_count": 38,
   "metadata": {},
   "outputs": [
    {
     "name": "stdout",
     "output_type": "stream",
     "text": [
      "81\n",
      "{'id': 97, 'activity_ids': [], 'activity_state': False, 'activity_user_id': False, 'activity_type_id': False, 'activity_type_icon': False, 'activity_date_deadline': False, 'my_activity_date_deadline': False, 'activity_summary': False, 'activity_exception_decoration': False, 'activity_exception_icon': False, 'activity_calendar_event_id': False, 'message_is_follower': True, 'message_follower_ids': [5092, 5125], 'message_partner_ids': [3, 43], 'message_ids': [13435, 13431, 13430, 13421, 13360], 'has_message': True, 'message_needaction': False, 'message_needaction_counter': 0, 'message_has_error': False, 'message_has_error_counter': 0, 'message_attachment_count': 17, 'rating_ids': [], 'website_message_ids': [13435, 13431], 'message_has_sms_error': False, 'access_url': '/my/purchase/97', 'access_token': '2403bc8b-47a3-40de-a180-0f6f19b188ee', 'access_warning': '', 'name': 'BE250009701', 'priority': '0', 'origin': 'Auffüllbericht', 'partner_ref': False, 'date_order': '2025-01-20 12:00:00', 'date_approve': '2025-01-20 15:18:32', 'partner_id': [43, 'MaiMed'], 'dest_address_id': False, 'currency_id': [126, 'EUR'], 'state': 'purchase', 'order_line': [282, 272, 279, 277, 278, 276, 275, 281, 273, 274, 280], 'notes': False, 'invoice_count': 0, 'invoice_ids': [], 'invoice_status': 'no', 'date_planned': '2025-01-21 12:00:00', 'date_calendar_start': '2025-01-20 15:18:32', 'amount_untaxed': 2956.65, 'tax_totals': {'amount_untaxed': 2956.65, 'amount_total': 3518.42, 'formatted_amount_total': '3,518.42\\xa0€', 'formatted_amount_untaxed': '2,956.65\\xa0€', 'groups_by_subtotal': {'Nettobetrag': [{'group_key': 7, 'tax_group_id': 7, 'tax_group_name': 'VAT 19%', 'tax_group_amount': 561.7699999999999, 'tax_group_base_amount': 2956.650000000001, 'formatted_tax_group_amount': '561.77\\xa0€', 'formatted_tax_group_base_amount': '2,956.65\\xa0€', 'hide_base_amount': False}]}, 'subtotals': [{'name': 'Nettobetrag', 'amount': 2956.650000000001, 'formatted_amount': '2,956.65\\xa0€'}], 'subtotals_order': ['Nettobetrag'], 'display_tax_base': False}, 'amount_tax': 561.77, 'amount_total': 3518.42, 'fiscal_position_id': [1, 'Domestic business partner'], 'tax_country_id': [57, 'Germany'], 'tax_calculation_rounding_method': 'round_per_line', 'payment_term_id': [3, '21 days net'], 'incoterm_id': False, 'product_id': [2273, '[MMD-21230] MaiMed-VK-unsteril 10x10cm 4-f., 100 St./Papiertü.'], 'user_id': [2, 'Clara C. Chen'], 'company_id': [1, 'HansaGT Medical GmbH'], 'country_code': 'DE', 'currency_rate': 1.0, 'mail_reminder_confirmed': False, 'mail_reception_confirmed': False, 'receipt_reminder_email': False, 'reminder_date_before_receipt': 1, 'display_name': 'BE250009701', 'create_uid': [1, 'HansaGT Medical Team'], 'create_date': '2025-01-20 14:25:20', 'write_uid': [2, 'Clara C. Chen'], 'write_date': '2025-01-20 15:18:47', 'l10n_din5008_template_data': [['Bestellnr.', 'BE250009701'], ['Einkaufsbeauftragter', 'Clara C. Chen'], ['Bestelldatum', '01/20/2025']], 'l10n_din5008_document_title': 'Bestellung', 'incoterm_location': False, 'incoming_picking_count': 1, 'picking_ids': [557], 'picking_type_id': [1, 'HansaGT Medical GmbH (Lager): Receipts'], 'default_location_dest_id_usage': 'internal', 'group_id': [437, 'BE250009701'], 'is_shipped': False, 'effective_date': False, 'on_time_rate': 68.29679595278246, 'receipt_status': 'pending', 'sale_order_count': 0}\n"
     ]
    }
   ],
   "source": [
    "domain = [('partner_id', 'not in', [39, 316])]\n",
    "order_ids = cli.search('purchase.order', [domain])\n",
    "orders_ = cli.read('purchase.order', [order_ids])\n",
    "print(len(order_ids))\n",
    "print(orders_[0])"
   ]
  },
  {
   "cell_type": "code",
   "execution_count": 39,
   "metadata": {},
   "outputs": [
    {
     "data": {
      "text/plain": [
       "{'id': 85,\n",
       " 'activity_ids': [],\n",
       " 'activity_state': False,\n",
       " 'activity_user_id': False,\n",
       " 'activity_type_id': False,\n",
       " 'activity_type_icon': False,\n",
       " 'activity_date_deadline': False,\n",
       " 'my_activity_date_deadline': False,\n",
       " 'activity_summary': False,\n",
       " 'activity_exception_decoration': False,\n",
       " 'activity_exception_icon': False,\n",
       " 'activity_calendar_event_id': False,\n",
       " 'message_is_follower': True,\n",
       " 'message_follower_ids': [4735, 4737],\n",
       " 'message_partner_ids': [3, 49],\n",
       " 'message_ids': [13113,\n",
       "  13112,\n",
       "  13111,\n",
       "  13110,\n",
       "  13109,\n",
       "  13053,\n",
       "  13050,\n",
       "  13047,\n",
       "  13046,\n",
       "  11730,\n",
       "  11729,\n",
       "  11726,\n",
       "  11725],\n",
       " 'has_message': True,\n",
       " 'message_needaction': False,\n",
       " 'message_needaction_counter': 0,\n",
       " 'message_has_error': False,\n",
       " 'message_has_error_counter': 0,\n",
       " 'message_attachment_count': 2,\n",
       " 'rating_ids': [],\n",
       " 'website_message_ids': [11730],\n",
       " 'message_has_sms_error': False,\n",
       " 'access_url': '/my/purchase/85',\n",
       " 'access_token': '60fcecdf-731b-4342-bb2b-014a2daedaa6',\n",
       " 'access_warning': '',\n",
       " 'name': 'BE250008501',\n",
       " 'priority': '0',\n",
       " 'origin': 'OP/00751, OP/00746, Auffüllbericht',\n",
       " 'partner_ref': False,\n",
       " 'date_order': '2025-01-13 12:00:00',\n",
       " 'date_approve': '2025-01-16 09:31:04',\n",
       " 'partner_id': [49, 'Keerl GmbH'],\n",
       " 'dest_address_id': False,\n",
       " 'currency_id': [126, 'EUR'],\n",
       " 'state': 'purchase',\n",
       " 'order_line': [225, 226, 227, 259, 260],\n",
       " 'notes': False,\n",
       " 'invoice_count': 0,\n",
       " 'invoice_ids': [],\n",
       " 'invoice_status': 'to invoice',\n",
       " 'date_planned': '2025-01-16 13:00:00',\n",
       " 'date_calendar_start': '2025-01-16 09:31:04',\n",
       " 'amount_untaxed': 380.22,\n",
       " 'tax_totals': {'amount_untaxed': 380.22,\n",
       "  'amount_total': 452.47,\n",
       "  'formatted_amount_total': '452.47\\xa0€',\n",
       "  'formatted_amount_untaxed': '380.22\\xa0€',\n",
       "  'groups_by_subtotal': {'Nettobetrag': [{'group_key': 7,\n",
       "     'tax_group_id': 7,\n",
       "     'tax_group_name': 'VAT 19%',\n",
       "     'tax_group_amount': 72.25,\n",
       "     'tax_group_base_amount': 380.21999999999997,\n",
       "     'formatted_tax_group_amount': '72.25\\xa0€',\n",
       "     'formatted_tax_group_base_amount': '380.22\\xa0€',\n",
       "     'hide_base_amount': False}]},\n",
       "  'subtotals': [{'name': 'Nettobetrag',\n",
       "    'amount': 380.21999999999997,\n",
       "    'formatted_amount': '380.22\\xa0€'}],\n",
       "  'subtotals_order': ['Nettobetrag'],\n",
       "  'display_tax_base': False},\n",
       " 'amount_tax': 72.25,\n",
       " 'amount_total': 452.47,\n",
       " 'fiscal_position_id': [1, 'Domestic business partner'],\n",
       " 'tax_country_id': [57, 'Germany'],\n",
       " 'tax_calculation_rounding_method': 'round_per_line',\n",
       " 'payment_term_id': [13, '30 Tage, 14 Tg. 2%'],\n",
       " 'incoterm_id': False,\n",
       " 'product_id': [2540, '[PK-07730017] Tapira Hygienebeutel Papier 1 Krt'],\n",
       " 'user_id': [2, 'Clara C. Chen'],\n",
       " 'company_id': [1, 'HansaGT Medical GmbH'],\n",
       " 'country_code': 'DE',\n",
       " 'currency_rate': 1.0,\n",
       " 'mail_reminder_confirmed': False,\n",
       " 'mail_reception_confirmed': False,\n",
       " 'receipt_reminder_email': False,\n",
       " 'reminder_date_before_receipt': 1,\n",
       " 'display_name': 'BE250008501',\n",
       " 'create_uid': [1, 'HansaGT Medical Team'],\n",
       " 'create_date': '2025-01-13 10:47:39',\n",
       " 'write_uid': [2, 'Clara C. Chen'],\n",
       " 'write_date': '2025-01-16 12:21:58',\n",
       " 'l10n_din5008_template_data': [['Bestellnr.', 'BE250008501'],\n",
       "  ['Einkaufsbeauftragter', 'Clara C. Chen'],\n",
       "  ['Bestelldatum', '01/16/2025']],\n",
       " 'l10n_din5008_document_title': 'Bestellung',\n",
       " 'incoterm_location': False,\n",
       " 'incoming_picking_count': 2,\n",
       " 'picking_ids': [533, 499],\n",
       " 'picking_type_id': [1, 'HansaGT Medical GmbH (Lager): Receipts'],\n",
       " 'default_location_dest_id_usage': 'internal',\n",
       " 'group_id': [393, 'BE250008501'],\n",
       " 'is_shipped': True,\n",
       " 'effective_date': '2025-01-16 12:21:58',\n",
       " 'on_time_rate': 56.23159960745829,\n",
       " 'receipt_status': 'full',\n",
       " 'sale_order_count': 0}"
      ]
     },
     "execution_count": 39,
     "metadata": {},
     "output_type": "execute_result"
    }
   ],
   "source": [
    "orders_[10]"
   ]
  },
  {
   "cell_type": "code",
   "execution_count": 40,
   "metadata": {},
   "outputs": [
    {
     "name": "stdout",
     "output_type": "stream",
     "text": [
      "Length: 256\n",
      "[2, 3, 4, 5, 6, 7, 8, 9, 10, 11]\n"
     ]
    }
   ],
   "source": [
    "# 获取所有orderline的id\n",
    "order_line_ids = set()\n",
    "for od in orders_:\n",
    "    order_line_ids.update(od['order_line'])\n",
    "\n",
    "order_line_ids = list(order_line_ids)\n",
    "print(f\"Length: {len(order_line_ids)}\")\n",
    "print(order_line_ids[:10])"
   ]
  },
  {
   "cell_type": "code",
   "execution_count": 41,
   "metadata": {},
   "outputs": [
    {
     "data": {
      "text/plain": [
       "{'id': 60,\n",
       " 'analytic_distribution': False,\n",
       " 'analytic_distribution_search': False,\n",
       " 'analytic_precision': 2,\n",
       " 'name': '[700541] 500 ml Lotio Med Soft Professional & Care Waschlotion',\n",
       " 'sequence': 10,\n",
       " 'product_qty': 36.0,\n",
       " 'product_uom_qty': 36.0,\n",
       " 'date_planned': '2024-09-06 12:00:00',\n",
       " 'discount': 0.0,\n",
       " 'taxes_id': [25],\n",
       " 'product_uom': [27, 'Bottle'],\n",
       " 'product_uom_category_id': [1, 'Unit'],\n",
       " 'product_id': [1238,\n",
       "  '[DDE-700541] 500 ml Lotio Med Soft Professional & Care Waschlotion'],\n",
       " 'product_type': 'product',\n",
       " 'price_unit': 1.36,\n",
       " 'price_unit_discounted': 1.36,\n",
       " 'price_subtotal': 48.96,\n",
       " 'price_total': 58.26,\n",
       " 'price_tax': 9.3,\n",
       " 'order_id': [23, 'BE240002308'],\n",
       " 'company_id': [1, 'HansaGT Medical GmbH'],\n",
       " 'state': 'purchase',\n",
       " 'invoice_lines': [],\n",
       " 'qty_invoiced': 0.0,\n",
       " 'qty_received_method': 'stock_moves',\n",
       " 'qty_received': 36.0,\n",
       " 'qty_received_manual': 0.0,\n",
       " 'qty_to_invoice': 36.0,\n",
       " 'partner_id': [41, 'Laboratorium Dr.Deppe GmbH'],\n",
       " 'currency_id': [126, 'EUR'],\n",
       " 'date_order': '2024-08-27 12:00:00',\n",
       " 'date_approve': '2024-08-29 11:56:13',\n",
       " 'product_packaging_id': False,\n",
       " 'product_packaging_qty': 0.0,\n",
       " 'tax_calculation_rounding_method': 'round_per_line',\n",
       " 'display_type': False,\n",
       " 'display_name': '[700541] 500 ml Lotio Med Soft Professional & Care Waschlotion',\n",
       " 'create_uid': [6, 'Xenia Meyer'],\n",
       " 'create_date': '2024-08-27 11:13:43',\n",
       " 'write_uid': [6, 'Xenia Meyer'],\n",
       " 'write_date': '2024-09-05 13:31:20',\n",
       " 'move_ids': [825],\n",
       " 'orderpoint_id': [282, 'OP/00696'],\n",
       " 'move_dest_ids': [],\n",
       " 'product_description_variants': False,\n",
       " 'propagate_cancel': False,\n",
       " 'forecasted_issue': False,\n",
       " 'sale_order_id': False,\n",
       " 'sale_line_id': False}"
      ]
     },
     "execution_count": 41,
     "metadata": {},
     "output_type": "execute_result"
    }
   ],
   "source": [
    "orderlines_ = cli.read('purchase.order.line', [order_line_ids])\n",
    "orderlines_[50]"
   ]
  },
  {
   "cell_type": "code",
   "execution_count": 42,
   "metadata": {},
   "outputs": [
    {
     "name": "stdout",
     "output_type": "stream",
     "text": [
      "Number of orders: 81\n"
     ]
    }
   ],
   "source": [
    "purchase_orders = []\n",
    "for od in orders_:\n",
    "    so = dict(\n",
    "        id = od['id'],\n",
    "        name = od['name'],\n",
    "        company = od['company_id'][1],\n",
    "        partner = od['partner_id'][1],\n",
    "        state = od['state'],\n",
    "        date_order = od['date_order'],\n",
    "        invoice_status = od['invoice_status'],        \n",
    "        # shipping_weight = od['shipping_weight'],\n",
    "        orderline_ids = od['order_line']\n",
    "    )\n",
    "    purchase_orders.append(so)\n",
    "\n",
    "print(f\"Number of orders: {len(purchase_orders)}\")\n",
    "df_purchase_orders = pd.DataFrame.from_dict(purchase_orders)\n",
    "df_purchase_orders.to_excel(\"data/purchase_orders.xlsx\", index=False)"
   ]
  },
  {
   "cell_type": "code",
   "execution_count": 43,
   "metadata": {},
   "outputs": [],
   "source": [
    "orderlines = []\n",
    "\n",
    "for odl in orderlines_: \n",
    "    # print(odl)   \n",
    "    if odl['display_type'] == 'line_note':\n",
    "        continue\n",
    "    line = {\n",
    "        \"order_number\": odl['order_id'][1],  # 订单号\n",
    "        \"product_name\": odl['name'],  \n",
    "        \"currency\": odl['currency_id'][1], \n",
    "        \"order_partner\": odl['partner_id'][1], # 客户\n",
    "        # \"salesman\": odl['salesman_id'][1], # 销售员\n",
    "        'state': odl['state'], \n",
    "        'uom': odl['product_uom'][1],  # 单位\n",
    "        'product_uom_qty': odl['product_uom_qty'],   #product_qty\n",
    "        'product_qty': odl['product_qty'],  # 数量\n",
    "        'price_unit': odl['price_unit'],  # 单价\n",
    "        'price_subtotal': odl['price_subtotal'], # 小计\n",
    "        'price_tax': odl['price_tax'], # 含税\n",
    "        'price_total': odl['price_total'], # 总计\n",
    "        'qty_to_invoice': odl['qty_to_invoice'], \n",
    "        'qty_received': odl['qty_received'],\n",
    "        'date_order': odl['date_order'],\n",
    "        'product_type': odl['product_type'],\n",
    "        'create_date': odl['create_date'],\n",
    "        'discount': odl['discount'],               \n",
    "    }\n",
    "\n",
    "    orderlines.append(line)\n",
    "\n",
    "# print(len(orderlines))\n",
    "# orderlines[10]\n",
    "\n",
    "df_purchase_order_lines = pd.DataFrame.from_dict(orderlines)\n",
    "df_purchase_order_lines['create_date'] = pd.to_datetime(df_purchase_order_lines['create_date'], format='%Y-%m-%d %H:%M:%S')\n",
    "df_purchase_order_lines.sort_values(by='create_date', inplace=True)\n",
    "df_purchase_order_lines.to_excel('data/purchase_order_lines.xlsx')"
   ]
  },
  {
   "cell_type": "code",
   "execution_count": 44,
   "metadata": {},
   "outputs": [
    {
     "name": "stdout",
     "output_type": "stream",
     "text": [
      "229\n"
     ]
    }
   ],
   "source": [
    "import datetime\n",
    "# 数据清洗\n",
    "\n",
    "# 被取消的orderlines\n",
    "df_filtered_purchase_orderlines = df_purchase_order_lines[df_purchase_order_lines['state']== 'purchase']\n",
    "\n",
    "# product_type == product\n",
    "df_filtered_purchase_orderlines = df_filtered_purchase_orderlines[df_filtered_purchase_orderlines['product_type'] == 'product']\n",
    "\n",
    "# 订单中所有商品的qty_received == product_uom_qty\n",
    "qty_all_received = df_filtered_purchase_orderlines['qty_received'] == df_filtered_purchase_orderlines['product_uom_qty']\n",
    "# df_filtered_purchase_orderlines = df_filtered_purchase_orderlines[qty_all_received]\n",
    "\n",
    "# price_unit != 0\n",
    "df_filtered_purchase_orderlines = df_filtered_purchase_orderlines[df_filtered_purchase_orderlines['price_unit']!= 0]\n",
    "\n",
    "df_filtered_purchase_orderlines['year'] = df_filtered_purchase_orderlines['create_date'].dt.strftime('%Y')\n",
    "df_filtered_purchase_orderlines['month'] = df_filtered_purchase_orderlines['create_date'].dt.strftime('%Y-%m')\n",
    "\n",
    "df_filtered_purchase_orderlines.to_excel('data/purchase_order_lines.xlsx')\n",
    "print(len(df_filtered_purchase_orderlines))"
   ]
  },
  {
   "cell_type": "code",
   "execution_count": 45,
   "metadata": {},
   "outputs": [
    {
     "data": {
      "text/html": [
       "<div>\n",
       "<style scoped>\n",
       "    .dataframe tbody tr th:only-of-type {\n",
       "        vertical-align: middle;\n",
       "    }\n",
       "\n",
       "    .dataframe tbody tr th {\n",
       "        vertical-align: top;\n",
       "    }\n",
       "\n",
       "    .dataframe thead th {\n",
       "        text-align: right;\n",
       "    }\n",
       "</style>\n",
       "<table border=\"1\" class=\"dataframe\">\n",
       "  <thead>\n",
       "    <tr style=\"text-align: right;\">\n",
       "      <th></th>\n",
       "      <th>order_number</th>\n",
       "      <th>product_name</th>\n",
       "      <th>currency</th>\n",
       "      <th>order_partner</th>\n",
       "      <th>state</th>\n",
       "      <th>uom</th>\n",
       "      <th>product_uom_qty</th>\n",
       "      <th>product_qty</th>\n",
       "      <th>price_unit</th>\n",
       "      <th>price_subtotal</th>\n",
       "      <th>price_tax</th>\n",
       "      <th>price_total</th>\n",
       "      <th>qty_to_invoice</th>\n",
       "      <th>qty_received</th>\n",
       "      <th>date_order</th>\n",
       "      <th>product_type</th>\n",
       "      <th>create_date</th>\n",
       "      <th>discount</th>\n",
       "      <th>year</th>\n",
       "      <th>month</th>\n",
       "    </tr>\n",
       "  </thead>\n",
       "  <tbody>\n",
       "    <tr>\n",
       "      <th>0</th>\n",
       "      <td>BE240000207</td>\n",
       "      <td>[HG-TEST01] Just for testing 1</td>\n",
       "      <td>EUR</td>\n",
       "      <td>Meditrade</td>\n",
       "      <td>purchase</td>\n",
       "      <td>Pck</td>\n",
       "      <td>1.0</td>\n",
       "      <td>1.0</td>\n",
       "      <td>0.12</td>\n",
       "      <td>0.12</td>\n",
       "      <td>0.02</td>\n",
       "      <td>0.14</td>\n",
       "      <td>1.0</td>\n",
       "      <td>1.0</td>\n",
       "      <td>2024-07-24 09:16:35</td>\n",
       "      <td>product</td>\n",
       "      <td>2024-07-24 09:16:41</td>\n",
       "      <td>0.0</td>\n",
       "      <td>2024</td>\n",
       "      <td>2024-07</td>\n",
       "    </tr>\n",
       "    <tr>\n",
       "      <th>1</th>\n",
       "      <td>BE240000307</td>\n",
       "      <td>[601302] 500 ml Lotio Sept Basic- OA Händedesi...</td>\n",
       "      <td>EUR</td>\n",
       "      <td>Laboratorium Dr.Deppe GmbH</td>\n",
       "      <td>purchase</td>\n",
       "      <td>Bottle</td>\n",
       "      <td>36.0</td>\n",
       "      <td>36.0</td>\n",
       "      <td>1.13</td>\n",
       "      <td>40.68</td>\n",
       "      <td>7.73</td>\n",
       "      <td>48.41</td>\n",
       "      <td>36.0</td>\n",
       "      <td>36.0</td>\n",
       "      <td>2024-07-24 12:00:00</td>\n",
       "      <td>product</td>\n",
       "      <td>2024-07-24 13:19:18</td>\n",
       "      <td>0.0</td>\n",
       "      <td>2024</td>\n",
       "      <td>2024-07</td>\n",
       "    </tr>\n",
       "    <tr>\n",
       "      <th>2</th>\n",
       "      <td>BE240000307</td>\n",
       "      <td>[700121] 200 ml Lotio Aktiv Professional - küh...</td>\n",
       "      <td>EUR</td>\n",
       "      <td>Laboratorium Dr.Deppe GmbH</td>\n",
       "      <td>purchase</td>\n",
       "      <td>Tube</td>\n",
       "      <td>12.0</td>\n",
       "      <td>12.0</td>\n",
       "      <td>1.73</td>\n",
       "      <td>20.76</td>\n",
       "      <td>3.94</td>\n",
       "      <td>24.70</td>\n",
       "      <td>12.0</td>\n",
       "      <td>12.0</td>\n",
       "      <td>2024-07-24 12:00:00</td>\n",
       "      <td>product</td>\n",
       "      <td>2024-07-24 13:19:18</td>\n",
       "      <td>0.0</td>\n",
       "      <td>2024</td>\n",
       "      <td>2024-07</td>\n",
       "    </tr>\n",
       "    <tr>\n",
       "      <th>3</th>\n",
       "      <td>BE240000307</td>\n",
       "      <td>[700541] 500 ml Lotio Med Soft Professional &amp; ...</td>\n",
       "      <td>EUR</td>\n",
       "      <td>Laboratorium Dr.Deppe GmbH</td>\n",
       "      <td>purchase</td>\n",
       "      <td>Bottle</td>\n",
       "      <td>18.0</td>\n",
       "      <td>18.0</td>\n",
       "      <td>1.36</td>\n",
       "      <td>24.48</td>\n",
       "      <td>4.65</td>\n",
       "      <td>29.13</td>\n",
       "      <td>0.0</td>\n",
       "      <td>0.0</td>\n",
       "      <td>2024-07-24 12:00:00</td>\n",
       "      <td>product</td>\n",
       "      <td>2024-07-24 13:19:18</td>\n",
       "      <td>0.0</td>\n",
       "      <td>2024</td>\n",
       "      <td>2024-07</td>\n",
       "    </tr>\n",
       "    <tr>\n",
       "      <th>4</th>\n",
       "      <td>BE240000307</td>\n",
       "      <td>[700575] 500 ml Lotio Protect Professional &amp; C...</td>\n",
       "      <td>EUR</td>\n",
       "      <td>Laboratorium Dr.Deppe GmbH</td>\n",
       "      <td>purchase</td>\n",
       "      <td>Bottle</td>\n",
       "      <td>18.0</td>\n",
       "      <td>18.0</td>\n",
       "      <td>4.55</td>\n",
       "      <td>81.90</td>\n",
       "      <td>15.56</td>\n",
       "      <td>97.46</td>\n",
       "      <td>18.0</td>\n",
       "      <td>18.0</td>\n",
       "      <td>2024-07-24 12:00:00</td>\n",
       "      <td>product</td>\n",
       "      <td>2024-07-24 13:19:18</td>\n",
       "      <td>0.0</td>\n",
       "      <td>2024</td>\n",
       "      <td>2024-07</td>\n",
       "    </tr>\n",
       "  </tbody>\n",
       "</table>\n",
       "</div>"
      ],
      "text/plain": [
       "  order_number                                       product_name currency  \\\n",
       "0  BE240000207                     [HG-TEST01] Just for testing 1      EUR   \n",
       "1  BE240000307  [601302] 500 ml Lotio Sept Basic- OA Händedesi...      EUR   \n",
       "2  BE240000307  [700121] 200 ml Lotio Aktiv Professional - küh...      EUR   \n",
       "3  BE240000307  [700541] 500 ml Lotio Med Soft Professional & ...      EUR   \n",
       "4  BE240000307  [700575] 500 ml Lotio Protect Professional & C...      EUR   \n",
       "\n",
       "                order_partner     state     uom  product_uom_qty  product_qty  \\\n",
       "0                   Meditrade  purchase     Pck              1.0          1.0   \n",
       "1  Laboratorium Dr.Deppe GmbH  purchase  Bottle             36.0         36.0   \n",
       "2  Laboratorium Dr.Deppe GmbH  purchase    Tube             12.0         12.0   \n",
       "3  Laboratorium Dr.Deppe GmbH  purchase  Bottle             18.0         18.0   \n",
       "4  Laboratorium Dr.Deppe GmbH  purchase  Bottle             18.0         18.0   \n",
       "\n",
       "   price_unit  price_subtotal  price_tax  price_total  qty_to_invoice  \\\n",
       "0        0.12            0.12       0.02         0.14             1.0   \n",
       "1        1.13           40.68       7.73        48.41            36.0   \n",
       "2        1.73           20.76       3.94        24.70            12.0   \n",
       "3        1.36           24.48       4.65        29.13             0.0   \n",
       "4        4.55           81.90      15.56        97.46            18.0   \n",
       "\n",
       "   qty_received           date_order product_type         create_date  \\\n",
       "0           1.0  2024-07-24 09:16:35      product 2024-07-24 09:16:41   \n",
       "1          36.0  2024-07-24 12:00:00      product 2024-07-24 13:19:18   \n",
       "2          12.0  2024-07-24 12:00:00      product 2024-07-24 13:19:18   \n",
       "3           0.0  2024-07-24 12:00:00      product 2024-07-24 13:19:18   \n",
       "4          18.0  2024-07-24 12:00:00      product 2024-07-24 13:19:18   \n",
       "\n",
       "   discount  year    month  \n",
       "0       0.0  2024  2024-07  \n",
       "1       0.0  2024  2024-07  \n",
       "2       0.0  2024  2024-07  \n",
       "3       0.0  2024  2024-07  \n",
       "4       0.0  2024  2024-07  "
      ]
     },
     "execution_count": 45,
     "metadata": {},
     "output_type": "execute_result"
    }
   ],
   "source": [
    "# 统计每个产品的采购价\n",
    "odoo_purchase_orderlines = df_filtered_purchase_orderlines.copy()\n",
    "odoo_purchase_orderlines.head(5)\n"
   ]
  },
  {
   "cell_type": "code",
   "execution_count": 59,
   "metadata": {},
   "outputs": [
    {
     "name": "stdout",
     "output_type": "stream",
     "text": [
      "143\n"
     ]
    },
    {
     "data": {
      "text/html": [
       "<div>\n",
       "<style scoped>\n",
       "    .dataframe tbody tr th:only-of-type {\n",
       "        vertical-align: middle;\n",
       "    }\n",
       "\n",
       "    .dataframe tbody tr th {\n",
       "        vertical-align: top;\n",
       "    }\n",
       "\n",
       "    .dataframe thead th {\n",
       "        text-align: right;\n",
       "    }\n",
       "</style>\n",
       "<table border=\"1\" class=\"dataframe\">\n",
       "  <thead>\n",
       "    <tr style=\"text-align: right;\">\n",
       "      <th></th>\n",
       "      <th>product_name</th>\n",
       "      <th>price_unit_mean</th>\n",
       "      <th>price_unit_first</th>\n",
       "      <th>price_unit_last</th>\n",
       "      <th>price_unit_min</th>\n",
       "      <th>price_unit_max</th>\n",
       "      <th>currency_first</th>\n",
       "      <th>product_name_count</th>\n",
       "      <th>product_uom_qty_sum</th>\n",
       "    </tr>\n",
       "  </thead>\n",
       "  <tbody>\n",
       "    <tr>\n",
       "      <th>122</th>\n",
       "      <td>[MCT-RD20018002] VINYLEX PF, Vinyl Handschuhe,...</td>\n",
       "      <td>1.55</td>\n",
       "      <td>1.55</td>\n",
       "      <td>1.55</td>\n",
       "      <td>1.55</td>\n",
       "      <td>1.55</td>\n",
       "      <td>EUR</td>\n",
       "      <td>1</td>\n",
       "      <td>500.0</td>\n",
       "    </tr>\n",
       "    <tr>\n",
       "      <th>81</th>\n",
       "      <td>[601107] Spray In QF</td>\n",
       "      <td>23.65</td>\n",
       "      <td>23.65</td>\n",
       "      <td>23.65</td>\n",
       "      <td>23.65</td>\n",
       "      <td>23.65</td>\n",
       "      <td>EUR</td>\n",
       "      <td>2</td>\n",
       "      <td>32.0</td>\n",
       "    </tr>\n",
       "    <tr>\n",
       "      <th>113</th>\n",
       "      <td>[DSM-004570P010] ASEPTOMAN®MED Händedesinfekti...</td>\n",
       "      <td>4.53</td>\n",
       "      <td>4.53</td>\n",
       "      <td>4.53</td>\n",
       "      <td>4.53</td>\n",
       "      <td>4.53</td>\n",
       "      <td>EUR</td>\n",
       "      <td>1</td>\n",
       "      <td>84.0</td>\n",
       "    </tr>\n",
       "    <tr>\n",
       "      <th>28</th>\n",
       "      <td>[01034200] melinip Schnabelbecher ECO, Breidec...</td>\n",
       "      <td>5.40</td>\n",
       "      <td>5.40</td>\n",
       "      <td>5.40</td>\n",
       "      <td>5.40</td>\n",
       "      <td>5.40</td>\n",
       "      <td>EUR</td>\n",
       "      <td>2</td>\n",
       "      <td>10.0</td>\n",
       "    </tr>\n",
       "    <tr>\n",
       "      <th>137</th>\n",
       "      <td>[SN-SE091SB25D03] Seni Soft Basic 90 cm x60 cm...</td>\n",
       "      <td>5.17</td>\n",
       "      <td>5.17</td>\n",
       "      <td>5.17</td>\n",
       "      <td>5.17</td>\n",
       "      <td>5.17</td>\n",
       "      <td>EUR</td>\n",
       "      <td>2</td>\n",
       "      <td>160.0</td>\n",
       "    </tr>\n",
       "    <tr>\n",
       "      <th>115</th>\n",
       "      <td>[HG-NI100BL] HansaGT Medical® Nitril Puderfrei...</td>\n",
       "      <td>1.60</td>\n",
       "      <td>1.60</td>\n",
       "      <td>1.60</td>\n",
       "      <td>1.60</td>\n",
       "      <td>1.60</td>\n",
       "      <td>EUR</td>\n",
       "      <td>1</td>\n",
       "      <td>12000.0</td>\n",
       "    </tr>\n",
       "    <tr>\n",
       "      <th>30</th>\n",
       "      <td>[01034206] melinip Schnabelbecher ECO, Breidec...</td>\n",
       "      <td>5.40</td>\n",
       "      <td>5.40</td>\n",
       "      <td>5.40</td>\n",
       "      <td>5.40</td>\n",
       "      <td>5.40</td>\n",
       "      <td>EUR</td>\n",
       "      <td>1</td>\n",
       "      <td>6.0</td>\n",
       "    </tr>\n",
       "    <tr>\n",
       "      <th>125</th>\n",
       "      <td>[MPM- A21210014] MP Med® Andickungspulver PLUS...</td>\n",
       "      <td>11.49</td>\n",
       "      <td>11.49</td>\n",
       "      <td>11.49</td>\n",
       "      <td>11.49</td>\n",
       "      <td>11.49</td>\n",
       "      <td>EUR</td>\n",
       "      <td>1</td>\n",
       "      <td>36.0</td>\n",
       "    </tr>\n",
       "    <tr>\n",
       "      <th>20</th>\n",
       "      <td>[00077580] MaiMed-stretch  5cm x 10m, 1 St./Box</td>\n",
       "      <td>1.15</td>\n",
       "      <td>1.15</td>\n",
       "      <td>1.15</td>\n",
       "      <td>1.15</td>\n",
       "      <td>1.15</td>\n",
       "      <td>EUR</td>\n",
       "      <td>3</td>\n",
       "      <td>180.0</td>\n",
       "    </tr>\n",
       "    <tr>\n",
       "      <th>9</th>\n",
       "      <td>[00025070] MaiMed-MK-steril 10x10cm 8-f., 25x2...</td>\n",
       "      <td>2.37</td>\n",
       "      <td>2.37</td>\n",
       "      <td>2.37</td>\n",
       "      <td>2.37</td>\n",
       "      <td>2.37</td>\n",
       "      <td>EUR</td>\n",
       "      <td>1</td>\n",
       "      <td>600.0</td>\n",
       "    </tr>\n",
       "  </tbody>\n",
       "</table>\n",
       "</div>"
      ],
      "text/plain": [
       "                                          product_name  price_unit_mean  \\\n",
       "122  [MCT-RD20018002] VINYLEX PF, Vinyl Handschuhe,...             1.55   \n",
       "81                                [601107] Spray In QF            23.65   \n",
       "113  [DSM-004570P010] ASEPTOMAN®MED Händedesinfekti...             4.53   \n",
       "28   [01034200] melinip Schnabelbecher ECO, Breidec...             5.40   \n",
       "137  [SN-SE091SB25D03] Seni Soft Basic 90 cm x60 cm...             5.17   \n",
       "115  [HG-NI100BL] HansaGT Medical® Nitril Puderfrei...             1.60   \n",
       "30   [01034206] melinip Schnabelbecher ECO, Breidec...             5.40   \n",
       "125  [MPM- A21210014] MP Med® Andickungspulver PLUS...            11.49   \n",
       "20     [00077580] MaiMed-stretch  5cm x 10m, 1 St./Box             1.15   \n",
       "9    [00025070] MaiMed-MK-steril 10x10cm 8-f., 25x2...             2.37   \n",
       "\n",
       "     price_unit_first  price_unit_last  price_unit_min  price_unit_max  \\\n",
       "122              1.55             1.55            1.55            1.55   \n",
       "81              23.65            23.65           23.65           23.65   \n",
       "113              4.53             4.53            4.53            4.53   \n",
       "28               5.40             5.40            5.40            5.40   \n",
       "137              5.17             5.17            5.17            5.17   \n",
       "115              1.60             1.60            1.60            1.60   \n",
       "30               5.40             5.40            5.40            5.40   \n",
       "125             11.49            11.49           11.49           11.49   \n",
       "20               1.15             1.15            1.15            1.15   \n",
       "9                2.37             2.37            2.37            2.37   \n",
       "\n",
       "    currency_first  product_name_count  product_uom_qty_sum  \n",
       "122            EUR                   1                500.0  \n",
       "81             EUR                   2                 32.0  \n",
       "113            EUR                   1                 84.0  \n",
       "28             EUR                   2                 10.0  \n",
       "137            EUR                   2                160.0  \n",
       "115            EUR                   1              12000.0  \n",
       "30             EUR                   1                  6.0  \n",
       "125            EUR                   1                 36.0  \n",
       "20             EUR                   3                180.0  \n",
       "9              EUR                   1                600.0  "
      ]
     },
     "execution_count": 59,
     "metadata": {},
     "output_type": "execute_result"
    }
   ],
   "source": [
    "# 统计出每个产品的采购价\n",
    "df_product_cost = odoo_purchase_orderlines.groupby(['product_name']) \\\n",
    "                            .agg({'price_unit': ['mean', 'first', 'last', 'min', 'max'], \n",
    "                                  'currency': 'first', \n",
    "                                  'product_name':  'count',\n",
    "                                  'product_uom_qty': 'sum'}) \n",
    "\n",
    "df_product_cost.columns = ['_'.join(col).strip() for col in df_product_cost.columns]\n",
    "print(len(df_product_cost))\n",
    "df_product_cost.reset_index(inplace=True)\n",
    "df_product_cost.sample(10)"
   ]
  },
  {
   "cell_type": "code",
   "execution_count": 62,
   "metadata": {},
   "outputs": [
    {
     "data": {
      "text/html": [
       "<div>\n",
       "<style scoped>\n",
       "    .dataframe tbody tr th:only-of-type {\n",
       "        vertical-align: middle;\n",
       "    }\n",
       "\n",
       "    .dataframe tbody tr th {\n",
       "        vertical-align: top;\n",
       "    }\n",
       "\n",
       "    .dataframe thead th {\n",
       "        text-align: right;\n",
       "    }\n",
       "</style>\n",
       "<table border=\"1\" class=\"dataframe\">\n",
       "  <thead>\n",
       "    <tr style=\"text-align: right;\">\n",
       "      <th></th>\n",
       "      <th>order_number</th>\n",
       "      <th>product_name</th>\n",
       "      <th>currency</th>\n",
       "      <th>order_partner</th>\n",
       "      <th>salesman</th>\n",
       "      <th>state</th>\n",
       "      <th>uom</th>\n",
       "      <th>product_uom_qty</th>\n",
       "      <th>product_qty</th>\n",
       "      <th>price_unit</th>\n",
       "      <th>price_subtotal</th>\n",
       "      <th>price_tax</th>\n",
       "      <th>price_total</th>\n",
       "      <th>qty_to_invoice</th>\n",
       "      <th>qty_to_deliver</th>\n",
       "      <th>product_type</th>\n",
       "      <th>create_date</th>\n",
       "      <th>is_delivery</th>\n",
       "      <th>price_unit_last</th>\n",
       "    </tr>\n",
       "  </thead>\n",
       "  <tbody>\n",
       "    <tr>\n",
       "      <th>30</th>\n",
       "      <td>AB240527407</td>\n",
       "      <td>[HG-NI100BM] HansaGT Medical® Nitril Puderfrei...</td>\n",
       "      <td>EUR</td>\n",
       "      <td>Senioren- und Pflegeheim Elbuferpark</td>\n",
       "      <td>Alexander Haliw</td>\n",
       "      <td>sale</td>\n",
       "      <td>Pck</td>\n",
       "      <td>30.0</td>\n",
       "      <td>30.0</td>\n",
       "      <td>2.05</td>\n",
       "      <td>61.50</td>\n",
       "      <td>11.69</td>\n",
       "      <td>73.19</td>\n",
       "      <td>0.0</td>\n",
       "      <td>0.0</td>\n",
       "      <td>product</td>\n",
       "      <td>2024-07-30 11:26:50</td>\n",
       "      <td>False</td>\n",
       "      <td>NaN</td>\n",
       "    </tr>\n",
       "    <tr>\n",
       "      <th>629</th>\n",
       "      <td>AB240551412</td>\n",
       "      <td>[HG-BKPP10] 10 x PP-Schutzkittel 23g, blau, 12...</td>\n",
       "      <td>EUR</td>\n",
       "      <td>Residenz Beinsen am Klosterpark Wienhausen GmbH</td>\n",
       "      <td>Alexander Haliw</td>\n",
       "      <td>sale</td>\n",
       "      <td>Pck</td>\n",
       "      <td>20.0</td>\n",
       "      <td>20.0</td>\n",
       "      <td>4.19</td>\n",
       "      <td>83.80</td>\n",
       "      <td>15.92</td>\n",
       "      <td>99.72</td>\n",
       "      <td>0.0</td>\n",
       "      <td>0.0</td>\n",
       "      <td>product</td>\n",
       "      <td>2024-12-02 15:00:23</td>\n",
       "      <td>False</td>\n",
       "      <td>NaN</td>\n",
       "    </tr>\n",
       "    <tr>\n",
       "      <th>191</th>\n",
       "      <td>AB240534109</td>\n",
       "      <td>[DBE-1410000] Glas- und Interieur Reiniger 750ml</td>\n",
       "      <td>EUR</td>\n",
       "      <td>Residenz Beinsen am Klosterpark Wienhausen GmbH</td>\n",
       "      <td>Alexander Haliw</td>\n",
       "      <td>sale</td>\n",
       "      <td>Units</td>\n",
       "      <td>1.0</td>\n",
       "      <td>1.0</td>\n",
       "      <td>0.00</td>\n",
       "      <td>0.00</td>\n",
       "      <td>0.00</td>\n",
       "      <td>0.00</td>\n",
       "      <td>0.0</td>\n",
       "      <td>0.0</td>\n",
       "      <td>product</td>\n",
       "      <td>2024-09-02 14:15:44</td>\n",
       "      <td>False</td>\n",
       "      <td>NaN</td>\n",
       "    </tr>\n",
       "    <tr>\n",
       "      <th>140</th>\n",
       "      <td>AB240532308</td>\n",
       "      <td>[HG-M2003] 25 x HansaGT Medical® Einweg-Bettsc...</td>\n",
       "      <td>EUR</td>\n",
       "      <td>Die Wohngruppe Segeberg für Jüngere Bewegungsb...</td>\n",
       "      <td>Alexander Haliw</td>\n",
       "      <td>sale</td>\n",
       "      <td>Pck</td>\n",
       "      <td>12.0</td>\n",
       "      <td>12.0</td>\n",
       "      <td>7.99</td>\n",
       "      <td>95.88</td>\n",
       "      <td>18.22</td>\n",
       "      <td>114.10</td>\n",
       "      <td>0.0</td>\n",
       "      <td>0.0</td>\n",
       "      <td>product</td>\n",
       "      <td>2024-08-26 08:48:53</td>\n",
       "      <td>False</td>\n",
       "      <td>NaN</td>\n",
       "    </tr>\n",
       "    <tr>\n",
       "      <th>471</th>\n",
       "      <td>AB240545310</td>\n",
       "      <td>[HG-HLSKA25] Kanülenabwurfbehälter 2,5L\\n60 St...</td>\n",
       "      <td>EUR</td>\n",
       "      <td>Gesundheits- und Pflegezentrum Goldenherz</td>\n",
       "      <td>Alexander Haliw</td>\n",
       "      <td>sale</td>\n",
       "      <td>Pcs</td>\n",
       "      <td>10.0</td>\n",
       "      <td>10.0</td>\n",
       "      <td>1.95</td>\n",
       "      <td>19.50</td>\n",
       "      <td>3.71</td>\n",
       "      <td>23.21</td>\n",
       "      <td>0.0</td>\n",
       "      <td>0.0</td>\n",
       "      <td>product</td>\n",
       "      <td>2024-10-30 10:21:32</td>\n",
       "      <td>False</td>\n",
       "      <td>NaN</td>\n",
       "    </tr>\n",
       "    <tr>\n",
       "      <th>845</th>\n",
       "      <td>AB250559701</td>\n",
       "      <td>Versandkostenpauschale</td>\n",
       "      <td>EUR</td>\n",
       "      <td>BLD Pharmatech GmbH</td>\n",
       "      <td>Clara C. Chen</td>\n",
       "      <td>sale</td>\n",
       "      <td>Units</td>\n",
       "      <td>1.0</td>\n",
       "      <td>1.0</td>\n",
       "      <td>9.99</td>\n",
       "      <td>9.99</td>\n",
       "      <td>1.90</td>\n",
       "      <td>11.89</td>\n",
       "      <td>0.0</td>\n",
       "      <td>1.0</td>\n",
       "      <td>service</td>\n",
       "      <td>2025-01-13 13:02:14</td>\n",
       "      <td>True</td>\n",
       "      <td>NaN</td>\n",
       "    </tr>\n",
       "    <tr>\n",
       "      <th>224</th>\n",
       "      <td>AB240535109</td>\n",
       "      <td>[DDE-900080] XXL - Rolle 70 Blatt, 100 % Cellu...</td>\n",
       "      <td>EUR</td>\n",
       "      <td>Diakoniestiftung Alt-Hamburg - Ev. Altenwohnhe...</td>\n",
       "      <td>Alexander Haliw</td>\n",
       "      <td>sale</td>\n",
       "      <td>Pck</td>\n",
       "      <td>30.0</td>\n",
       "      <td>30.0</td>\n",
       "      <td>4.49</td>\n",
       "      <td>134.70</td>\n",
       "      <td>25.59</td>\n",
       "      <td>160.29</td>\n",
       "      <td>0.0</td>\n",
       "      <td>0.0</td>\n",
       "      <td>product</td>\n",
       "      <td>2024-09-09 09:12:00</td>\n",
       "      <td>False</td>\n",
       "      <td>NaN</td>\n",
       "    </tr>\n",
       "    <tr>\n",
       "      <th>175</th>\n",
       "      <td>AB240532908</td>\n",
       "      <td>[HG-NI100BL] HansaGT Medical® Nitril Puderfrei...</td>\n",
       "      <td>EUR</td>\n",
       "      <td>tesa Werk Hamburg GmbH, tphh.indirects</td>\n",
       "      <td>Clara C. Chen</td>\n",
       "      <td>sale</td>\n",
       "      <td>Pck</td>\n",
       "      <td>60.0</td>\n",
       "      <td>60.0</td>\n",
       "      <td>9.00</td>\n",
       "      <td>540.00</td>\n",
       "      <td>102.60</td>\n",
       "      <td>642.60</td>\n",
       "      <td>0.0</td>\n",
       "      <td>0.0</td>\n",
       "      <td>product</td>\n",
       "      <td>2024-08-28 14:36:55</td>\n",
       "      <td>False</td>\n",
       "      <td>NaN</td>\n",
       "    </tr>\n",
       "    <tr>\n",
       "      <th>850</th>\n",
       "      <td>AB250559901</td>\n",
       "      <td>Versandkostenpauschale</td>\n",
       "      <td>EUR</td>\n",
       "      <td>The Alley Frankfurt GmbH</td>\n",
       "      <td>Alexander Haliw</td>\n",
       "      <td>sale</td>\n",
       "      <td>Units</td>\n",
       "      <td>1.0</td>\n",
       "      <td>1.0</td>\n",
       "      <td>9.99</td>\n",
       "      <td>9.99</td>\n",
       "      <td>1.90</td>\n",
       "      <td>11.89</td>\n",
       "      <td>0.0</td>\n",
       "      <td>1.0</td>\n",
       "      <td>service</td>\n",
       "      <td>2025-01-13 14:02:09</td>\n",
       "      <td>True</td>\n",
       "      <td>NaN</td>\n",
       "    </tr>\n",
       "    <tr>\n",
       "      <th>170</th>\n",
       "      <td>AB240532608</td>\n",
       "      <td>[MPM- A21210014] MP Med® Andickungspulver PLUS...</td>\n",
       "      <td>EUR</td>\n",
       "      <td>Alten- und Pflegeheim St. Elisabeth</td>\n",
       "      <td>Alexander Haliw</td>\n",
       "      <td>sale</td>\n",
       "      <td>Bucket</td>\n",
       "      <td>5.0</td>\n",
       "      <td>5.0</td>\n",
       "      <td>15.99</td>\n",
       "      <td>79.95</td>\n",
       "      <td>15.19</td>\n",
       "      <td>95.14</td>\n",
       "      <td>0.0</td>\n",
       "      <td>0.0</td>\n",
       "      <td>product</td>\n",
       "      <td>2024-08-27 12:11:53</td>\n",
       "      <td>False</td>\n",
       "      <td>11.49</td>\n",
       "    </tr>\n",
       "  </tbody>\n",
       "</table>\n",
       "</div>"
      ],
      "text/plain": [
       "    order_number                                       product_name currency  \\\n",
       "30   AB240527407  [HG-NI100BM] HansaGT Medical® Nitril Puderfrei...      EUR   \n",
       "629  AB240551412  [HG-BKPP10] 10 x PP-Schutzkittel 23g, blau, 12...      EUR   \n",
       "191  AB240534109   [DBE-1410000] Glas- und Interieur Reiniger 750ml      EUR   \n",
       "140  AB240532308  [HG-M2003] 25 x HansaGT Medical® Einweg-Bettsc...      EUR   \n",
       "471  AB240545310  [HG-HLSKA25] Kanülenabwurfbehälter 2,5L\\n60 St...      EUR   \n",
       "845  AB250559701                             Versandkostenpauschale      EUR   \n",
       "224  AB240535109  [DDE-900080] XXL - Rolle 70 Blatt, 100 % Cellu...      EUR   \n",
       "175  AB240532908  [HG-NI100BL] HansaGT Medical® Nitril Puderfrei...      EUR   \n",
       "850  AB250559901                             Versandkostenpauschale      EUR   \n",
       "170  AB240532608  [MPM- A21210014] MP Med® Andickungspulver PLUS...      EUR   \n",
       "\n",
       "                                         order_partner         salesman state  \\\n",
       "30                Senioren- und Pflegeheim Elbuferpark  Alexander Haliw  sale   \n",
       "629    Residenz Beinsen am Klosterpark Wienhausen GmbH  Alexander Haliw  sale   \n",
       "191    Residenz Beinsen am Klosterpark Wienhausen GmbH  Alexander Haliw  sale   \n",
       "140  Die Wohngruppe Segeberg für Jüngere Bewegungsb...  Alexander Haliw  sale   \n",
       "471          Gesundheits- und Pflegezentrum Goldenherz  Alexander Haliw  sale   \n",
       "845                                BLD Pharmatech GmbH    Clara C. Chen  sale   \n",
       "224  Diakoniestiftung Alt-Hamburg - Ev. Altenwohnhe...  Alexander Haliw  sale   \n",
       "175             tesa Werk Hamburg GmbH, tphh.indirects    Clara C. Chen  sale   \n",
       "850                           The Alley Frankfurt GmbH  Alexander Haliw  sale   \n",
       "170                Alten- und Pflegeheim St. Elisabeth  Alexander Haliw  sale   \n",
       "\n",
       "        uom  product_uom_qty  product_qty  price_unit  price_subtotal  \\\n",
       "30      Pck             30.0         30.0        2.05           61.50   \n",
       "629     Pck             20.0         20.0        4.19           83.80   \n",
       "191   Units              1.0          1.0        0.00            0.00   \n",
       "140     Pck             12.0         12.0        7.99           95.88   \n",
       "471     Pcs             10.0         10.0        1.95           19.50   \n",
       "845   Units              1.0          1.0        9.99            9.99   \n",
       "224     Pck             30.0         30.0        4.49          134.70   \n",
       "175     Pck             60.0         60.0        9.00          540.00   \n",
       "850   Units              1.0          1.0        9.99            9.99   \n",
       "170  Bucket              5.0          5.0       15.99           79.95   \n",
       "\n",
       "     price_tax  price_total  qty_to_invoice  qty_to_deliver product_type  \\\n",
       "30       11.69        73.19             0.0             0.0      product   \n",
       "629      15.92        99.72             0.0             0.0      product   \n",
       "191       0.00         0.00             0.0             0.0      product   \n",
       "140      18.22       114.10             0.0             0.0      product   \n",
       "471       3.71        23.21             0.0             0.0      product   \n",
       "845       1.90        11.89             0.0             1.0      service   \n",
       "224      25.59       160.29             0.0             0.0      product   \n",
       "175     102.60       642.60             0.0             0.0      product   \n",
       "850       1.90        11.89             0.0             1.0      service   \n",
       "170      15.19        95.14             0.0             0.0      product   \n",
       "\n",
       "            create_date  is_delivery  price_unit_last  \n",
       "30  2024-07-30 11:26:50        False              NaN  \n",
       "629 2024-12-02 15:00:23        False              NaN  \n",
       "191 2024-09-02 14:15:44        False              NaN  \n",
       "140 2024-08-26 08:48:53        False              NaN  \n",
       "471 2024-10-30 10:21:32        False              NaN  \n",
       "845 2025-01-13 13:02:14         True              NaN  \n",
       "224 2024-09-09 09:12:00        False              NaN  \n",
       "175 2024-08-28 14:36:55        False              NaN  \n",
       "850 2025-01-13 14:02:09         True              NaN  \n",
       "170 2024-08-27 12:11:53        False            11.49  "
      ]
     },
     "execution_count": 62,
     "metadata": {},
     "output_type": "execute_result"
    }
   ],
   "source": [
    "df_merged = df_sale_order_lines.merge(df_product_cost[[\"product_name\", \"price_unit_last\"]], on=\"product_name\", how=\"left\")\n",
    "df_merged.sample(10)\n",
    "df_merged.to_excel(\"data/gross_profit.xlsx\", index=False)"
   ]
  }
 ],
 "metadata": {
  "kernelspec": {
   "display_name": "venv",
   "language": "python",
   "name": "python3"
  },
  "language_info": {
   "codemirror_mode": {
    "name": "ipython",
    "version": 3
   },
   "file_extension": ".py",
   "mimetype": "text/x-python",
   "name": "python",
   "nbconvert_exporter": "python",
   "pygments_lexer": "ipython3",
   "version": "3.11.2"
  }
 },
 "nbformat": 4,
 "nbformat_minor": 2
}
