{
 "cells": [
  {
   "cell_type": "code",
   "execution_count": null,
   "metadata": {},
   "outputs": [],
   "source": [
    "from rest.base import OdooAPIKey, ProductClient, OdooClient, OdooAPIBase\n",
    "import os\n",
    "# 设置环境变量\n",
    "os.environ['ODOO_ACCESS_KEY'] = 'odoo-api-prod.json'\n",
    "os.environ['ODOO_ACCESS_KEY_INDEX'] = \"0\"\n",
    "\n",
    "api_key = OdooAPIKey.prod()\n"
   ]
  },
  {
   "cell_type": "code",
   "execution_count": null,
   "metadata": {},
   "outputs": [],
   "source": [
    "# cli = ProductClient(api_key)\n",
    "# ids = cli.fetch_product_ids()\n",
    "\n",
    "base = OdooAPIBase(api_key)\n",
    "cli = base.client\n"
   ]
  },
  {
   "cell_type": "markdown",
   "metadata": {},
   "source": [
    "### **1.1 总销售额（Revenue/Sales Volume）**\n",
    "- **含义**：\n",
    "  - 统计每个月的销售总额，即所有销售订单的总金额。\n",
    "  - 公式：`总销售额 = 每个产品的售价 × 销售数量（扣除退款或退货金额）`。\n",
    "- **用途**：\n",
    "  - 衡量整体销售表现。\n",
    "  - 分析季节性趋势或特定促销活动对销售的影响。"
   ]
  },
  {
   "cell_type": "code",
   "execution_count": null,
   "metadata": {},
   "outputs": [],
   "source": [
    "# Get Order Details\n",
    "domain = [('user_id', 'not in', [8, 6])]\n",
    "order_ids = cli.search('sale.order', [domain])\n",
    "orders_ = cli.read('sale.order', [order_ids])\n",
    "print(orders_[0])\n"
   ]
  },
  {
   "cell_type": "code",
   "execution_count": null,
   "metadata": {},
   "outputs": [],
   "source": [
    "orders_[100]"
   ]
  },
  {
   "cell_type": "code",
   "execution_count": null,
   "metadata": {},
   "outputs": [],
   "source": [
    "# 获取所有orderline的id\n",
    "order_line_ids = set()\n",
    "for od in orders_:\n",
    "    order_line_ids.update(od['order_line'])\n",
    "\n",
    "order_line_ids = list(order_line_ids)\n",
    "\n",
    "print(f\"Length: {len(order_line_ids)}\")\n",
    "print(order_line_ids[:10])"
   ]
  },
  {
   "cell_type": "code",
   "execution_count": null,
   "metadata": {},
   "outputs": [],
   "source": [
    "orderlines_ = cli.read('sale.order.line', [order_line_ids])"
   ]
  },
  {
   "cell_type": "code",
   "execution_count": null,
   "metadata": {},
   "outputs": [],
   "source": [
    "orderlines_[50]"
   ]
  },
  {
   "cell_type": "code",
   "execution_count": null,
   "metadata": {},
   "outputs": [],
   "source": [
    "from typing import List, Union\n",
    "from pydantic import BaseModel\n",
    "\n",
    "# class SalesOrder(BaseModel):\n",
    "#     id: int\n",
    "#     name: str\n",
    "#     company: str\n",
    "#     partner: str \n",
    "#     state: str\n",
    "#     date_order: str \n",
    "#     invoice_status:str \n",
    "#     shipping_weight: float\n",
    "#     orderline_ids: List[int]\n",
    "\n",
    "sale_orders = []\n",
    "\n",
    "for od in orders_:\n",
    "    so = dict(\n",
    "        id = od['id'],\n",
    "        name = od['name'],\n",
    "        company = od['company_id'][1],\n",
    "        partner = od['partner_id'][1],\n",
    "        state = od['state'],\n",
    "        date_order = od['date_order'],\n",
    "        invoice_status = od['invoice_status'],\n",
    "        shipping_weight = od['shipping_weight'],\n",
    "        orderline_ids = od['order_line']\n",
    "    )\n",
    "    sale_orders.append(so)\n",
    "\n",
    "# print(f\"Number of orders: {len(sale_orders)}\")"
   ]
  },
  {
   "cell_type": "code",
   "execution_count": null,
   "metadata": {},
   "outputs": [],
   "source": [
    "import pandas as pd\n",
    "df_sale_order = pd.DataFrame.from_dict(sale_orders)\n",
    "df_sale_order.to_excel(\"data/sales_order.xlsx\", index=False)\n"
   ]
  },
  {
   "cell_type": "code",
   "execution_count": null,
   "metadata": {},
   "outputs": [],
   "source": [
    "orderlines = []\n",
    "\n",
    "for odl in orderlines_:    \n",
    "    if odl['display_type'] == 'line_note':\n",
    "        continue\n",
    "    try:\n",
    "        line = {\n",
    "            \"order_number\": odl['order_id'][1],  # 订单号\n",
    "            \"product_name\": odl['name'],  \n",
    "            \"currency\": odl['currency_id'][1], \n",
    "            \"order_partner\": odl['order_partner_id'][1], # 客户\n",
    "            \"salesman\": odl['salesman_id'][1], # 销售员\n",
    "            'state': odl['state'], \n",
    "            'uom': odl['product_uom'][1],  # 单位\n",
    "            'product_uom_qty': odl['product_uom_qty'],   #product_qty\n",
    "            'product_qty': odl['product_qty'],  # 数量\n",
    "            'price_unit': odl['price_unit'],  # 单价\n",
    "            'price_subtotal': odl['price_subtotal'], # 小计\n",
    "            'price_tax': odl['price_tax'], # 含税\n",
    "            'price_total': odl['price_total'], # 总计\n",
    "            'qty_to_invoice': odl['qty_to_invoice'], \n",
    "            'qty_to_deliver': odl['qty_to_deliver'],\n",
    "            'product_type': odl['product_type'],\n",
    "            'create_date': odl['create_date'],\n",
    "            'is_delivery': odl['is_delivery'],\n",
    "        }\n",
    "    except Exception as e:\n",
    "        print(e)\n",
    "        print(odl)\n",
    "    orderlines.append(line)\n",
    "df_sale_order_lines = pd.DataFrame.from_dict(orderlines)\n",
    "df_sale_order_lines.to_excel('data/sales_order_lines.xlsx')\n",
    "\n"
   ]
  },
  {
   "cell_type": "code",
   "execution_count": null,
   "metadata": {},
   "outputs": [],
   "source": [
    "import datetime\n",
    "# 数据清洗\n",
    "\n",
    "# 被取消的orderlines\n",
    "df_filtered_orderlines = df_sale_order_lines[df_sale_order_lines['state']== 'sale']\n",
    "# product_type == product\n",
    "df_filtered_orderlines = df_filtered_orderlines[df_filtered_orderlines['product_type']== 'product']\n",
    "# qty_to_invoice == 0 and qty_to_deliver == 0\n",
    "qty_to_invoice_zero = df_filtered_orderlines['qty_to_invoice'] == 0\n",
    "qty_to_deliver_zero = df_filtered_orderlines['qty_to_deliver'] == 0\n",
    "df_filtered_orderlines = df_filtered_orderlines[qty_to_invoice_zero & qty_to_deliver_zero]\n",
    "\n",
    "# price_unit == 0\n",
    "df_filtered_orderlines = df_filtered_orderlines[df_filtered_orderlines['price_unit']!= 0]\n",
    "\n",
    "# Create month, year columns, 2024-07-25 10:46:01 to 2024-07\n",
    "df_filtered_orderlines['year'] = pd.to_datetime(df_filtered_orderlines['create_date']).dt.strftime('%Y')\n",
    "df_filtered_orderlines['month'] = pd.to_datetime(df_filtered_orderlines['create_date']).dt.strftime('%Y-%m')\n",
    "\n",
    "len(df_filtered_orderlines)\n",
    "df_filtered_orderlines.to_excel('data/sales_order_lines.xlsx')"
   ]
  },
  {
   "cell_type": "code",
   "execution_count": null,
   "metadata": {},
   "outputs": [],
   "source": [
    "odoo_orderlines = df_filtered_orderlines.copy()\n",
    "# 按订单号聚合订单明细.\n",
    "df_agg_orderlines = odoo_orderlines.groupby('order_number')  \\\n",
    "    .agg({'price_subtotal': 'sum', 'create_date': 'first', 'price_unit': 'sum', \n",
    "          'order_partner': 'first', 'salesman': 'first', \n",
    "          'price_tax': 'sum'}) \\\n",
    "    .reset_index()\n",
    "\n",
    "df_agg_orderlines.head()"
   ]
  },
  {
   "cell_type": "code",
   "execution_count": null,
   "metadata": {},
   "outputs": [],
   "source": [
    "# 统计每一个客户的销售额 (不含运费，不含为结的)\n",
    "df_customer_sales = odoo_orderlines.groupby('order_partner') \\\n",
    "                        .agg({'price_subtotal': sum, 'currency': 'first'})\n",
    "df_customer_sales = df_customer_sales.sort_values('price_subtotal', ascending=False)\n",
    "df_customer_sales_top10 = df_customer_sales.head(10)\n",
    "df_customer_sales_bottom10 = df_customer_sales.tail(10)\n",
    "customer_sort_by_sales = df_customer_sales.reset_index()['order_partner'].tolist()\n",
    "df_customer_sales_top10\n"
   ]
  },
  {
   "cell_type": "code",
   "execution_count": null,
   "metadata": {},
   "outputs": [],
   "source": [
    "# 统计每一个产品的销售额 (不含运费，不含为结的)\n",
    "df_product_sales = odoo_orderlines.groupby(['product_name']) \\\n",
    "                        .agg({'price_subtotal': sum, \n",
    "                              'currency': 'first', \n",
    "                              'product_uom_qty': sum,\n",
    "                              # 'product_qty': sum,\n",
    "                              'uom': 'first'})\n",
    "df_product_sales = df_product_sales.sort_values('price_subtotal', ascending=False)\n",
    "df_product_sales_top10 = df_product_sales.head(10)\n",
    "df_product_sales_bottom10 = df_product_sales.tail(10)\n",
    "product_sort_by_sales = df_product_sales.reset_index()['product_name'].tolist()\n",
    "df_product_sales"
   ]
  },
  {
   "cell_type": "code",
   "execution_count": null,
   "metadata": {},
   "outputs": [],
   "source": [
    "# 统计每一个客户每个月的销售额 (不含运费，不含为结的)\n",
    "df_customer_month_sales = odoo_orderlines.groupby(['order_partner', 'month', ]) \\\n",
    "                            .agg({'price_subtotal': sum, \n",
    "                                  'currency': 'first', \n",
    "                                  'order_number': 'nunique'})\n",
    "df_customer_month_sales = df_customer_month_sales.rename(columns={'order_number': 'order_count'})\n",
    "df_customer_month_sales['avg_price'] = df_customer_month_sales['price_subtotal'] / df_customer_month_sales['order_count']\n",
    "df_customer_month_sales['avg_price'] = df_customer_month_sales['avg_price'].round(2)\n",
    "df_customer_month_sales.to_excel('data/customer_month_sales.xlsx')\n",
    "# sort by customer_sort_by_sales\n",
    "# 将客户名列表转为分类类型，以指定排序顺序\n",
    "df_customer_month_sales['customer_sort'] = pd.Categorical(\n",
    "    df_customer_month_sales.index.get_level_values('order_partner'),  # 获取 MultiIndex 中的 'order_partner'\n",
    "    categories=customer_sort_by_sales,  # 自定义排序规则\n",
    "    ordered=True               # 指定为有序\n",
    ")\n",
    "\n",
    "df_customer_month_sales = df_customer_month_sales.sort_values(by='customer_sort')\n",
    "df_customer_month_sales = df_customer_month_sales.drop(columns=['customer_sort'])\n",
    "\n",
    "df_customer_month_sales.to_excel('data/customer_month_sales.xlsx')\n",
    "df_customer_month_sales.head(10)\n",
    "\n"
   ]
  },
  {
   "cell_type": "code",
   "execution_count": null,
   "metadata": {},
   "outputs": [],
   "source": [
    "# 统计每个产品每个月卖出的数量和金额\n",
    "df_product_month_sales = odoo_orderlines.groupby(['product_name', 'month', ]) \\\n",
    "                            .agg({'price_subtotal': sum, \n",
    "                                  'currency': 'first', \n",
    "                                  'order_number': 'nunique'})\n",
    "df_product_month_sales"
   ]
  },
  {
   "cell_type": "code",
   "execution_count": null,
   "metadata": {},
   "outputs": [],
   "source": [
    "# 统计客户买了什么哪些产品"
   ]
  },
  {
   "cell_type": "code",
   "execution_count": null,
   "metadata": {},
   "outputs": [],
   "source": [
    "# Save in sheets\n",
    "with pd.ExcelWriter('data/sales.xlsx') as writer:\n",
    "    df_product_month_sales.to_excel(writer, sheet_name='product_month_sales')\n",
    "    df_product_sales.to_excel(writer, sheet_name='product_sales')\n",
    "    df_customer_month_sales.to_excel(writer, sheet_name='customer_month_sales')\n",
    "    # df_customer_sales_top10.to_excel(writer, sheet_name='customer_sales_top10')\n",
    "    # df_customer_sales_bottom10.to_excel(writer, sheet_name='customer_sales_bottom10')"
   ]
  },
  {
   "cell_type": "code",
   "execution_count": null,
   "metadata": {},
   "outputs": [],
   "source": [
    "# Step 1: 按订单计算销售额\n",
    "order_sales = odoo_orderlines.groupby(['order_partner', 'month', 'order_number']) \\\n",
    "    .agg({'price_subtotal': 'sum'}).reset_index()\n",
    "\n",
    "# Step 2: 按客户和月份汇总计算总销售额与订单数量\n",
    "customer_month_sales = order_sales.groupby(['order_partner', 'month']) \\\n",
    "    .agg({\n",
    "        'price_subtotal': 'sum',  # 总销售额\n",
    "        'order_number': 'count'  # 订单数量\n",
    "    }).rename(columns={\n",
    "        'price_subtotal': 'total_sales', \n",
    "        'order_number': 'order_count'\n",
    "    }).reset_index()\n",
    "\n",
    "# Step 3: 计算平均每个订单的销售额\n",
    "customer_month_sales['avg_order_sales'] = customer_month_sales['total_sales'] / customer_month_sales['order_count']\n",
    "\n",
    "customer_month_sales\n"
   ]
  },
  {
   "cell_type": "code",
   "execution_count": null,
   "metadata": {},
   "outputs": [],
   "source": [
    "# 1. 总销售额 (不含税) 和 含税总销售额\n",
    "sales_metrics = odoo_orderlines.groupby('salesman').agg({\n",
    "    'price_subtotal': 'sum',  # 不含税总额\n",
    "    'price_total': 'sum',     # 含税总额\n",
    "    'order_number': 'nunique',  # 订单数\n",
    "    'product_uom_qty': 'sum',  # 总销售数量\n",
    "    'qty_to_deliver': 'sum',  # 未交付数量\n",
    "    'qty_to_invoice': 'sum',  # 未开票数量\n",
    "}).rename(columns={\n",
    "    'price_subtotal': 'total_sales',\n",
    "    'price_total': 'total_sales_taxed',\n",
    "    'order_number': 'total_orders',\n",
    "    'product_uom_qty': 'total_qty_sold',\n",
    "    'qty_to_deliver': 'total_qty_to_deliver',\n",
    "    'qty_to_invoice': 'total_qty_to_invoice',\n",
    "})\n",
    "\n",
    "# 2. 平均订单金额\n",
    "sales_metrics['avg_order_value'] = sales_metrics['total_sales'] / sales_metrics['total_orders']\n",
    "\n",
    "# 3. 最畅销商品 (按数量和金额)\n",
    "top_products = df_sale_order_lines.groupby('product_name').agg({\n",
    "    'product_uom_qty': 'sum',\n",
    "    'price_subtotal': 'sum'\n",
    "}).sort_values(by='product_uom_qty', ascending=False)\n",
    "\n",
    "# 4. 客户贡献 (按客户总销售额)\n",
    "customer_contribution = df_sale_order_lines.groupby('order_partner').agg({\n",
    "    'price_subtotal': 'sum'\n",
    "}).sort_values(by='price_subtotal', ascending=False)\n",
    "\n",
    "\n",
    "# 保存结果为 Excel 文件或直接查看\n",
    "sales_metrics.to_excel('data/sales_metrics.xlsx')\n",
    "top_products.to_excel('data/top_products.xlsx')\n",
    "customer_contribution.to_excel('data/customer_contribution.xlsx')\n",
    "\n",
    "print(\"销售指标表已保存为 'sales_metrics.xlsx'\")\n",
    "print(\"最畅销商品表已保存为 'top_products.xlsx'\")\n",
    "print(\"客户贡献表已保存为 'customer_contribution.xlsx'\")"
   ]
  }
 ],
 "metadata": {
  "kernelspec": {
   "display_name": "Python 3",
   "language": "python",
   "name": "python3"
  },
  "language_info": {
   "codemirror_mode": {
    "name": "ipython",
    "version": 3
   },
   "file_extension": ".py",
   "mimetype": "text/x-python",
   "name": "python",
   "nbconvert_exporter": "python",
   "pygments_lexer": "ipython3",
   "version": "3.11.2"
  }
 },
 "nbformat": 4,
 "nbformat_minor": 2
}
