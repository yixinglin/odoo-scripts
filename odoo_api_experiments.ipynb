{
 "cells": [
  {
   "cell_type": "code",
   "execution_count": null,
   "metadata": {},
   "outputs": [],
   "source": [
    "import dotenv\n",
    "from rest import OdooAPIKey, OdooAPIBase\n",
    "import json\n",
    "env_path = \"conf/.env\"\n",
    "dotenv.load_dotenv(env_path)\n",
    "key = OdooAPIKey.prod()\n",
    "client = OdooAPIBase(key)\n",
    "\n",
    "def to_json(data):\n",
    "    return json.dumps(data, indent=4)\n",
    "\n"
   ]
  },
  {
   "cell_type": "code",
   "execution_count": null,
   "metadata": {},
   "outputs": [],
   "source": [
    "# 获取所有客户\n",
    "domain = [\n",
    "    ('customer_rank', '>=', 1)\n",
    "]\n",
    "data = client.client.search_read('res.partner', [domain], {})\n",
    "print(len(data))\n",
    "print(to_json(data[10]))"
   ]
  },
  {
   "cell_type": "code",
   "execution_count": null,
   "metadata": {},
   "outputs": [],
   "source": [
    "data = client.client.search_read('res.partner', [domain], {})\n",
    "print(len(data))\n",
    "print(data[10])"
   ]
  },
  {
   "cell_type": "code",
   "execution_count": null,
   "metadata": {},
   "outputs": [],
   "source": [
    "# 获取所有价格表\n",
    "domain = [('active', '=', True)]\n",
    "data = client.client.search_read('product.pricelist', [domain], {\"fields\": ['id', 'name', 'active']})\n",
    "print(f\"Total number of pricelists: {len(data)}\")\n",
    "# print(to_json(data))\n",
    "list_pricelists = data "
   ]
  },
  {
   "cell_type": "code",
   "execution_count": null,
   "metadata": {},
   "outputs": [],
   "source": [
    "def get_pricelist_item_data(pricelist_id):\n",
    "    domain = [('pricelist_id', '=', pricelist_id)]\n",
    "    pricelist_item_data = client.client.search_read('product.pricelist.item', [domain], {\"fields\": [\"id\", \"company_id\", \n",
    "                                                                                     \"fixed_price\", \"name\", \"currency_id\", \n",
    "                                                                                     \"min_quantity\", \"product_tmpl_id\", \"product_id\"]})\n",
    "    return pricelist_item_data\n",
    "\n",
    "pricelist_id = data[3]['id']\n",
    "pricelist_item_data = get_pricelist_item_data(pricelist_id)\n",
    "print(len(pricelist_item_data))\n",
    "print(to_json(pricelist_item_data))"
   ]
  },
  {
   "cell_type": "markdown",
   "metadata": {},
   "source": [
    "# VIP-Odoo价格表同步\n",
    "把VIP上的价格表上传到Odoo"
   ]
  },
  {
   "cell_type": "code",
   "execution_count": null,
   "metadata": {},
   "outputs": [],
   "source": [
    "import pandas as pd\n",
    "import json \n",
    "\n",
    "# 获取VIP上的价格表\n",
    "with open('temp/vip_price.json', 'r', encoding='utf-8') as f:\n",
    "    data = json.load(f)['data']\n",
    "\n",
    "# Data Preprocessing to prepare for Odoo API\n",
    "df = pd.DataFrame().from_dict(data)\n",
    "pattern = r\"^(.*?)(PK\\d+)$\"\n",
    "# 从article_number中提取reference和size \n",
    "df['internal_reference'] = df['article_number'].str.extract(pattern, expand=False)[0]\n",
    "df['sales_units'] = df['article_number'].str.extract(pattern, expand=False)[1].str.replace('PK', '')\n",
    "# if internal_reference is NaN, set it to article_number\n",
    "df['internal_reference'] = df['internal_reference'].fillna(df['article_number'])\n",
    "# if sales_units is NaN, set it to 1\n",
    "df['sales_units'] = df['sales_units'].fillna(1)\n",
    "# convert sales_units to int\n",
    "df['min_quantity'] = df['sales_units'].astype(int)\n",
    "df['custom_price'] = df['custom_price'] / df['min_quantity']\n",
    "df['std_price_a'] = df['std_price_a'] / df['min_quantity']\n",
    "df['std_price_b'] = df['std_price_b'] / df['min_quantity']\n",
    "del df['article_number']\n",
    "df['key'] = df['group_name'] + '_' + df['internal_reference'].astype(str)\n",
    "df.sort_values(by='group_name', inplace=True)\n",
    "df.reset_index(drop=True, inplace=True)\n",
    "list_group_names = df['group_name'].unique().tolist()\n",
    "df_vip_pricelist_items = df.copy()\n",
    "df_vip_pricelist_items.sample(20)\n"
   ]
  },
  {
   "cell_type": "code",
   "execution_count": null,
   "metadata": {},
   "outputs": [],
   "source": [
    "print(f\"Total number of groups in VIP: {len(list_group_names)}\")\n",
    "for i, name in enumerate(list_group_names):\n",
    "    print(f\"{i+1}. {name}\")"
   ]
  },
  {
   "cell_type": "code",
   "execution_count": null,
   "metadata": {},
   "outputs": [],
   "source": [
    "# 批量获取Odoo上的价格表\n",
    "vip_pricelist_names = [name.strip() for name in list_group_names]\n",
    "print(f\"Total VIP pricelist names: {len(vip_pricelist_names)}\")\n",
    "\n",
    "domain = [('name', 'in', vip_pricelist_names)]\n",
    "pricelist_ids = client.client.search('product.pricelist', [domain], {})\n",
    "print(f\"Total Odoo pricelist ids: {len(pricelist_ids)}\")\n",
    "\n",
    "pricelist_details = client.client.read('product.pricelist', [pricelist_ids], {'fields': ['id', 'name', 'active']})\n",
    "odoo_pricelist_names = [pricelist_detail['name'] for pricelist_detail in pricelist_details]\n",
    "\n",
    "print(\"Odoo pricelist names:\")\n",
    "for i, name in enumerate(odoo_pricelist_names):\n",
    "    print(f\"{i+1}. {name}\")\n",
    "\n",
    "map_pricelist_name_to_object = {pricelist_detail['name']: pricelist_detail for pricelist_detail in pricelist_details}\n"
   ]
  },
  {
   "cell_type": "code",
   "execution_count": null,
   "metadata": {},
   "outputs": [],
   "source": [
    "# 分类：依据是vip价格表是否在odoo上\n",
    "vip_pricelist_names_not_in_odoo = [name for name in vip_pricelist_names if name not in odoo_pricelist_names]\n",
    "print(f\"Total VIP pricelist names not in Odoo: {len(vip_pricelist_names_not_in_odoo)}\")\n",
    "for i, name in enumerate(vip_pricelist_names_not_in_odoo):\n",
    "    print(f\"\\t{i+1}. {name}\")\n",
    "print(\"-\"*100)\n",
    "vip_pricelist_names_in_odoo = [name for name in vip_pricelist_names if name in odoo_pricelist_names]\n",
    "print(f\"Total VIP pricelist names in Odoo: {len(vip_pricelist_names_in_odoo)}\")\n",
    "for i, name in enumerate(vip_pricelist_names_in_odoo):\n",
    "    print(f\"\\t{i+1}. {name}\")\n"
   ]
  },
  {
   "cell_type": "code",
   "execution_count": null,
   "metadata": {},
   "outputs": [],
   "source": [
    "# 获取所有price_list的items\n",
    "fields = [\"id\", \"company_id\", \"pricelist_id\",\n",
    "            \"fixed_price\", \"name\", \"currency_id\", \n",
    "            \"min_quantity\", \"product_tmpl_id\", \"product_id\"]\n",
    "domain = [('name', 'in', vip_pricelist_names_in_odoo)]\n",
    "pricelist_item_data = client.client.search_read('product.pricelist.item', [domain], {\"fields\": fields})\n",
    "print(len(pricelist_item_data))\n",
    "print(pricelist_item_data)"
   ]
  },
  {
   "cell_type": "code",
   "execution_count": null,
   "metadata": {},
   "outputs": [],
   "source": [
    "import re \n",
    "import pandas as pd\n",
    "from pydantic import BaseModel\n",
    "from typing import Union\n",
    "\n",
    "# 数据验证和标准化\n",
    "# 定义pricelist_item的数据结构\n",
    "class PricelistItem(BaseModel):\n",
    "    id: int\n",
    "    pricelist_id: int\n",
    "    pricelist_name: str\n",
    "    company_id: int\n",
    "    company_name: str\n",
    "    fixed_price: float\n",
    "    name: str\n",
    "    currency: str\n",
    "    min_quantity: int\n",
    "    product_tmpl_id: int\n",
    "    product_tmpl_name: str\n",
    "    default_code: str    \n",
    "    product_id: Union[int, None]\n",
    "    product_name: Union[str, None]\n",
    "\n",
    "pricelist_items = []\n",
    "for item in pricelist_item_data:\n",
    "    group = re.search(r'\\[(.*?)\\]', item['product_tmpl_id'][1])\n",
    "    if group:\n",
    "        default_code = group.group(1)\n",
    "    else:\n",
    "        default_code = \"\"    \n",
    "    pricelist_items.append(PricelistItem(\n",
    "        id=item['id'],\n",
    "        pricelist_id=item['pricelist_id'][0],\n",
    "        pricelist_name=item['pricelist_id'][1].replace('(EUR)', '').strip(),\n",
    "        company_id=item['company_id'][0],\n",
    "        company_name=item['company_id'][1],\n",
    "        fixed_price=item['fixed_price'],\n",
    "        name=item['name'],\n",
    "        currency=item['currency_id'][1],\n",
    "        min_quantity=item['min_quantity'],\n",
    "        product_tmpl_id=item['product_tmpl_id'][0],\n",
    "        product_tmpl_name=item['product_tmpl_id'][1],\n",
    "        default_code=default_code,\n",
    "        product_id= item['product_id'][0] if item['product_id'] else None,\n",
    "        product_name=item['product_id'][1] if item['product_id'] else None\n",
    "    ))\n",
    "\n",
    "print(pricelist_items[10])\n",
    "df_odoo_pricelist_items = pd.DataFrame.from_dict([item.model_dump() for item in pricelist_items])\n",
    "df_odoo_pricelist_items['key'] = df_odoo_pricelist_items['pricelist_name'] + '_' + df_odoo_pricelist_items['default_code']\n",
    "df_odoo_pricelist_items[['pricelist_name', 'default_code', 'fixed_price', 'min_quantity', 'product_tmpl_name', 'currency',  'key']].sample(20)"
   ]
  },
  {
   "cell_type": "code",
   "execution_count": 23,
   "metadata": {},
   "outputs": [],
   "source": [
    "# 利用表连接, 对比pricelist_item和vip_price，找出需要创建或更新的items\n",
    "df_merged = df_vip_pricelist_items.merge(df_odoo_pricelist_items, on='key', how='left')\n",
    "df_merged_filtered = df_merged[df_merged['group_name'].isin(vip_pricelist_names_in_odoo)].copy()\n",
    "df_merged_filtered['action'] = df_merged_filtered['pricelist_id'].isna()\n",
    "df_merged_filtered['action'] = df_merged_filtered['action'].map({True: 'create', False: 'update'})\n",
    "df_merged_filtered.to_excel('temp/vip_odoo_pricelist_items.xlsx', index=False)"
   ]
  },
  {
   "cell_type": "code",
   "execution_count": null,
   "metadata": {},
   "outputs": [],
   "source": [
    "# 获取所有的odoo product templates, 并建立映射\n",
    "domain = [('active', '=', True)]\n",
    "product_templates = client.client.search_read('product.template', [domain], {'fields': ['id', 'name', 'default_code']})\n",
    "print(f\"Total number of product templates: {len(product_templates)}\")\n",
    "print(product_templates)\n",
    "map_product_template_code_to_object = {pt['default_code']: pt for pt in product_templates}\n",
    "print(map_product_template_code_to_object)"
   ]
  },
  {
   "cell_type": "code",
   "execution_count": null,
   "metadata": {},
   "outputs": [],
   "source": [
    "import time \n",
    "# 更新价格表items\n",
    "debug = True\n",
    "df_pricelist_items_update = df_merged_filtered[df_merged_filtered['action'] == 'update'].copy()\n",
    "print(f\"Total number of pricelist items to update: {len(df_pricelist_items_update)}\")\n",
    "# df_pricelist_items_update = df_pricelist_items_update[df_pricelist_items_update['pricelist_id'] == 23]\n",
    "for i, row in enumerate(df_pricelist_items_update.itertuples()):\n",
    "    pricelist_item_id = int(row.id)\n",
    "    update_vals = {        \n",
    "        'fixed_price': row.custom_price,\n",
    "        'min_quantity': row.min_quantity_x,\n",
    "        'compute_price': 'fixed',\n",
    "    }\n",
    "    print(f\"{i+1}. Updating Pricelist: {row.group_name}\")\n",
    "    print(f\" ** Pricelist Item ID: {pricelist_item_id}\")\n",
    "    print(f\" ** Update Values: {update_vals}\")\n",
    "    if not debug:\n",
    "        client.client.write('product.pricelist.item', [[pricelist_item_id], update_vals])\n",
    "        time.sleep(0.2)\n"
   ]
  },
  {
   "cell_type": "code",
   "execution_count": null,
   "metadata": {},
   "outputs": [],
   "source": [
    "# 创建价格表items\n",
    "\n",
    "df_pricelist_items_create = df_merged_filtered[df_merged_filtered['action'] == 'create'].copy()\n",
    "print(f\"Total number of pricelist items to create: {len(df_pricelist_items_create)}\")\n",
    "products_not_found = []\n",
    "# df_pricelist_items_create = df_pricelist_items_create[df_pricelist_items_create['group_name'] == 'Gesundheits- und Pflegezentrum Goldenherz']\n",
    "for i, row in enumerate(df_pricelist_items_create.itertuples()):\n",
    "    try:       \n",
    "        product_template_obj = map_product_template_code_to_object[row.internal_reference]    \n",
    "    except KeyError:\n",
    "        print(f\"Product template not found for {row.internal_reference}\")\n",
    "        products_not_found.append(row.internal_reference)\n",
    "        continue\n",
    "\n",
    "    pricelist_obj = map_pricelist_name_to_object[row.group_name]\n",
    "    new_item_vals = {\n",
    "        'pricelist_id': pricelist_obj['id'],   # Zahnarztpraxis am Siemersplatz\n",
    "        'product_tmpl_id': product_template_obj['id'],   # Deppe, product_tmpl     \n",
    "        'fixed_price': row.custom_price,\n",
    "        'min_quantity': row.min_quantity_x,     \n",
    "        'compute_price': 'fixed',    # 固定价格\n",
    "    }\n",
    "\n",
    "    print(f\"{i+1}. Creating item in Pricelist: {row.group_name}\")\n",
    "    print(f\" ** Product: [{product_template_obj['default_code']}] {product_template_obj['name']}\")\n",
    "    print(f\" ** New Item Values: {new_item_vals}\")\n",
    "    if not debug:\n",
    "        client.client.create('product.pricelist.item', [new_item_vals])\n",
    "        time.sleep(0.2)\n",
    "\n"
   ]
  },
  {
   "cell_type": "code",
   "execution_count": null,
   "metadata": {},
   "outputs": [],
   "source": [
    "print(f\"Total number of products not found: {len(products_not_found)}\")\n",
    "print(products_not_found)\n"
   ]
  }
 ],
 "metadata": {
  "kernelspec": {
   "display_name": "venv",
   "language": "python",
   "name": "python3"
  },
  "language_info": {
   "codemirror_mode": {
    "name": "ipython",
    "version": 3
   },
   "file_extension": ".py",
   "mimetype": "text/x-python",
   "name": "python",
   "nbconvert_exporter": "python",
   "pygments_lexer": "ipython3",
   "version": "3.12.2"
  }
 },
 "nbformat": 4,
 "nbformat_minor": 2
}
